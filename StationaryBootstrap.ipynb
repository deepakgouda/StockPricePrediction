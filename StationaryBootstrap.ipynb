{
 "cells": [
  {
   "cell_type": "code",
   "execution_count": 1,
   "metadata": {},
   "outputs": [
    {
     "data": {
      "text/plain": [
       "'\\nResample stationary time series by using Stationary Bootstrap Method (Boris Radovanov and Aleksandra Marcikić)\\nand subsequently generate confidence bands.\\n\\nDeepak Kumar Gouda\\n6 November, 2018\\n'"
      ]
     },
     "execution_count": 1,
     "metadata": {},
     "output_type": "execute_result"
    }
   ],
   "source": [
    "'''\n",
    "Resample stationary time series by using Stationary Bootstrap Method (Boris Radovanov and Aleksandra Marcikić)\n",
    "and subsequently generate confidence bands.\n",
    "\n",
    "Deepak Kumar Gouda\n",
    "6 November, 2018\n",
    "'''"
   ]
  },
  {
   "cell_type": "code",
   "execution_count": 2,
   "metadata": {},
   "outputs": [],
   "source": [
    "import numpy as np\n",
    "from numpy.random import randint, geometric\n",
    "from math import factorial, sqrt\n",
    "import matplotlib.pyplot as plt\n",
    "from pandas import read_csv"
   ]
  },
  {
   "cell_type": "code",
   "execution_count": 3,
   "metadata": {},
   "outputs": [
    {
     "name": "stderr",
     "output_type": "stream",
     "text": [
      "Using TensorFlow backend.\n"
     ]
    }
   ],
   "source": [
    "from keras.models import Sequential, load_model\n",
    "from keras.layers import Dense, Dropout\n",
    "from keras.layers import LSTM\n",
    "from sklearn.preprocessing import MinMaxScaler\n",
    "from sklearn.metrics import mean_squared_error\n",
    "from keras.callbacks import TensorBoard, EarlyStopping"
   ]
  },
  {
   "cell_type": "code",
   "execution_count": 4,
   "metadata": {},
   "outputs": [],
   "source": [
    "from time import time\n",
    "import itertools"
   ]
  },
  {
   "cell_type": "code",
   "execution_count": 5,
   "metadata": {},
   "outputs": [],
   "source": [
    "# Generate X and Y pairs where dim of X = (1, look_back)\n",
    "def create_dataset(dataset, look_back = 1):\n",
    "    dataX, dataY = [], []\n",
    "    for i in range(len(dataset)-look_back-1):\n",
    "        a = dataset[i:(i+look_back), :]\n",
    "        dataX.append(a)\n",
    "        dataY.append(dataset[i + look_back, :])\n",
    "    return np.array(dataX), np.array(dataY)"
   ]
  },
  {
   "cell_type": "code",
   "execution_count": 6,
   "metadata": {},
   "outputs": [],
   "source": [
    "# Arrange blocks of data according to permutation\n",
    "def arrange_data(data, perm):\n",
    "    arranged_data = []\n",
    "    for i in perm:\n",
    "        arranged_data.append(data[i])\n",
    "    return arranged_data"
   ]
  },
  {
   "cell_type": "code",
   "execution_count": 7,
   "metadata": {},
   "outputs": [],
   "source": [
    "def data_resample(data, blockSize, overlap = 0):\n",
    "    n = len(data) # 100\n",
    "    numBlocks = (n-overlap)//(blockSize-overlap) # 20\n",
    "    resampled_data = []\n",
    "    i = 0\n",
    "    while (i+blockSize) <= len(data):\n",
    "        x = data[i: (i+blockSize)]\n",
    "        indx = randint(0, blockSize, size = blockSize)\n",
    "        y = [x[j] for j in indx]\n",
    "        resampled_data.append(y)\n",
    "        i = i + blockSize - overlap\n",
    "    return resampled_data"
   ]
  },
  {
   "cell_type": "code",
   "execution_count": 8,
   "metadata": {},
   "outputs": [],
   "source": [
    "def block_resample(data, blockSize, overlap = 0):\n",
    "    n = len(data) # 100\n",
    "    numBlocks = (n-overlap)//(blockSize-overlap) # 20\n",
    "    I = randint(1, len(data), size=(numBlocks, 1))\n",
    "    L = geometric(0.0027, size=(numBlocks, 1))\n",
    "    resampled_data = []\n",
    "    \n",
    "    for i in range(numBlocks):\n",
    "#         print(I[i], I[i]+L[i])\n",
    "        if I[i]+L[i] < len(data):\n",
    "            x = data[int(I[i]): int(I[i]+L[i])]\n",
    "        else:\n",
    "            x = data[int(I[i]):]\n",
    "            x1 = data[: int(L[i]-(len(data)-I[i]))]\n",
    "            x = x.reshape((len(x), 1))\n",
    "            x1 = x1.reshape((len(x1), 1))\n",
    "            np.vstack((x, x1))\n",
    "#         print(x)\n",
    "        x = np.reshape(x, (len(x), 1))\n",
    "        resampled_data.append(x)\n",
    "    print(len(resampled_data))\n",
    "    return resampled_data"
   ]
  },
  {
   "cell_type": "code",
   "execution_count": 9,
   "metadata": {},
   "outputs": [
    {
     "ename": "NameError",
     "evalue": "name 'data' is not defined",
     "output_type": "error",
     "traceback": [
      "\u001b[0;31m---------------------------------------------------------------------------\u001b[0m",
      "\u001b[0;31mNameError\u001b[0m                                 Traceback (most recent call last)",
      "\u001b[0;32m<ipython-input-9-f47bdeb55d92>\u001b[0m in \u001b[0;36m<module>\u001b[0;34m()\u001b[0m\n\u001b[0;32m----> 1\u001b[0;31m \u001b[0mblock_resample\u001b[0m\u001b[0;34m(\u001b[0m\u001b[0mdata\u001b[0m\u001b[0;34m,\u001b[0m \u001b[0;36m200\u001b[0m\u001b[0;34m)\u001b[0m\u001b[0;34m\u001b[0m\u001b[0m\n\u001b[0m",
      "\u001b[0;31mNameError\u001b[0m: name 'data' is not defined"
     ]
    }
   ],
   "source": [
    "block_resample(data, 200)"
   ]
  },
  {
   "cell_type": "code",
   "execution_count": 150,
   "metadata": {},
   "outputs": [
    {
     "name": "stdout",
     "output_type": "stream",
     "text": [
      "       open     close\n",
      "0  390.4551  393.0777\n",
      "1  389.5892  391.6012\n",
      "2  391.2659  390.7403\n",
      "3  390.4551  391.8214\n",
      "4  390.2549  394.3039\n",
      "(1259, 1)\n"
     ]
    }
   ],
   "source": [
    "fields = ['open', 'close']\n",
    "dataframe = read_csv('GOOGL_data.csv', skipinitialspace = True, squeeze = True, usecols = fields)\n",
    "\n",
    "print(dataframe.head())\n",
    "rawdata = np.array(dataframe)\n",
    "print(data.shape)"
   ]
  },
  {
   "cell_type": "code",
   "execution_count": 151,
   "metadata": {},
   "outputs": [],
   "source": [
    "data = rawdata[:,1] - rawdata[:,0]\n",
    "# data = np.reshape(data, (len(data), 1))\n",
    "data = data.reshape((len(data), 1))\n",
    "# data = data.reshape((-1, 1))"
   ]
  },
  {
   "cell_type": "code",
   "execution_count": 152,
   "metadata": {},
   "outputs": [
    {
     "name": "stdout",
     "output_type": "stream",
     "text": [
      "[[0.46061351]\n",
      " [0.4537273 ]\n",
      " [0.42510883]\n",
      " [0.44644525]\n",
      " [0.47670012]]\n"
     ]
    }
   ],
   "source": [
    "# Scale between (0, 1)\n",
    "scaler = MinMaxScaler(feature_range=(0, 1))\n",
    "data = scaler.fit_transform(data)\n",
    "print(data[:5])"
   ]
  },
  {
   "cell_type": "code",
   "execution_count": 153,
   "metadata": {},
   "outputs": [
    {
     "name": "stdout",
     "output_type": "stream",
     "text": [
      "906\n",
      "353\n"
     ]
    }
   ],
   "source": [
    "split = 0.72\n",
    "trainSize = int(len(data)*split)\n",
    "testSize = len(data)-trainSize\n",
    "print(trainSize)\n",
    "print(testSize)"
   ]
  },
  {
   "cell_type": "code",
   "execution_count": 154,
   "metadata": {},
   "outputs": [
    {
     "name": "stdout",
     "output_type": "stream",
     "text": [
      "[[0.46061351]\n",
      " [0.4537273 ]\n",
      " [0.42510883]\n",
      " [0.44644525]\n",
      " [0.47670012]]\n"
     ]
    }
   ],
   "source": [
    "train = data[0:trainSize,:]\n",
    "test = data[trainSize:len(data),:]\n",
    "rawtrain = rawdata[0:trainSize,:]\n",
    "rawtest = rawdata[trainSize:len(data),:]\n",
    "print(train[:5])"
   ]
  },
  {
   "cell_type": "code",
   "execution_count": 155,
   "metadata": {},
   "outputs": [],
   "source": [
    "# l = block size\n",
    "blockSize = 300\n",
    "overlap = 0\n",
    "numBlocks = (len(train) - overlap)//(blockSize - overlap)\n",
    "# print(blockSize)"
   ]
  },
  {
   "cell_type": "code",
   "execution_count": 156,
   "metadata": {},
   "outputs": [
    {
     "data": {
      "text/plain": [
       "3"
      ]
     },
     "execution_count": 156,
     "metadata": {},
     "output_type": "execute_result"
    }
   ],
   "source": [
    "numBlocks"
   ]
  },
  {
   "cell_type": "code",
   "execution_count": 157,
   "metadata": {},
   "outputs": [
    {
     "data": {
      "text/plain": [
       "array([[471],\n",
       "       [ 28],\n",
       "       [487]])"
      ]
     },
     "execution_count": 157,
     "metadata": {},
     "output_type": "execute_result"
    }
   ],
   "source": [
    "randint(1, len(data), size=(len(data), 1))\n",
    "geometric(0.0027, size=(numBlocks, 1))"
   ]
  },
  {
   "cell_type": "code",
   "execution_count": 158,
   "metadata": {},
   "outputs": [
    {
     "name": "stdout",
     "output_type": "stream",
     "text": [
      "(3, 1)\n"
     ]
    },
    {
     "data": {
      "text/plain": [
       "array([[1],\n",
       "       [2],\n",
       "       [3],\n",
       "       [4],\n",
       "       [5],\n",
       "       [6],\n",
       "       [7],\n",
       "       [8],\n",
       "       [9]])"
      ]
     },
     "execution_count": 158,
     "metadata": {},
     "output_type": "execute_result"
    }
   ],
   "source": [
    "A = np.array([[[1], [2], [3]], [[4], [5], [6]], [[7], [8], [9]]])\n",
    "print(A[0].shape)\n",
    "B = np.reshape(A, (A.shape[0]*A[0].shape[0], A[0].shape[1]))\n",
    "B"
   ]
  },
  {
   "cell_type": "code",
   "execution_count": 159,
   "metadata": {},
   "outputs": [],
   "source": [
    "rawPrice = rawtest[:, 0]\n",
    "rawPrice = np.reshape(rawPrice, (len(rawPrice), 1))\n",
    "rawPrice = rawPrice[4:]"
   ]
  },
  {
   "cell_type": "code",
   "execution_count": 160,
   "metadata": {},
   "outputs": [
    {
     "data": {
      "text/plain": [
       "(349, 1)"
      ]
     },
     "execution_count": 160,
     "metadata": {},
     "output_type": "execute_result"
    }
   ],
   "source": [
    "rawprice.shape"
   ]
  },
  {
   "cell_type": "code",
   "execution_count": 165,
   "metadata": {},
   "outputs": [
    {
     "name": "stdout",
     "output_type": "stream",
     "text": [
      "Count = 1/6\n",
      "3\n",
      "(558, 3, 1)\n",
      "(558, 1)\n",
      "Train Score: 8.51 RMSE\n",
      "Test Score: 8.40 RMSE\n",
      "Count = 2/6\n",
      "3\n",
      "(811, 3, 1)\n",
      "(811, 1)\n",
      "Train Score: 7.11 RMSE\n",
      "Test Score: 8.40 RMSE\n",
      "Count = 3/6\n",
      "3\n",
      "(389, 3, 1)\n",
      "(389, 1)\n",
      "Train Score: 6.57 RMSE\n",
      "Test Score: 8.40 RMSE\n",
      "Count = 4/6\n",
      "3\n",
      "(448, 3, 1)\n",
      "(448, 1)\n",
      "Train Score: 8.75 RMSE\n",
      "Test Score: 8.40 RMSE\n",
      "Count = 5/6\n",
      "3\n",
      "(334, 3, 1)\n",
      "(334, 1)\n",
      "Train Score: 8.74 RMSE\n",
      "Test Score: 8.40 RMSE\n",
      "Count = 6/6\n",
      "3\n",
      "(697, 3, 1)\n",
      "(697, 1)\n",
      "Train Score: 7.03 RMSE\n",
      "Test Score: 8.40 RMSE\n"
     ]
    }
   ],
   "source": [
    "# Generate all permutations of the series 0, 1, 2, ... numBlocks\n",
    "permutations = itertools.permutations(range(numBlocks))\n",
    "testBand = []\n",
    "count = 1\n",
    "suffix = \"B\"\n",
    "\n",
    "totalCount = factorial(numBlocks)\n",
    "for perm in permutations:\n",
    "#     print(\"Count = %d/%d\" % (count, totalCount))\n",
    "    count += 1\n",
    "    trainResample = block_resample(train, blockSize)\n",
    "#     print(len(trainResample))\n",
    "    suffix = \"B\"\n",
    "    trainSet = np.array(arrange_data(trainResample, perm))\n",
    "#     print(trainSet[0].shape)\n",
    "#     trainSet = np.reshape(trainSet, (trainSet.shape[0]*trainSet[0].shape[0], trainSet[0].shape[1]))\n",
    "#     trainSet = np.reshape(trainSet, (trainSet.shape[0]*trainSet[0].shape[0], 1))\n",
    "#     trainSet = np.reshape(trainSet, (trainSet.shape[0], 1))\n",
    "#     print(trainSet.shape)\n",
    "    flattenTrainSet = []\n",
    "    for i in trainSet:\n",
    "        for j in i:\n",
    "            flattenTrainSet.append(j)\n",
    "            \n",
    "    trainSet = flattenTrainSet\n",
    "\n",
    "\n",
    "# test.shape\n",
    "    trainSet = np.reshape(trainSet, (len(trainSet), 1))\n",
    "\n",
    "    shuffleData = np.vstack((trainSet, test))\n",
    "\n",
    "    lookBack = 3\n",
    "    trainX, trainY = create_dataset(trainSet, lookBack)\n",
    "    testX, testY = create_dataset(test, lookBack)\n",
    "#     print(trainX.shape)\n",
    "#     print(trainY.shape)\n",
    "\n",
    "#     trainX = np.reshape(trainX, (trainX.shape[0], 3, 1))\n",
    "#     testX = np.reshape(testX, (testX.shape[0], 3, 1))\n",
    "\n",
    "    units = 100\n",
    "    drop = 0.2\n",
    "    epoch = 10\n",
    "\n",
    "    model = load_model(\"./Models/StationaryBootstrap/\"+str(numBlocks)+\"_\"+str(epoch)+\"_\"+suffix+\".h5\")\n",
    "    \n",
    "#     model = Sequential()\n",
    "#     model.add(LSTM(units, input_shape=(lookBack, 1)))\n",
    "#     model.add(Dense(1))\n",
    "#     model.compile(loss='mean_squared_error', optimizer='nadam')\n",
    "#     Tensorboard\n",
    "#     model.summary()\n",
    "#     tensorboard = TensorBoard(log_dir=\"logs/{}\".format(time()))\n",
    "#     model.fit(trainX, trainY, epochs=epoch, batch_size=1, verbose=1, \n",
    "#               callbacks=[EarlyStopping(monitor='loss', patience=2), tensorboard])\n",
    "#     model.fit(trainX, trainY, epochs=epoch, batch_size=1, verbose=1)\n",
    "\n",
    "    trainPredict = model.predict(trainX)\n",
    "    testPredict = model.predict(testX)\n",
    "\n",
    "#     Inverse the scaling\n",
    "    trainPredict = scaler.inverse_transform(trainPredict)\n",
    "    trainY = scaler.inverse_transform(trainY)\n",
    "    testPredict = scaler.inverse_transform(testPredict)\n",
    "    testY = scaler.inverse_transform(testY)\n",
    "\n",
    "#     RMSE score\n",
    "    trainScore = sqrt(mean_squared_error(trainY, trainPredict))\n",
    "    print('Train Score: %.2f RMSE' % (trainScore))\n",
    "    testScore = sqrt(mean_squared_error(testY, testPredict))\n",
    "    print('Test Score: %.2f RMSE' % (testScore))\n",
    "\n",
    "#     Plot training data\n",
    "#     trainPredictPlot = np.empty_like(shuffleData)\n",
    "#     trainPredictPlot[:, :] = np.nan\n",
    "#     trainPredictPlot[lookBack:len(trainPredict)+lookBack, :] = trainPredict\n",
    "    \n",
    "#     Plot test data\n",
    "#     testPredictPlot = np.empty_like(shuffleData)\n",
    "#     testPredictPlot[:, :] = np.nan\n",
    "#     testPredictPlot[len(trainPredict)+(lookBack*2)+1:len(data)-1, :] = testPredict\n",
    "    \n",
    "#     Append results to calculate the test band\n",
    "    testBand.append(testPredict+rawPrice)\n",
    "#     plt.plot(scaler.inverse_transform(shuffleData)[:,col])\n",
    "#     plt.plot(trainPredictPlot[:,col], color = 'orange')\n",
    "#     plt.plot(testPredictPlot[:,col], color = 'green')"
   ]
  },
  {
   "cell_type": "code",
   "execution_count": 101,
   "metadata": {},
   "outputs": [],
   "source": [
    "model.save(\"./Models/StationaryBootstrap/\"+str(numBlocks)+\"_\"+str(epoch)+\"_\"+suffix+\".h5\")"
   ]
  },
  {
   "cell_type": "code",
   "execution_count": 166,
   "metadata": {},
   "outputs": [
    {
     "data": {
      "text/plain": [
       "Text(0.5,1,'Epoch=10 numBlocks=3 Overlap=0 Train=7.03 Test=8.40')"
      ]
     },
     "execution_count": 166,
     "metadata": {},
     "output_type": "execute_result"
    },
    {
     "data": {
      "image/png": "[encoded data removed]",
      "text/plain": [
       "<Figure size 432x288 with 1 Axes>"
      ]
     },
     "metadata": {},
     "output_type": "display_data"
    }
   ],
   "source": [
    "col = 0\n",
    "testPlot = np.empty_like(trainSet)\n",
    "testPlot[:, :] = 0\n",
    "\n",
    "testPlot = np.vstack((testPlot, rawPrice))\n",
    "testplot = scaler.inverse_transform(testPlot)\n",
    "plt.plot(testPlot[:,col], color = 'blue')\n",
    "plt.title('Epoch=%d numBlocks=%d Overlap=%d Train=%.2f Test=%.2f' % (epoch, numBlocks, overlap, trainScore, testScore))"
   ]
  },
  {
   "cell_type": "code",
   "execution_count": 167,
   "metadata": {},
   "outputs": [
    {
     "data": {
      "text/plain": [
       "array([[ 801.60182273],\n",
       "       [ 802.57089938],\n",
       "       [ 811.02318668],\n",
       "       [ 816.28017069],\n",
       "       [ 811.12243516],\n",
       "       [ 803.27082928],\n",
       "       [ 805.37913461],\n",
       "       [ 808.16306971],\n",
       "       [ 805.00158188],\n",
       "       [ 804.05993788],\n",
       "       [ 806.11854386],\n",
       "       [ 807.20225787],\n",
       "       [ 805.2425427 ],\n",
       "       [ 807.07942229],\n",
       "       [ 804.97792118],\n",
       "       [ 815.33714072],\n",
       "       [ 812.94160052],\n",
       "       [ 807.58673985],\n",
       "       [ 808.60850747],\n",
       "       [ 807.17036687],\n",
       "       [ 815.37565299],\n",
       "       [ 825.62350502],\n",
       "       [ 828.73930984],\n",
       "       [ 821.44149518],\n",
       "       [ 831.48390779],\n",
       "       [ 839.52552271],\n",
       "       [ 828.38373994],\n",
       "       [ 824.49112857],\n",
       "       [ 830.90394551],\n",
       "       [ 823.41957318],\n",
       "       [ 811.90147912],\n",
       "       [ 807.63349552],\n",
       "       [ 785.23251432],\n",
       "       [ 772.29083894],\n",
       "       [ 795.51632829],\n",
       "       [ 802.95798007],\n",
       "       [ 803.29476042],\n",
       "       [ 811.46413946],\n",
       "       [ 778.38062721],\n",
       "       [ 773.29447676],\n",
       "       [ 765.72434098],\n",
       "       [ 771.24985085],\n",
       "       [ 783.00466651],\n",
       "       [ 788.4739546 ],\n",
       "       [ 779.68144057],\n",
       "       [ 790.46262204],\n",
       "       [ 790.36517777],\n",
       "       [ 783.95871984],\n",
       "       [ 779.54509923],\n",
       "       [ 789.22693772],\n",
       "       [ 790.10809491],\n",
       "       [ 779.97658579],\n",
       "       [ 763.27758195],\n",
       "       [ 770.84420002],\n",
       "       [ 780.80654508],\n",
       "       [ 781.07865698],\n",
       "       [ 794.4711978 ],\n",
       "       [ 800.38967113],\n",
       "       [ 806.35163338],\n",
       "       [ 813.71519031],\n",
       "       [ 817.45914881],\n",
       "       [ 818.74743353],\n",
       "       [ 819.63826626],\n",
       "       [ 810.59565595],\n",
       "       [ 814.58896958],\n",
       "       [ 816.62895092],\n",
       "       [ 810.33572874],\n",
       "       [ 809.3326006 ],\n",
       "       [ 809.79669672],\n",
       "       [ 814.53615304],\n",
       "       [ 803.53946157],\n",
       "       [ 804.50644442],\n",
       "       [ 801.55888336],\n",
       "       [ 811.09188272],\n",
       "       [ 808.32933819],\n",
       "       [ 816.3558067 ],\n",
       "       [ 827.55230653],\n",
       "       [ 828.38401229],\n",
       "       [ 828.20320582],\n",
       "       [ 829.71852744],\n",
       "       [ 832.1732583 ],\n",
       "       [ 831.30575693],\n",
       "       [ 831.08338492],\n",
       "       [ 830.23865676],\n",
       "       [ 830.22888371],\n",
       "       [ 832.80198358],\n",
       "       [ 848.04485474],\n",
       "       [ 854.62273495],\n",
       "       [ 860.64652436],\n",
       "       [ 860.38117325],\n",
       "       [ 838.46706778],\n",
       "       [ 820.75469446],\n",
       "       [ 824.78618497],\n",
       "       [ 815.65161997],\n",
       "       [ 824.28718627],\n",
       "       [ 821.84004973],\n",
       "       [ 826.75790787],\n",
       "       [ 831.67553511],\n",
       "       [ 832.92375944],\n",
       "       [ 834.29634674],\n",
       "       [ 838.93811758],\n",
       "       [ 840.91811158],\n",
       "       [ 840.06718641],\n",
       "       [ 839.77346206],\n",
       "       [ 842.55475312],\n",
       "       [ 849.14221822],\n",
       "       [ 849.29254401],\n",
       "       [ 852.48957296],\n",
       "       [ 848.93586888],\n",
       "       [ 846.28672786],\n",
       "       [ 848.59378324],\n",
       "       [ 852.57631743],\n",
       "       [ 857.69194752],\n",
       "       [ 850.09080702],\n",
       "       [ 848.25827335],\n",
       "       [ 848.31336225],\n",
       "       [ 854.28264307],\n",
       "       [ 854.90097839],\n",
       "       [ 864.04266829],\n",
       "       [ 862.0753953 ],\n",
       "       [ 865.11140156],\n",
       "       [ 869.13169295],\n",
       "       [ 871.84434   ],\n",
       "       [ 874.99737363],\n",
       "       [ 870.73390959],\n",
       "       [ 871.27120572],\n",
       "       [ 850.65855406],\n",
       "       [ 842.6204647 ],\n",
       "       [ 842.53433472],\n",
       "       [ 829.14510366],\n",
       "       [ 840.88632268],\n",
       "       [ 843.67065489],\n",
       "       [ 853.45962224],\n",
       "       [ 848.1258287 ],\n",
       "       [ 850.21479213],\n",
       "       [ 849.19387567],\n",
       "       [ 855.89176746],\n",
       "       [ 850.95309615],\n",
       "       [ 846.46341276],\n",
       "       [ 842.63021819],\n",
       "       [ 842.73639686],\n",
       "       [ 839.5438865 ],\n",
       "       [ 842.24611084],\n",
       "       [ 842.52440143],\n",
       "       [ 853.84190933],\n",
       "       [ 858.51720334],\n",
       "       [ 861.37164937],\n",
       "       [ 862.0083425 ],\n",
       "       [ 869.64046628],\n",
       "       [ 883.4892676 ],\n",
       "       [ 892.49601544],\n",
       "       [ 891.49453962],\n",
       "       [ 930.53035176],\n",
       "       [ 925.34475043],\n",
       "       [ 934.53560569],\n",
       "       [ 937.08613794],\n",
       "       [ 951.72075848],\n",
       "       [ 958.05615434],\n",
       "       [ 949.0634342 ],\n",
       "       [ 962.83081301],\n",
       "       [ 957.20111695],\n",
       "       [ 952.8265802 ],\n",
       "       [ 959.02275894],\n",
       "       [ 956.39799468],\n",
       "       [ 964.91583316],\n",
       "       [ 960.84879346],\n",
       "       [ 944.51351542],\n",
       "       [ 954.17981858],\n",
       "       [ 957.60508955],\n",
       "       [ 971.24181517],\n",
       "       [ 976.55824674],\n",
       "       [ 980.45467377],\n",
       "       [ 993.28537214],\n",
       "       [ 993.71991825],\n",
       "       [ 997.8437688 ],\n",
       "       [ 992.3084925 ],\n",
       "       [ 989.97920403],\n",
       "       [ 998.8536786 ],\n",
       "       [1004.32050234],\n",
       "       [1000.21844251],\n",
       "       [1005.73818586],\n",
       "       [1006.52910816],\n",
       "       [ 959.96701512],\n",
       "       [ 973.38842908],\n",
       "       [ 975.48189446],\n",
       "       [ 949.01556124],\n",
       "       [ 959.14092449],\n",
       "       [ 970.53810366],\n",
       "       [ 976.83780426],\n",
       "       [ 972.10295526],\n",
       "       [ 978.30237841],\n",
       "       [ 976.51642168],\n",
       "       [ 991.40962851],\n",
       "       [ 962.81316648],\n",
       "       [ 952.28611592],\n",
       "       [ 952.11665634],\n",
       "       [ 944.55026626],\n",
       "       [ 934.69773015],\n",
       "       [ 925.11946042],\n",
       "       [ 925.666857  ],\n",
       "       [ 931.58069788],\n",
       "       [ 943.2853616 ],\n",
       "       [ 951.83363702],\n",
       "       [ 962.35534559],\n",
       "       [ 972.3709126 ],\n",
       "       [ 975.35199666],\n",
       "       [ 977.79026753],\n",
       "       [ 974.55811964],\n",
       "       [ 991.30533982],\n",
       "       [ 998.14848423],\n",
       "       [ 990.62353671],\n",
       "       [ 995.5498378 ],\n",
       "       [ 971.75943751],\n",
       "       [ 974.08633831],\n",
       "       [ 970.58333652],\n",
       "       [ 949.2263497 ],\n",
       "       [ 961.02156937],\n",
       "       [ 948.35427868],\n",
       "       [ 949.81969511],\n",
       "       [ 949.93324915],\n",
       "       [ 945.00027306],\n",
       "       [ 948.74286475],\n",
       "       [ 945.20367322],\n",
       "       [ 939.65655739],\n",
       "       [ 936.17722213],\n",
       "       [ 924.90032145],\n",
       "       [ 940.39005322],\n",
       "       [ 941.85261813],\n",
       "       [ 942.56872129],\n",
       "       [ 944.23433096],\n",
       "       [ 928.08506153],\n",
       "       [ 927.12167956],\n",
       "       [ 927.70011964],\n",
       "       [ 938.07507098],\n",
       "       [ 944.68295135],\n",
       "       [ 940.77236386],\n",
       "       [ 933.42823399],\n",
       "       [ 921.03378613],\n",
       "       [ 936.55790286],\n",
       "       [ 947.22773169],\n",
       "       [ 959.09812948],\n",
       "       [ 948.40768169],\n",
       "       [ 945.46887099],\n",
       "       [ 945.39397597],\n",
       "       [ 950.70248218],\n",
       "       [ 948.28039045],\n",
       "       [ 948.33991067],\n",
       "       [ 946.51460624],\n",
       "       [ 947.01812088],\n",
       "       [ 941.2379795 ],\n",
       "       [ 936.41152895],\n",
       "       [ 934.50298491],\n",
       "       [ 938.76281093],\n",
       "       [ 949.11653418],\n",
       "       [ 943.9951215 ],\n",
       "       [ 941.01038451],\n",
       "       [ 937.9718073 ],\n",
       "       [ 943.99321198],\n",
       "       [ 957.3000828 ],\n",
       "       [ 967.09087348],\n",
       "       [ 977.35298827],\n",
       "       [ 969.14586156],\n",
       "       [ 973.33909656],\n",
       "       [ 973.78284732],\n",
       "       [ 981.31209373],\n",
       "       [ 996.02168572],\n",
       "       [ 996.77692418],\n",
       "       [ 990.80734018],\n",
       "       [1005.126955  ],\n",
       "       [1009.96108656],\n",
       "       [1011.28686488],\n",
       "       [1008.86626345],\n",
       "       [1012.24505167],\n",
       "       [1005.92870462],\n",
       "       [1008.36981802],\n",
       "       [1006.49812418],\n",
       "       [ 987.64823318],\n",
       "       [ 987.4708574 ],\n",
       "       [ 999.00285486],\n",
       "       [1032.06863307],\n",
       "       [1030.59520069],\n",
       "       [1034.01884234],\n",
       "       [1037.53980989],\n",
       "       [1041.3577094 ],\n",
       "       [1043.96800768],\n",
       "       [1050.50090001],\n",
       "       [1050.97492876],\n",
       "       [1051.5559185 ],\n",
       "       [1049.05693758],\n",
       "       [1045.07251429],\n",
       "       [1042.30387573],\n",
       "       [1038.9991065 ],\n",
       "       [1036.22212744],\n",
       "       [1039.96170247],\n",
       "       [1051.13869922],\n",
       "       [1037.23933852],\n",
       "       [1041.64071552],\n",
       "       [1052.00845454],\n",
       "       [1055.38546611],\n",
       "       [1060.09473629],\n",
       "       [1075.30937408],\n",
       "       [1057.39039176],\n",
       "       [1041.64986164],\n",
       "       [1031.46866849],\n",
       "       [1028.30747293],\n",
       "       [1011.9367265 ],\n",
       "       [1017.5911863 ],\n",
       "       [1036.66751064],\n",
       "       [1053.06080466],\n",
       "       [1052.85106777],\n",
       "       [1051.64036202],\n",
       "       [1053.28865297],\n",
       "       [1056.71994673],\n",
       "       [1064.96909264],\n",
       "       [1077.62422557],\n",
       "       [1084.24795427],\n",
       "       [1082.3628165 ],\n",
       "       [1076.97025932],\n",
       "       [1071.22409081],\n",
       "       [1069.60886599],\n",
       "       [1067.60990772],\n",
       "       [1063.40390408],\n",
       "       [1056.63679563],\n",
       "       [1054.03217246],\n",
       "       [1074.89485454],\n",
       "       [1098.05975386],\n",
       "       [1105.15136571],\n",
       "       [1112.94444275],\n",
       "       [1119.72449476],\n",
       "       [1108.40509117],\n",
       "       [1113.71913165],\n",
       "       [1111.1453341 ],\n",
       "       [1141.57912558],\n",
       "       [1137.46176623],\n",
       "       [1141.2479758 ],\n",
       "       [1139.09354666],\n",
       "       [1145.05526096],\n",
       "       [1171.7221837 ],\n",
       "       [1186.20913814],\n",
       "       [1182.56721934],\n",
       "       [1189.1694397 ],\n",
       "       [1188.80601746],\n",
       "       [1178.86043498],\n",
       "       [1185.04900557],\n",
       "       [1177.1606475 ],\n",
       "       [1128.62088375],\n",
       "       [1101.74270545],\n",
       "       [1035.40072988],\n",
       "       [1086.0672923 ]])"
      ]
     },
     "execution_count": 167,
     "metadata": {},
     "output_type": "execute_result"
    }
   ],
   "source": [
    "rawprice+testPredict"
   ]
  },
  {
   "cell_type": "code",
   "execution_count": 168,
   "metadata": {},
   "outputs": [],
   "source": [
    "testBand = np.array(testBand)\n",
    "testBand = np.reshape(testBand, (testBand.shape))"
   ]
  },
  {
   "cell_type": "code",
   "execution_count": 169,
   "metadata": {},
   "outputs": [
    {
     "data": {
      "text/plain": [
       "(6, 349, 1)"
      ]
     },
     "execution_count": 169,
     "metadata": {},
     "output_type": "execute_result"
    }
   ],
   "source": [
    "testBand.shape"
   ]
  },
  {
   "cell_type": "code",
   "execution_count": 170,
   "metadata": {},
   "outputs": [
    {
     "name": "stdout",
     "output_type": "stream",
     "text": [
      "[801.60182273]\n",
      "[0.]\n"
     ]
    }
   ],
   "source": [
    "print(np.mean(testBand[:,0,:], axis = 0))\n",
    "print(np.std(testBand[:,0,:], axis = 0))"
   ]
  },
  {
   "cell_type": "code",
   "execution_count": 171,
   "metadata": {},
   "outputs": [],
   "source": [
    "z_alpha = 1.96\n",
    "n = factorial(numBlocks)\n",
    "\n",
    "confInterval = []\n",
    "\n",
    "# Calculate the 95% confidence interval for each time step\n",
    "for i in range(testBand.shape[1]):\n",
    "    X = testBand[:, i, :]\n",
    "    xBar = np.mean(X, axis = 0)\n",
    "    s = np.std(X, axis = 0)\n",
    "    l = xBar - 1.96*s/(n**0,.5)\n",
    "    r = xBar + 1.96*s/(n**0,.5)\n",
    "    pair = [l, r]\n",
    "    confInterval.append(pair)"
   ]
  },
  {
   "cell_type": "code",
   "execution_count": 174,
   "metadata": {},
   "outputs": [
    {
     "data": {
      "text/plain": [
       "(353,)"
      ]
     },
     "execution_count": 174,
     "metadata": {},
     "output_type": "execute_result"
    }
   ],
   "source": [
    "(scaler.inverse_transform(test)[:, col]).shape\n",
    "# rawPrice.shape"
   ]
  },
  {
   "cell_type": "code",
   "execution_count": 175,
   "metadata": {},
   "outputs": [
    {
     "data": {
      "image/png": "[encoded data removed]",
      "text/plain": [
       "<Figure size 432x288 with 1 Axes>"
      ]
     },
     "metadata": {},
     "output_type": "display_data"
    }
   ],
   "source": [
    "col = 0\n",
    "offset = len(trainPredict)+(lookBack*2)+2\n",
    "lower = []\n",
    "upper = []\n",
    "\n",
    "# Get upper and lower bounds\n",
    "for i in range(len(confInterval)):\n",
    "    lower.append(confInterval[i][0][0])\n",
    "    upper.append(confInterval[i][1][0])\n",
    "\n",
    "# XLower = np.array(range(offset+1, offset+1+testBand.shape[1]))\n",
    "# XUpper = np.array(range(offset+1, offset+1+testBand.shape[1]))\n",
    "# plt.plot(XLower, lower)\n",
    "# plt.plot(XUpper, upper)\n",
    "plt.plot(upper, color='orange', label='upper')\n",
    "plt.plot(rawPrice+scaler.inverse_transform(test)[4:, col], color = 'blue', label='test prediction')\n",
    "plt.plot(lower, color='green', label='lower')\n",
    "plt.legend(loc='upper left')\n",
    "plt.title('NumBlocks=%d Overlap=%d Epochs=%d Train=%.2f Test=%.2f' % (numBlocks, overlap, epoch, trainScore, testScore))\n",
    "plt.savefig(\"./Plots/StationaryBootstrap/\"+str(numBlocks)+\"_\"+str(overlap)+\"_\"+str(epoch)+\"_\"+suffix+\".png\")\n",
    "plt.show()"
   ]
  },
  {
   "cell_type": "code",
   "execution_count": 86,
   "metadata": {},
   "outputs": [],
   "source": [
    "# Sum of the lengths of the confidence intervals at each time point.\n",
    "sumIntervals = np.sum(abs(np.array(upper) - np.array(lower)))"
   ]
  },
  {
   "cell_type": "code",
   "execution_count": 87,
   "metadata": {},
   "outputs": [
    {
     "data": {
      "text/plain": [
       "2108.8150548934937"
      ]
     },
     "execution_count": 87,
     "metadata": {},
     "output_type": "execute_result"
    }
   ],
   "source": [
    "sumIntervals"
   ]
  },
  {
   "cell_type": "code",
   "execution_count": 88,
   "metadata": {},
   "outputs": [],
   "source": [
    "# Length of maximum interval\n",
    "maxInterval = np.max(np.array(upper) - np.array(lower))"
   ]
  },
  {
   "cell_type": "code",
   "execution_count": 89,
   "metadata": {},
   "outputs": [
    {
     "data": {
      "text/plain": [
       "8.107281684875488"
      ]
     },
     "execution_count": 89,
     "metadata": {},
     "output_type": "execute_result"
    }
   ],
   "source": [
    "maxInterval"
   ]
  },
  {
   "cell_type": "code",
   "execution_count": null,
   "metadata": {},
   "outputs": [],
   "source": []
  }
 ],
 "metadata": {
  "kernelspec": {
   "display_name": "Python 3",
   "language": "python",
   "name": "python3"
  },
  "language_info": {
   "codemirror_mode": {
    "name": "ipython",
    "version": 3
   },
   "file_extension": ".py",
   "mimetype": "text/x-python",
   "name": "python",
   "nbconvert_exporter": "python",
   "pygments_lexer": "ipython3",
   "version": "3.5.2"
  }
 },
 "nbformat": 4,
 "nbformat_minor": 2
}
