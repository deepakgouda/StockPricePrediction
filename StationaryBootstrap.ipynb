{
 "cells": [
  {
   "cell_type": "code",
   "execution_count": 117,
   "metadata": {},
   "outputs": [
    {
     "data": {
      "text/plain": [
       "'\\nResample stationary time series by using Stationary Bootstrap Method (Boris Radovanov and Aleksandra Marcikić)\\nand subsequently generate confidence bands.\\n\\nDeepak Kumar Gouda\\n6 November, 2018\\n'"
      ]
     },
     "execution_count": 117,
     "metadata": {},
     "output_type": "execute_result"
    }
   ],
   "source": [
    "'''\n",
    "Resample stationary time series by using Stationary Bootstrap Method (Boris Radovanov and Aleksandra Marcikić)\n",
    "and subsequently generate confidence bands.\n",
    "\n",
    "Deepak Kumar Gouda\n",
    "6 November, 2018\n",
    "'''"
   ]
  },
  {
   "cell_type": "code",
   "execution_count": 118,
   "metadata": {},
   "outputs": [],
   "source": [
    "import numpy as np\n",
    "from numpy.random import randint, geometric\n",
    "from math import factorial, sqrt\n",
    "import matplotlib.pyplot as plt\n",
    "from pandas import read_csv"
   ]
  },
  {
   "cell_type": "code",
   "execution_count": 119,
   "metadata": {},
   "outputs": [],
   "source": [
    "from keras.models import Sequential, load_model\n",
    "from keras.layers import Dense, Dropout\n",
    "from keras.layers import LSTM\n",
    "from sklearn.preprocessing import MinMaxScaler\n",
    "from sklearn.metrics import mean_squared_error\n",
    "from keras.callbacks import TensorBoard, EarlyStopping"
   ]
  },
  {
   "cell_type": "code",
   "execution_count": 120,
   "metadata": {},
   "outputs": [],
   "source": [
    "from time import time\n",
    "import itertools"
   ]
  },
  {
   "cell_type": "code",
   "execution_count": 121,
   "metadata": {},
   "outputs": [],
   "source": [
    "# Generate X and Y pairs where dim of X = (1, look_back)\n",
    "def create_dataset(dataset, look_back = 1):\n",
    "    dataX, dataY = [], []\n",
    "    for i in range(len(dataset)-look_back-1):\n",
    "        a = dataset[i:(i+look_back), :]\n",
    "        dataX.append(a)\n",
    "        dataY.append(dataset[i + look_back, :])\n",
    "    return np.array(dataX), np.array(dataY)"
   ]
  },
  {
   "cell_type": "code",
   "execution_count": 122,
   "metadata": {},
   "outputs": [],
   "source": [
    "# Arrange blocks of data according to permutation\n",
    "def arrange_data(data, perm):\n",
    "    arranged_data = []\n",
    "    for i in perm:\n",
    "        arranged_data.append(data[i])\n",
    "    return arranged_data"
   ]
  },
  {
   "cell_type": "code",
   "execution_count": 123,
   "metadata": {},
   "outputs": [],
   "source": [
    "def data_resample(data, blockSize, overlap = 0):\n",
    "    n = len(data) # 100\n",
    "    numBlocks = (n-overlap)//(blockSize-overlap) # 20\n",
    "    resampled_data = []\n",
    "    i = 0\n",
    "    while (i+blockSize) <= len(data):\n",
    "        x = data[i: (i+blockSize)]\n",
    "        indx = randint(0, blockSize, size = blockSize)\n",
    "        y = [x[j] for j in indx]\n",
    "        resampled_data.append(y)\n",
    "        i = i + blockSize - overlap\n",
    "    return resampled_data"
   ]
  },
  {
   "cell_type": "code",
   "execution_count": 124,
   "metadata": {},
   "outputs": [],
   "source": [
    "def block_resample(data, numBlocks, overlap = 0):\n",
    "    I = randint(1, len(data), size=(numBlocks, 1))\n",
    "    L = geometric(0.0027, size=(numBlocks, 1))\n",
    "    resampled_data = []\n",
    "    \n",
    "    for i in range(numBlocks):\n",
    "        if I[i]+L[i] < len(data):\n",
    "            x = data[int(I[i]): int(I[i]+L[i])]\n",
    "        else:\n",
    "            x = data[int(I[i]):]\n",
    "            x1 = data[: int(L[i]-(len(data)-I[i]))]\n",
    "            x = x.reshape((len(x), 1))\n",
    "            x1 = x1.reshape((len(x1), 1))\n",
    "            np.vstack((x, x1))\n",
    "        x = np.reshape(x, (len(x), 1))\n",
    "        resampled_data.append(x)\n",
    "#     print(len(resampled_data))\n",
    "    return resampled_data"
   ]
  },
  {
   "cell_type": "code",
   "execution_count": 125,
   "metadata": {},
   "outputs": [],
   "source": [
    "# block_resample(data, 3)"
   ]
  },
  {
   "cell_type": "code",
   "execution_count": 126,
   "metadata": {},
   "outputs": [
    {
     "name": "stdout",
     "output_type": "stream",
     "text": [
      "       open     close\n",
      "0  390.4551  393.0777\n",
      "1  389.5892  391.6012\n",
      "2  391.2659  390.7403\n",
      "3  390.4551  391.8214\n",
      "4  390.2549  394.3039\n",
      "(1259, 2)\n"
     ]
    }
   ],
   "source": [
    "fields = ['open', 'close']\n",
    "dataframe = read_csv('GOOGL_data.csv', skipinitialspace = True, squeeze = True, usecols = fields)\n",
    "\n",
    "print(dataframe.head())\n",
    "rawdata = np.array(dataframe)\n",
    "print(rawdata.shape)"
   ]
  },
  {
   "cell_type": "code",
   "execution_count": 127,
   "metadata": {},
   "outputs": [],
   "source": [
    "data = rawdata[:,1] - rawdata[:,0]\n",
    "# data = np.reshape(data, (len(data), 1))\n",
    "data = data.reshape((len(data), 1))\n",
    "# data = data.reshape((-1, 1))"
   ]
  },
  {
   "cell_type": "code",
   "execution_count": 128,
   "metadata": {},
   "outputs": [
    {
     "name": "stdout",
     "output_type": "stream",
     "text": [
      "[[0.46061351]\n",
      " [0.4537273 ]\n",
      " [0.42510883]\n",
      " [0.44644525]\n",
      " [0.47670012]]\n"
     ]
    }
   ],
   "source": [
    "# Scale between (0, 1)\n",
    "scaler = MinMaxScaler(feature_range=(0, 1))\n",
    "data = scaler.fit_transform(data)\n",
    "print(data[:5])"
   ]
  },
  {
   "cell_type": "code",
   "execution_count": 129,
   "metadata": {},
   "outputs": [
    {
     "name": "stdout",
     "output_type": "stream",
     "text": [
      "906\n",
      "353\n"
     ]
    }
   ],
   "source": [
    "split = 0.72\n",
    "trainSize = int(len(data)*split)\n",
    "testSize = len(data)-trainSize\n",
    "print(trainSize)\n",
    "print(testSize)"
   ]
  },
  {
   "cell_type": "code",
   "execution_count": 130,
   "metadata": {},
   "outputs": [
    {
     "name": "stdout",
     "output_type": "stream",
     "text": [
      "[[0.46061351]\n",
      " [0.4537273 ]\n",
      " [0.42510883]\n",
      " [0.44644525]\n",
      " [0.47670012]]\n"
     ]
    }
   ],
   "source": [
    "train = data[0:trainSize,:]\n",
    "test = data[trainSize:len(data),:]\n",
    "rawtrain = rawdata[0:trainSize,:]\n",
    "rawtest = rawdata[trainSize:len(data),:]\n",
    "print(train[:5])"
   ]
  },
  {
   "cell_type": "code",
   "execution_count": 131,
   "metadata": {},
   "outputs": [],
   "source": [
    "numBlocks = 3"
   ]
  },
  {
   "cell_type": "code",
   "execution_count": 132,
   "metadata": {},
   "outputs": [
    {
     "data": {
      "text/plain": [
       "array([[462],\n",
       "       [  9],\n",
       "       [214]])"
      ]
     },
     "execution_count": 132,
     "metadata": {},
     "output_type": "execute_result"
    }
   ],
   "source": [
    "randint(1, len(data), size=(len(data), 1))\n",
    "geometric(0.0027, size=(numBlocks, 1))"
   ]
  },
  {
   "cell_type": "code",
   "execution_count": 133,
   "metadata": {},
   "outputs": [
    {
     "name": "stdout",
     "output_type": "stream",
     "text": [
      "(3, 1)\n"
     ]
    },
    {
     "data": {
      "text/plain": [
       "array([[1],\n",
       "       [2],\n",
       "       [3],\n",
       "       [4],\n",
       "       [5],\n",
       "       [6],\n",
       "       [7],\n",
       "       [8],\n",
       "       [9]])"
      ]
     },
     "execution_count": 133,
     "metadata": {},
     "output_type": "execute_result"
    }
   ],
   "source": [
    "A = np.array([[[1], [2], [3]], [[4], [5], [6]], [[7], [8], [9]]])\n",
    "print(A[0].shape)\n",
    "B = np.reshape(A, (A.shape[0]*A[0].shape[0], A[0].shape[1]))\n",
    "B"
   ]
  },
  {
   "cell_type": "code",
   "execution_count": 134,
   "metadata": {},
   "outputs": [],
   "source": [
    "rawPrice = rawtest[:, 0]\n",
    "rawPrice = np.reshape(rawPrice, (len(rawPrice), 1))\n",
    "rawPrice = rawPrice[4:]"
   ]
  },
  {
   "cell_type": "code",
   "execution_count": 135,
   "metadata": {},
   "outputs": [
    {
     "data": {
      "text/plain": [
       "(349, 1)"
      ]
     },
     "execution_count": 135,
     "metadata": {},
     "output_type": "execute_result"
    }
   ],
   "source": [
    "rawPrice.shape"
   ]
  },
  {
   "cell_type": "code",
   "execution_count": 136,
   "metadata": {},
   "outputs": [
    {
     "name": "stdout",
     "output_type": "stream",
     "text": [
      "Count = 1/6\n",
      "Epoch 1/5\n",
      "763/763 [==============================] - 5s 7ms/step - loss: 0.0093\n",
      "Epoch 2/5\n",
      "763/763 [==============================] - 4s 6ms/step - loss: 0.0077\n",
      "Epoch 3/5\n",
      "763/763 [==============================] - 4s 6ms/step - loss: 0.0076\n",
      "Epoch 4/5\n",
      "763/763 [==============================] - 4s 6ms/step - loss: 0.0074\n",
      "Epoch 5/5\n",
      "763/763 [==============================] - 4s 5ms/step - loss: 0.0073\n",
      "Train Score: 7.46 RMSE\n",
      "Test Score: 8.43 RMSE\n",
      "Count = 2/6\n",
      "Epoch 1/5\n",
      "912/912 [==============================] - 6s 6ms/step - loss: 0.0082\n",
      "Epoch 2/5\n",
      "912/912 [==============================] - 5s 6ms/step - loss: 0.0071\n",
      "Epoch 3/5\n",
      "912/912 [==============================] - 5s 6ms/step - loss: 0.0068\n",
      "Epoch 4/5\n",
      "912/912 [==============================] - 5s 6ms/step - loss: 0.0067\n",
      "Epoch 5/5\n",
      "912/912 [==============================] - 5s 6ms/step - loss: 0.0067\n",
      "Train Score: 7.04 RMSE\n",
      "Test Score: 8.39 RMSE\n",
      "Count = 3/6\n",
      "Epoch 1/5\n",
      "963/963 [==============================] - 6s 6ms/step - loss: 0.0099\n",
      "Epoch 2/5\n",
      "963/963 [==============================] - 6s 6ms/step - loss: 0.0089\n",
      "Epoch 3/5\n",
      "963/963 [==============================] - 6s 6ms/step - loss: 0.0085\n",
      "Epoch 4/5\n",
      "963/963 [==============================] - 5s 6ms/step - loss: 0.0083\n",
      "Epoch 5/5\n",
      "963/963 [==============================] - 5s 5ms/step - loss: 0.0082\n",
      "Train Score: 7.99 RMSE\n",
      "Test Score: 8.61 RMSE\n",
      "Count = 4/6\n",
      "Epoch 1/5\n",
      "1160/1160 [==============================] - 7s 6ms/step - loss: 0.0082\n",
      "Epoch 2/5\n",
      "1160/1160 [==============================] - 6s 6ms/step - loss: 0.0072\n",
      "Epoch 3/5\n",
      "1160/1160 [==============================] - 7s 6ms/step - loss: 0.0069\n",
      "Epoch 4/5\n",
      "1160/1160 [==============================] - 7s 6ms/step - loss: 0.0069\n",
      "Epoch 5/5\n",
      "1160/1160 [==============================] - 6s 6ms/step - loss: 0.0068\n",
      "Train Score: 8.01 RMSE\n",
      "Test Score: 9.31 RMSE\n",
      "Count = 5/6\n",
      "Epoch 1/5\n",
      "955/955 [==============================] - 6s 6ms/step - loss: 0.0094\n",
      "Epoch 2/5\n",
      "955/955 [==============================] - 6s 6ms/step - loss: 0.0078\n",
      "Epoch 3/5\n",
      "955/955 [==============================] - 5s 6ms/step - loss: 0.0075\n",
      "Epoch 4/5\n",
      "955/955 [==============================] - 6s 6ms/step - loss: 0.0075\n",
      "Epoch 5/5\n",
      "955/955 [==============================] - 6s 6ms/step - loss: 0.0074\n",
      "Train Score: 7.86 RMSE\n",
      "Test Score: 8.67 RMSE\n",
      "Count = 6/6\n",
      "Epoch 1/5\n",
      "699/699 [==============================] - 5s 7ms/step - loss: 0.0098\n",
      "Epoch 2/5\n",
      "699/699 [==============================] - 4s 6ms/step - loss: 0.0082\n",
      "Epoch 3/5\n",
      "699/699 [==============================] - 4s 6ms/step - loss: 0.0081\n",
      "Epoch 4/5\n",
      "699/699 [==============================] - 4s 6ms/step - loss: 0.0078\n",
      "Epoch 5/5\n",
      "699/699 [==============================] - 4s 6ms/step - loss: 0.0078\n",
      "Train Score: 7.71 RMSE\n",
      "Test Score: 8.64 RMSE\n"
     ]
    }
   ],
   "source": [
    "# Generate all permutations of the series 0, 1, 2, ... numBlocks\n",
    "permutations = itertools.permutations(range(numBlocks))\n",
    "testBand = []\n",
    "count = 1\n",
    "suffix = \"B\"\n",
    "\n",
    "totalCount = factorial(numBlocks)\n",
    "for perm in permutations:\n",
    "    print(\"Count = %d/%d\" % (count, totalCount))\n",
    "    count += 1\n",
    "    trainResample = block_resample(train, numBlocks)\n",
    "#     print(len(trainResample))\n",
    "    suffix = \"B\"\n",
    "    trainSet = np.array(arrange_data(trainResample, perm))\n",
    "#     print(trainSet[0].shape)\n",
    "#     trainSet = np.reshape(trainSet, (trainSet.shape[0]*trainSet[0].shape[0], trainSet[0].shape[1]))\n",
    "#     trainSet = np.reshape(trainSet, (trainSet.shape[0]*trainSet[0].shape[0], 1))\n",
    "#     trainSet = np.reshape(trainSet, (trainSet.shape[0], 1))\n",
    "#     print(trainSet.shape)\n",
    "    flattenTrainSet = []\n",
    "    for i in trainSet:\n",
    "        for j in i:\n",
    "            flattenTrainSet.append(j)\n",
    "            \n",
    "    trainSet = flattenTrainSet\n",
    "\n",
    "\n",
    "# test.shape\n",
    "    trainSet = np.reshape(trainSet, (len(trainSet), 1))\n",
    "\n",
    "    shuffleData = np.vstack((trainSet, test))\n",
    "\n",
    "    lookBack = 3\n",
    "    trainX, trainY = create_dataset(trainSet, lookBack)\n",
    "    testX, testY = create_dataset(test, lookBack)\n",
    "#     print(trainX.shape)\n",
    "#     print(trainY.shape)\n",
    "\n",
    "#     trainX = np.reshape(trainX, (trainX.shape[0], 3, 1))\n",
    "#     testX = np.reshape(testX, (testX.shape[0], 3, 1))\n",
    "\n",
    "    units = 100\n",
    "    drop = 0.0\n",
    "    epoch = 5\n",
    "\n",
    "#     model = load_model(\"./Models/StationaryBootstrap/\"+str(numBlocks)+\"_\"+str(epoch)+\"_\"+str(100*drop)+\"_\"+suffix+\".h5\")\n",
    "    \n",
    "    model = Sequential()\n",
    "    model.add(LSTM(units, input_shape=(lookBack, 1)))\n",
    "    model.add(Dense(1))\n",
    "    model.compile(loss='mean_squared_error', optimizer='nadam')\n",
    "#     Tensorboard\n",
    "#     model.summary()\n",
    "    tensorboard = TensorBoard(log_dir=\"logs/{}\".format(time()))\n",
    "    model.fit(trainX, trainY, epochs=epoch, batch_size=1, verbose=1, \n",
    "              callbacks=[EarlyStopping(monitor='loss', patience=2), tensorboard])\n",
    "#     model.fit(trainX, trainY, epochs=epoch, batch_size=1, verbose=1)\n",
    "\n",
    "    trainPredict = model.predict(trainX)\n",
    "    testPredict = model.predict(testX)\n",
    "\n",
    "#     Inverse the scaling\n",
    "    trainPredict = scaler.inverse_transform(trainPredict)\n",
    "    trainY = scaler.inverse_transform(trainY)\n",
    "    testPredict = scaler.inverse_transform(testPredict)\n",
    "    testY = scaler.inverse_transform(testY)\n",
    "\n",
    "#     RMSE score\n",
    "    trainScore = sqrt(mean_squared_error(trainY, trainPredict))\n",
    "    print('Train Score: %.2f RMSE' % (trainScore))\n",
    "    testScore = sqrt(mean_squared_error(testY, testPredict))\n",
    "    print('Test Score: %.2f RMSE' % (testScore))\n",
    "\n",
    "#     Plot training data\n",
    "#     trainPredictPlot = np.empty_like(shuffleData)\n",
    "#     trainPredictPlot[:, :] = np.nan\n",
    "#     trainPredictPlot[lookBack:len(trainPredict)+lookBack, :] = trainPredict\n",
    "    \n",
    "#     Plot test data\n",
    "#     testPredictPlot = np.empty_like(shuffleData)\n",
    "#     testPredictPlot[:, :] = np.nan\n",
    "#     testPredictPlot[len(trainPredict)+(lookBack*2)+1:len(data)-1, :] = testPredict\n",
    "    \n",
    "#     Append results to calculate the test band\n",
    "    testBand.append(testPredict+rawPrice)\n",
    "#     plt.plot(scaler.inverse_transform(shuffleData)[:,col])\n",
    "#     plt.plot(trainPredictPlot[:,col], color = 'orange')\n",
    "#     plt.plot(testPredictPlot[:,col], color = 'green')"
   ]
  },
  {
   "cell_type": "code",
   "execution_count": 137,
   "metadata": {},
   "outputs": [],
   "source": [
    "model.save(\"./Models/StationaryBootstrap/\"+str(numBlocks)+\"_\"+str(epoch)+\"_\"+str(100*drop)+\"_\"+suffix+\".h5\")"
   ]
  },
  {
   "cell_type": "code",
   "execution_count": 138,
   "metadata": {},
   "outputs": [
    {
     "data": {
      "text/plain": [
       "Text(0.5,1,'Epoch=5 numBlocks=3 Train=7.71 Test=8.64')"
      ]
     },
     "execution_count": 138,
     "metadata": {},
     "output_type": "execute_result"
    },
    {
     "data": {
      "image/png": "[encoded data removed]",
      "text/plain": [
       "<Figure size 432x288 with 1 Axes>"
      ]
     },
     "metadata": {},
     "output_type": "display_data"
    }
   ],
   "source": [
    "col = 0\n",
    "testPlot = np.empty_like(trainSet)\n",
    "testPlot[:, :] = 0\n",
    "\n",
    "testPlot = np.vstack((testPlot, rawPrice))\n",
    "testplot = scaler.inverse_transform(testPlot)\n",
    "plt.plot(testPlot[:,col], color = 'blue')\n",
    "plt.title('Epoch=%d numBlocks=%d Train=%.2f Test=%.2f' % (epoch, numBlocks, trainScore, testScore))"
   ]
  },
  {
   "cell_type": "code",
   "execution_count": 139,
   "metadata": {},
   "outputs": [
    {
     "data": {
      "text/plain": [
       "array([[ 798.99723244],\n",
       "       [ 799.43987442],\n",
       "       [ 807.60761499],\n",
       "       [ 813.13262166],\n",
       "       [ 808.27178974],\n",
       "       [ 800.45706101],\n",
       "       [ 802.1896983 ],\n",
       "       [ 804.86610721],\n",
       "       [ 802.29473732],\n",
       "       [ 801.23538785],\n",
       "       [ 802.86576247],\n",
       "       [ 803.99044967],\n",
       "       [ 801.97628935],\n",
       "       [ 803.72844022],\n",
       "       [ 801.57622808],\n",
       "       [ 811.99907295],\n",
       "       [ 809.7502801 ],\n",
       "       [ 804.77101607],\n",
       "       [ 805.40237541],\n",
       "       [ 803.93155145],\n",
       "       [ 812.09710904],\n",
       "       [ 822.34906771],\n",
       "       [ 825.74606865],\n",
       "       [ 818.70018101],\n",
       "       [ 828.46010789],\n",
       "       [ 836.23117638],\n",
       "       [ 825.46625602],\n",
       "       [ 821.49317301],\n",
       "       [ 827.29533381],\n",
       "       [ 819.81290644],\n",
       "       [ 808.24706637],\n",
       "       [ 803.70534397],\n",
       "       [ 781.26298547],\n",
       "       [ 768.40363936],\n",
       "       [ 791.39454765],\n",
       "       [ 799.66128185],\n",
       "       [ 800.71027751],\n",
       "       [ 808.96737146],\n",
       "       [ 775.86013674],\n",
       "       [ 769.96165443],\n",
       "       [ 761.13075277],\n",
       "       [ 767.13779752],\n",
       "       [ 779.11290598],\n",
       "       [ 785.72975473],\n",
       "       [ 777.17532048],\n",
       "       [ 787.42626726],\n",
       "       [ 786.8907664 ],\n",
       "       [ 780.91580878],\n",
       "       [ 776.13069806],\n",
       "       [ 785.5023278 ],\n",
       "       [ 786.86599479],\n",
       "       [ 777.17308657],\n",
       "       [ 760.05907204],\n",
       "       [ 766.84681845],\n",
       "       [ 776.86536306],\n",
       "       [ 778.03375347],\n",
       "       [ 791.67462475],\n",
       "       [ 797.40497868],\n",
       "       [ 803.73246939],\n",
       "       [ 811.02920093],\n",
       "       [ 814.87314908],\n",
       "       [ 815.9463812 ],\n",
       "       [ 816.71936065],\n",
       "       [ 807.56268099],\n",
       "       [ 811.25119507],\n",
       "       [ 813.13999221],\n",
       "       [ 807.2746527 ],\n",
       "       [ 806.26390339],\n",
       "       [ 806.53837388],\n",
       "       [ 811.3804359 ],\n",
       "       [ 800.42943449],\n",
       "       [ 801.27088996],\n",
       "       [ 798.04725945],\n",
       "       [ 807.6729442 ],\n",
       "       [ 804.8448534 ],\n",
       "       [ 813.38437199],\n",
       "       [ 824.52720642],\n",
       "       [ 825.66925592],\n",
       "       [ 825.62084221],\n",
       "       [ 826.74252904],\n",
       "       [ 829.06449449],\n",
       "       [ 828.33016276],\n",
       "       [ 828.04713838],\n",
       "       [ 827.07323074],\n",
       "       [ 826.96479997],\n",
       "       [ 829.51513158],\n",
       "       [ 844.6709616 ],\n",
       "       [ 851.63199883],\n",
       "       [ 858.12997143],\n",
       "       [ 857.6281867 ],\n",
       "       [ 835.55547148],\n",
       "       [ 817.34382391],\n",
       "       [ 820.72413969],\n",
       "       [ 811.71182799],\n",
       "       [ 820.85071171],\n",
       "       [ 818.3719515 ],\n",
       "       [ 823.60551775],\n",
       "       [ 828.46311644],\n",
       "       [ 829.8542007 ],\n",
       "       [ 831.33313043],\n",
       "       [ 835.79644842],\n",
       "       [ 837.73630168],\n",
       "       [ 837.02422255],\n",
       "       [ 836.73020482],\n",
       "       [ 839.42479843],\n",
       "       [ 846.0143274 ],\n",
       "       [ 846.40735233],\n",
       "       [ 849.66925641],\n",
       "       [ 845.99577513],\n",
       "       [ 843.32479055],\n",
       "       [ 845.50696335],\n",
       "       [ 849.53956891],\n",
       "       [ 854.73439687],\n",
       "       [ 847.01282388],\n",
       "       [ 845.22374462],\n",
       "       [ 844.9595182 ],\n",
       "       [ 851.07878625],\n",
       "       [ 851.86297196],\n",
       "       [ 861.10442431],\n",
       "       [ 859.09747572],\n",
       "       [ 862.1531347 ],\n",
       "       [ 866.06688029],\n",
       "       [ 868.90767625],\n",
       "       [ 872.02337568],\n",
       "       [ 867.64247046],\n",
       "       [ 868.09724957],\n",
       "       [ 847.43047808],\n",
       "       [ 839.04462613],\n",
       "       [ 838.44303346],\n",
       "       [ 825.73118075],\n",
       "       [ 837.55339998],\n",
       "       [ 840.39634442],\n",
       "       [ 850.73171638],\n",
       "       [ 845.31034537],\n",
       "       [ 847.37479901],\n",
       "       [ 846.06238568],\n",
       "       [ 852.9224573 ],\n",
       "       [ 848.28272963],\n",
       "       [ 843.54203355],\n",
       "       [ 839.2118452 ],\n",
       "       [ 839.26705141],\n",
       "       [ 836.22130152],\n",
       "       [ 839.04950253],\n",
       "       [ 839.36729968],\n",
       "       [ 850.80821029],\n",
       "       [ 855.64894522],\n",
       "       [ 858.87701397],\n",
       "       [ 859.112311  ],\n",
       "       [ 866.49466402],\n",
       "       [ 880.33094765],\n",
       "       [ 889.49154855],\n",
       "       [ 888.9395504 ],\n",
       "       [ 927.79538751],\n",
       "       [ 922.22605839],\n",
       "       [ 931.35827233],\n",
       "       [ 933.93190317],\n",
       "       [ 948.99710456],\n",
       "       [ 955.4470242 ],\n",
       "       [ 946.62208087],\n",
       "       [ 959.95054968],\n",
       "       [ 954.0475404 ],\n",
       "       [ 950.04033176],\n",
       "       [ 955.8076869 ],\n",
       "       [ 953.22709087],\n",
       "       [ 961.92731159],\n",
       "       [ 957.72862942],\n",
       "       [ 941.54610271],\n",
       "       [ 950.83940155],\n",
       "       [ 953.8045373 ],\n",
       "       [ 968.25335701],\n",
       "       [ 973.74021853],\n",
       "       [ 977.68016088],\n",
       "       [ 990.31969821],\n",
       "       [ 990.94803202],\n",
       "       [ 995.34652247],\n",
       "       [ 989.47591444],\n",
       "       [ 986.86846348],\n",
       "       [ 995.29918946],\n",
       "       [1001.08531242],\n",
       "       [ 997.50697345],\n",
       "       [1002.85980402],\n",
       "       [1003.22545194],\n",
       "       [ 956.87611768],\n",
       "       [ 969.69491176],\n",
       "       [ 970.70476389],\n",
       "       [ 945.53935816],\n",
       "       [ 955.84251371],\n",
       "       [ 967.26772013],\n",
       "       [ 974.17529946],\n",
       "       [ 969.27131263],\n",
       "       [ 975.32058477],\n",
       "       [ 973.31728172],\n",
       "       [ 988.54790545],\n",
       "       [ 959.97523973],\n",
       "       [ 949.31977073],\n",
       "       [ 948.04918323],\n",
       "       [ 940.73108911],\n",
       "       [ 931.62495288],\n",
       "       [ 921.24307175],\n",
       "       [ 921.41018367],\n",
       "       [ 927.75459181],\n",
       "       [ 940.3955322 ],\n",
       "       [ 949.1166661 ],\n",
       "       [ 959.87214188],\n",
       "       [ 969.83214085],\n",
       "       [ 972.60506952],\n",
       "       [ 974.97269399],\n",
       "       [ 971.48360346],\n",
       "       [ 988.27499689],\n",
       "       [ 995.29859984],\n",
       "       [ 988.15192866],\n",
       "       [ 992.63959715],\n",
       "       [ 968.53450079],\n",
       "       [ 971.19188169],\n",
       "       [ 967.67798727],\n",
       "       [ 945.93910908],\n",
       "       [ 957.21703219],\n",
       "       [ 944.53090507],\n",
       "       [ 946.68977212],\n",
       "       [ 946.2486001 ],\n",
       "       [ 941.60251207],\n",
       "       [ 945.40066649],\n",
       "       [ 941.6866372 ],\n",
       "       [ 936.46025832],\n",
       "       [ 932.98729444],\n",
       "       [ 921.77088471],\n",
       "       [ 937.12676222],\n",
       "       [ 938.33319071],\n",
       "       [ 939.57885206],\n",
       "       [ 941.12863238],\n",
       "       [ 924.8720033 ],\n",
       "       [ 923.81699004],\n",
       "       [ 923.8789024 ],\n",
       "       [ 934.61069083],\n",
       "       [ 941.57215806],\n",
       "       [ 938.28998729],\n",
       "       [ 930.60658551],\n",
       "       [ 917.50399704],\n",
       "       [ 932.85406868],\n",
       "       [ 944.11067538],\n",
       "       [ 956.77863321],\n",
       "       [ 946.00798594],\n",
       "       [ 942.7484436 ],\n",
       "       [ 942.03405404],\n",
       "       [ 947.21106071],\n",
       "       [ 945.09728308],\n",
       "       [ 945.29270284],\n",
       "       [ 943.00415301],\n",
       "       [ 943.58706617],\n",
       "       [ 938.1344479 ],\n",
       "       [ 933.39615358],\n",
       "       [ 931.07931891],\n",
       "       [ 935.23030541],\n",
       "       [ 945.74010408],\n",
       "       [ 941.13794627],\n",
       "       [ 938.35814078],\n",
       "       [ 934.95570511],\n",
       "       [ 940.78192686],\n",
       "       [ 953.94956589],\n",
       "       [ 964.25522995],\n",
       "       [ 975.15861776],\n",
       "       [ 966.76713198],\n",
       "       [ 970.5246544 ],\n",
       "       [ 970.4648631 ],\n",
       "       [ 978.18963611],\n",
       "       [ 992.95927262],\n",
       "       [ 994.39997571],\n",
       "       [ 988.40015278],\n",
       "       [1001.92291316],\n",
       "       [1006.7670785 ],\n",
       "       [1008.8442458 ],\n",
       "       [1006.01842708],\n",
       "       [1009.07581251],\n",
       "       [1002.8342979 ],\n",
       "       [1005.42910318],\n",
       "       [1003.43866532],\n",
       "       [ 984.36875391],\n",
       "       [ 983.85825016],\n",
       "       [ 994.95136139],\n",
       "       [1028.86866354],\n",
       "       [1027.60000924],\n",
       "       [1030.68281198],\n",
       "       [1034.51257462],\n",
       "       [1038.44418394],\n",
       "       [1041.00951624],\n",
       "       [1047.71165476],\n",
       "       [1048.19835987],\n",
       "       [1048.67777448],\n",
       "       [1045.77990532],\n",
       "       [1042.13753914],\n",
       "       [1039.57778268],\n",
       "       [1035.97142467],\n",
       "       [1033.107283  ],\n",
       "       [1036.92567277],\n",
       "       [1048.21812873],\n",
       "       [1034.40801823],\n",
       "       [1038.72399262],\n",
       "       [1048.34080783],\n",
       "       [1052.20209707],\n",
       "       [1057.42598171],\n",
       "       [1072.39028608],\n",
       "       [1054.62208097],\n",
       "       [1038.96413917],\n",
       "       [1027.69359866],\n",
       "       [1024.05610065],\n",
       "       [1008.27483009],\n",
       "       [1013.87127473],\n",
       "       [1032.87623388],\n",
       "       [1050.4288637 ],\n",
       "       [1050.70995031],\n",
       "       [1049.06197023],\n",
       "       [1050.17725702],\n",
       "       [1053.57288145],\n",
       "       [1061.77983597],\n",
       "       [1074.48136182],\n",
       "       [1081.35288991],\n",
       "       [1079.7915359 ],\n",
       "       [1074.27961112],\n",
       "       [1067.92768312],\n",
       "       [1066.00506367],\n",
       "       [1064.14552507],\n",
       "       [1060.10691524],\n",
       "       [1053.24321531],\n",
       "       [1050.447809  ],\n",
       "       [1071.34265655],\n",
       "       [1095.14035138],\n",
       "       [1103.22557038],\n",
       "       [1110.82927272],\n",
       "       [1116.89891416],\n",
       "       [1105.62772167],\n",
       "       [1110.72345668],\n",
       "       [1107.85540876],\n",
       "       [1138.51244193],\n",
       "       [1134.75768052],\n",
       "       [1138.86519775],\n",
       "       [1135.85852864],\n",
       "       [1141.86057384],\n",
       "       [1168.57500731],\n",
       "       [1183.67445717],\n",
       "       [1180.51186397],\n",
       "       [1186.32076302],\n",
       "       [1185.1401968 ],\n",
       "       [1175.61396405],\n",
       "       [1181.91021138],\n",
       "       [1173.95301961],\n",
       "       [1125.4234827 ],\n",
       "       [1098.638566  ],\n",
       "       [1032.35634432],\n",
       "       [1081.97761366]])"
      ]
     },
     "execution_count": 139,
     "metadata": {},
     "output_type": "execute_result"
    }
   ],
   "source": [
    "rawPrice+testPredict"
   ]
  },
  {
   "cell_type": "code",
   "execution_count": 140,
   "metadata": {},
   "outputs": [],
   "source": [
    "testBand = np.array(testBand)\n",
    "testBand = np.reshape(testBand, (testBand.shape))"
   ]
  },
  {
   "cell_type": "code",
   "execution_count": 141,
   "metadata": {},
   "outputs": [
    {
     "data": {
      "text/plain": [
       "(6, 349, 1)"
      ]
     },
     "execution_count": 141,
     "metadata": {},
     "output_type": "execute_result"
    }
   ],
   "source": [
    "testBand.shape"
   ]
  },
  {
   "cell_type": "code",
   "execution_count": 142,
   "metadata": {},
   "outputs": [
    {
     "name": "stdout",
     "output_type": "stream",
     "text": [
      "[800.28280323]\n",
      "[2.11609882]\n"
     ]
    }
   ],
   "source": [
    "print(np.mean(testBand[:,0,:], axis = 0))\n",
    "print(np.std(testBand[:,0,:], axis = 0))"
   ]
  },
  {
   "cell_type": "code",
   "execution_count": 143,
   "metadata": {},
   "outputs": [],
   "source": [
    "z_alpha = 1.96\n",
    "n = factorial(numBlocks)\n",
    "\n",
    "confInterval = []\n",
    "\n",
    "# Calculate the 95% confidence interval for each time step\n",
    "for i in range(testBand.shape[1]):\n",
    "    X = testBand[:, i, :]\n",
    "    xBar = np.mean(X, axis = 0)\n",
    "    s = np.std(X, axis = 0)\n",
    "    l = xBar - 1.96*s/(n**0,.5)\n",
    "    r = xBar + 1.96*s/(n**0,.5)\n",
    "    pair = [l, r]\n",
    "    confInterval.append(pair)"
   ]
  },
  {
   "cell_type": "code",
   "execution_count": 144,
   "metadata": {},
   "outputs": [
    {
     "data": {
      "text/plain": [
       "(353,)"
      ]
     },
     "execution_count": 144,
     "metadata": {},
     "output_type": "execute_result"
    }
   ],
   "source": [
    "(scaler.inverse_transform(test)[:, col]).shape\n",
    "# rawPrice.shape"
   ]
  },
  {
   "cell_type": "code",
   "execution_count": 145,
   "metadata": {},
   "outputs": [
    {
     "data": {
      "image/png": "[encoded data removed]",
      "text/plain": [
       "<Figure size 432x288 with 1 Axes>"
      ]
     },
     "metadata": {},
     "output_type": "display_data"
    }
   ],
   "source": [
    "col = 0\n",
    "offset = len(trainPredict)+(lookBack*2)+2\n",
    "lower = []\n",
    "upper = []\n",
    "\n",
    "# Get upper and lower bounds\n",
    "for i in range(len(confInterval)):\n",
    "    lower.append(confInterval[i][0][0])\n",
    "    upper.append(confInterval[i][1][0])\n",
    "\n",
    "# XLower = np.array(range(offset+1, offset+1+testBand.shape[1]))\n",
    "# XUpper = np.array(range(offset+1, offset+1+testBand.shape[1]))\n",
    "# plt.plot(XLower, lower)\n",
    "# plt.plot(XUpper, upper)\n",
    "plt.plot(upper, color='orange', label='upper')\n",
    "plt.plot(rawPrice+scaler.inverse_transform(test)[4:], color = 'blue', label='test prediction')\n",
    "plt.plot(lower, color='green', label='lower')\n",
    "plt.legend(loc='upper left')\n",
    "plt.title('NumBlocks=%d Epochs=%d Train=%.2f Test=%.2f' % (numBlocks, epoch, trainScore, testScore))\n",
    "plt.savefig(\"./Plots/StationaryBootstrap/\"+str(numBlocks)+\"_\"+\"_\"+str(epoch)+\"_\"+str(100*drop)+\"_\"+suffix+\".png\")\n",
    "plt.show()"
   ]
  },
  {
   "cell_type": "code",
   "execution_count": 146,
   "metadata": {},
   "outputs": [],
   "source": [
    "# Sum of the lengths of the confidence intervals at each time point.\n",
    "sumIntervals = np.sum(abs(np.array(upper) - np.array(lower)))"
   ]
  },
  {
   "cell_type": "code",
   "execution_count": 147,
   "metadata": {},
   "outputs": [
    {
     "data": {
      "text/plain": [
       "3059.642150378673"
      ]
     },
     "execution_count": 147,
     "metadata": {},
     "output_type": "execute_result"
    }
   ],
   "source": [
    "sumIntervals"
   ]
  },
  {
   "cell_type": "code",
   "execution_count": 148,
   "metadata": {},
   "outputs": [],
   "source": [
    "# Length of maximum interval\n",
    "maxInterval = np.max(np.array(upper) - np.array(lower))"
   ]
  },
  {
   "cell_type": "code",
   "execution_count": 149,
   "metadata": {},
   "outputs": [
    {
     "data": {
      "text/plain": [
       "10.931904758822839"
      ]
     },
     "execution_count": 149,
     "metadata": {},
     "output_type": "execute_result"
    }
   ],
   "source": [
    "maxInterval"
   ]
  },
  {
   "cell_type": "code",
   "execution_count": null,
   "metadata": {},
   "outputs": [],
   "source": []
  }
 ],
 "metadata": {
  "kernelspec": {
   "display_name": "Python 3",
   "language": "python",
   "name": "python3"
  },
  "language_info": {
   "codemirror_mode": {
    "name": "ipython",
    "version": 3
   },
   "file_extension": ".py",
   "mimetype": "text/x-python",
   "name": "python",
   "nbconvert_exporter": "python",
   "pygments_lexer": "ipython3",
   "version": "3.5.2"
  }
 },
 "nbformat": 4,
 "nbformat_minor": 2
}
