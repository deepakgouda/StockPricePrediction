{
 "cells": [
  {
   "cell_type": "code",
   "execution_count": 1,
   "metadata": {},
   "outputs": [
    {
     "data": {
      "text/plain": [
       "'\\nResample stationary time series by using Stationary Bootstrap Method (Boris Radovanov and Aleksandra Marcikić)\\nand subsequently generate confidence bands.\\n\\nDeepak Kumar Gouda\\n6 November, 2018\\n'"
      ]
     },
     "execution_count": 1,
     "metadata": {},
     "output_type": "execute_result"
    }
   ],
   "source": [
    "'''\n",
    "Resample stationary time series by using Stationary Bootstrap Method (Boris Radovanov and Aleksandra Marcikić)\n",
    "and subsequently generate confidence bands.\n",
    "\n",
    "Deepak Kumar Gouda\n",
    "6 November, 2018\n",
    "'''"
   ]
  },
  {
   "cell_type": "code",
   "execution_count": 2,
   "metadata": {},
   "outputs": [],
   "source": [
    "import numpy as np\n",
    "from numpy.random import randint, geometric\n",
    "from math import factorial, sqrt\n",
    "import matplotlib.pyplot as plt\n",
    "from pandas import read_csv"
   ]
  },
  {
   "cell_type": "code",
   "execution_count": 3,
   "metadata": {},
   "outputs": [
    {
     "name": "stderr",
     "output_type": "stream",
     "text": [
      "Using TensorFlow backend.\n"
     ]
    }
   ],
   "source": [
    "from keras.models import Sequential, load_model\n",
    "from keras.layers import Dense, Dropout\n",
    "from keras.layers import LSTM\n",
    "from sklearn.preprocessing import MinMaxScaler\n",
    "from sklearn.metrics import mean_squared_error\n",
    "from keras.callbacks import TensorBoard, EarlyStopping"
   ]
  },
  {
   "cell_type": "code",
   "execution_count": 4,
   "metadata": {},
   "outputs": [],
   "source": [
    "from time import time\n",
    "import itertools"
   ]
  },
  {
   "cell_type": "code",
   "execution_count": 5,
   "metadata": {},
   "outputs": [],
   "source": [
    "# Generate X and Y pairs where dim of X = (1, look_back)\n",
    "def create_dataset(dataset, look_back = 1):\n",
    "    dataX, dataY = [], []\n",
    "    for i in range(len(dataset)-look_back-1):\n",
    "        a = dataset[i:(i+look_back), :]\n",
    "        dataX.append(a)\n",
    "        dataY.append(dataset[i + look_back, :])\n",
    "    return np.array(dataX), np.array(dataY)"
   ]
  },
  {
   "cell_type": "code",
   "execution_count": 6,
   "metadata": {},
   "outputs": [],
   "source": [
    "# Arrange blocks of data according to permutation\n",
    "def arrange_data(data, perm):\n",
    "    arranged_data = []\n",
    "    for i in perm:\n",
    "        arranged_data.append(data[i])\n",
    "    return arranged_data"
   ]
  },
  {
   "cell_type": "code",
   "execution_count": 7,
   "metadata": {},
   "outputs": [],
   "source": [
    "def data_resample(data, blockSize, overlap = 0):\n",
    "    n = len(data) # 100\n",
    "    numBlocks = (n-overlap)//(blockSize-overlap) # 20\n",
    "    resampled_data = []\n",
    "    i = 0\n",
    "    while (i+blockSize) <= len(data):\n",
    "        x = data[i: (i+blockSize)]\n",
    "        indx = randint(0, blockSize, size = blockSize)\n",
    "        y = [x[j] for j in indx]\n",
    "        resampled_data.append(y)\n",
    "        i = i + blockSize - overlap\n",
    "    return resampled_data"
   ]
  },
  {
   "cell_type": "code",
   "execution_count": 8,
   "metadata": {},
   "outputs": [],
   "source": [
    "def block_resample(data, blockSize, overlap = 0):\n",
    "    n = len(data) # 100\n",
    "    numBlocks = (n-overlap)//(blockSize-overlap) # 20\n",
    "    I = randint(1, len(data), size=(numBlocks, 1))\n",
    "    L = geometric(0.0027, size=(numBlocks, 1))\n",
    "    resampled_data = []\n",
    "    \n",
    "    for i in range(numBlocks):\n",
    "#         print(I[i], I[i]+L[i])\n",
    "        if I[i]+L[i] < len(data):\n",
    "            x = data[int(I[i]): int(I[i]+L[i])]\n",
    "        else:\n",
    "            x = data[int(I[i]):]\n",
    "            x1 = data[: int(L[i]-(len(data)-I[i]))]\n",
    "            x = x.reshape((len(x), 1))\n",
    "            x1 = x1.reshape((len(x1), 1))\n",
    "            np.vstack((x, x1))\n",
    "#         print(x)\n",
    "        x = np.reshape(x, (len(x), 1))\n",
    "        resampled_data.append(x)\n",
    "    print(len(resampled_data))\n",
    "    return resampled_data"
   ]
  },
  {
   "cell_type": "code",
   "execution_count": 9,
   "metadata": {},
   "outputs": [
    {
     "ename": "NameError",
     "evalue": "name 'data' is not defined",
     "output_type": "error",
     "traceback": [
      "\u001b[0;31m---------------------------------------------------------------------------\u001b[0m",
      "\u001b[0;31mNameError\u001b[0m                                 Traceback (most recent call last)",
      "\u001b[0;32m<ipython-input-9-f47bdeb55d92>\u001b[0m in \u001b[0;36m<module>\u001b[0;34m()\u001b[0m\n\u001b[0;32m----> 1\u001b[0;31m \u001b[0mblock_resample\u001b[0m\u001b[0;34m(\u001b[0m\u001b[0mdata\u001b[0m\u001b[0;34m,\u001b[0m \u001b[0;36m200\u001b[0m\u001b[0;34m)\u001b[0m\u001b[0;34m\u001b[0m\u001b[0m\n\u001b[0m",
      "\u001b[0;31mNameError\u001b[0m: name 'data' is not defined"
     ]
    }
   ],
   "source": [
    "block_resample(data, 200)"
   ]
  },
  {
   "cell_type": "code",
   "execution_count": 66,
   "metadata": {},
   "outputs": [
    {
     "name": "stdout",
     "output_type": "stream",
     "text": [
      "       open     close\n",
      "0  390.4551  393.0777\n",
      "1  389.5892  391.6012\n",
      "2  391.2659  390.7403\n",
      "3  390.4551  391.8214\n",
      "4  390.2549  394.3039\n",
      "(1259, 2)\n"
     ]
    }
   ],
   "source": [
    "fields = ['open', 'close']\n",
    "dataframe = read_csv('GOOGL_data.csv', skipinitialspace = True, squeeze = True, usecols = fields)\n",
    "\n",
    "print(dataframe.head())\n",
    "data = np.array(dataframe)\n",
    "print(data.shape)"
   ]
  },
  {
   "cell_type": "code",
   "execution_count": 67,
   "metadata": {},
   "outputs": [
    {
     "data": {
      "image/png": "[encoded data removed]",
      "text/plain": [
       "<Figure size 432x288 with 1 Axes>"
      ]
     },
     "metadata": {},
     "output_type": "display_data"
    }
   ],
   "source": [
    "plt.plot(data[:,1] - data[:,0])\n",
    "plt.show()"
   ]
  },
  {
   "cell_type": "code",
   "execution_count": 68,
   "metadata": {},
   "outputs": [],
   "source": [
    "data = data[:,1] - data[:,0]\n",
    "# data = np.reshape(data, (len(data), 1))\n",
    "data = data.reshape((len(data), 1))\n",
    "# data = data.reshape((-1, 1))"
   ]
  },
  {
   "cell_type": "code",
   "execution_count": 69,
   "metadata": {},
   "outputs": [
    {
     "name": "stdout",
     "output_type": "stream",
     "text": [
      "[[0.46061351]\n",
      " [0.4537273 ]\n",
      " [0.42510883]\n",
      " [0.44644525]\n",
      " [0.47670012]]\n"
     ]
    }
   ],
   "source": [
    "# Scale between (0, 1)\n",
    "scaler = MinMaxScaler(feature_range=(0, 1))\n",
    "data = scaler.fit_transform(data)\n",
    "print(data[:5])"
   ]
  },
  {
   "cell_type": "code",
   "execution_count": 70,
   "metadata": {},
   "outputs": [
    {
     "name": "stdout",
     "output_type": "stream",
     "text": [
      "906\n",
      "353\n"
     ]
    }
   ],
   "source": [
    "split = 0.72\n",
    "trainSize = int(len(data)*split)\n",
    "testSize = len(data)-trainSize\n",
    "print(trainSize)\n",
    "print(testSize)"
   ]
  },
  {
   "cell_type": "code",
   "execution_count": 71,
   "metadata": {},
   "outputs": [
    {
     "name": "stdout",
     "output_type": "stream",
     "text": [
      "[[0.46061351]\n",
      " [0.4537273 ]\n",
      " [0.42510883]\n",
      " [0.44644525]\n",
      " [0.47670012]]\n"
     ]
    }
   ],
   "source": [
    "train = data[0:trainSize,:]\n",
    "test = data[trainSize:len(data),:]\n",
    "print(train[:5])"
   ]
  },
  {
   "cell_type": "code",
   "execution_count": 72,
   "metadata": {},
   "outputs": [],
   "source": [
    "# l = block size\n",
    "blockSize = 300\n",
    "overlap = 0\n",
    "numBlocks = (len(train) - overlap)//(blockSize - overlap)\n",
    "# print(blockSize)"
   ]
  },
  {
   "cell_type": "code",
   "execution_count": 73,
   "metadata": {},
   "outputs": [
    {
     "data": {
      "text/plain": [
       "3"
      ]
     },
     "execution_count": 73,
     "metadata": {},
     "output_type": "execute_result"
    }
   ],
   "source": [
    "numBlocks"
   ]
  },
  {
   "cell_type": "code",
   "execution_count": 74,
   "metadata": {},
   "outputs": [
    {
     "data": {
      "text/plain": [
       "array([[590],\n",
       "       [540],\n",
       "       [469]])"
      ]
     },
     "execution_count": 74,
     "metadata": {},
     "output_type": "execute_result"
    }
   ],
   "source": [
    "randint(1, len(data), size=(len(data), 1))\n",
    "geometric(0.0027, size=(numBlocks, 1))"
   ]
  },
  {
   "cell_type": "code",
   "execution_count": 75,
   "metadata": {},
   "outputs": [
    {
     "name": "stdout",
     "output_type": "stream",
     "text": [
      "(3, 1)\n"
     ]
    },
    {
     "data": {
      "text/plain": [
       "array([[1],\n",
       "       [2],\n",
       "       [3],\n",
       "       [4],\n",
       "       [5],\n",
       "       [6],\n",
       "       [7],\n",
       "       [8],\n",
       "       [9]])"
      ]
     },
     "execution_count": 75,
     "metadata": {},
     "output_type": "execute_result"
    }
   ],
   "source": [
    "A = np.array([[[1], [2], [3]], [[4], [5], [6]], [[7], [8], [9]]])\n",
    "print(A[0].shape)\n",
    "B = np.reshape(A, (A.shape[0]*A[0].shape[0], A[0].shape[1]))\n",
    "B"
   ]
  },
  {
   "cell_type": "code",
   "execution_count": 77,
   "metadata": {},
   "outputs": [
    {
     "name": "stdout",
     "output_type": "stream",
     "text": [
      "Count = 1/6\n",
      "3\n",
      "(578, 3, 1)\n",
      "(578, 1)\n",
      "Epoch 1/10\n",
      "578/578 [==============================] - 16s 28ms/step - loss: 0.0102\n",
      "Epoch 2/10\n",
      "578/578 [==============================] - 3s 5ms/step - loss: 0.0077\n",
      "Epoch 3/10\n",
      "578/578 [==============================] - 3s 5ms/step - loss: 0.0073\n",
      "Epoch 4/10\n",
      "578/578 [==============================] - 3s 5ms/step - loss: 0.0074\n",
      "Epoch 5/10\n",
      "578/578 [==============================] - 3s 5ms/step - loss: 0.0073\n",
      "Epoch 6/10\n",
      "578/578 [==============================] - 3s 5ms/step - loss: 0.0071\n",
      "Epoch 7/10\n",
      "578/578 [==============================] - 3s 5ms/step - loss: 0.0070\n",
      "Epoch 8/10\n",
      "578/578 [==============================] - 3s 5ms/step - loss: 0.0070\n",
      "Epoch 9/10\n",
      "578/578 [==============================] - 3s 5ms/step - loss: 0.0071\n",
      "Epoch 10/10\n",
      "578/578 [==============================] - 3s 5ms/step - loss: 0.0070\n",
      "Train Score: 7.23 RMSE\n",
      "Test Score: 8.34 RMSE\n",
      "Count = 2/6\n",
      "3\n",
      "(437, 3, 1)\n",
      "(437, 1)\n",
      "Epoch 1/10\n",
      "437/437 [==============================] - 3s 6ms/step - loss: 0.0087\n",
      "Epoch 2/10\n",
      "437/437 [==============================] - 2s 5ms/step - loss: 0.0062\n",
      "Epoch 3/10\n",
      "437/437 [==============================] - 2s 5ms/step - loss: 0.0061\n",
      "Epoch 4/10\n",
      "437/437 [==============================] - 2s 5ms/step - loss: 0.0058\n",
      "Epoch 5/10\n",
      "437/437 [==============================] - 2s 5ms/step - loss: 0.0057\n",
      "Epoch 6/10\n",
      "437/437 [==============================] - 2s 5ms/step - loss: 0.0057\n",
      "Epoch 7/10\n",
      "437/437 [==============================] - 2s 6ms/step - loss: 0.0058\n",
      "Epoch 8/10\n",
      "437/437 [==============================] - 2s 5ms/step - loss: 0.0056\n",
      "Epoch 9/10\n",
      "437/437 [==============================] - 2s 5ms/step - loss: 0.0055\n",
      "Epoch 10/10\n",
      "437/437 [==============================] - 2s 5ms/step - loss: 0.0055\n",
      "Train Score: 6.37 RMSE\n",
      "Test Score: 8.40 RMSE\n",
      "Count = 3/6\n",
      "3\n",
      "(614, 3, 1)\n",
      "(614, 1)\n",
      "Epoch 1/10\n",
      "614/614 [==============================] - 4s 6ms/step - loss: 0.0070\n",
      "Epoch 2/10\n",
      "614/614 [==============================] - 3s 5ms/step - loss: 0.0057\n",
      "Epoch 3/10\n",
      "614/614 [==============================] - 3s 5ms/step - loss: 0.0055\n",
      "Epoch 4/10\n",
      "614/614 [==============================] - 3s 6ms/step - loss: 0.0052\n",
      "Epoch 5/10\n",
      "614/614 [==============================] - 3s 5ms/step - loss: 0.0052\n",
      "Epoch 6/10\n",
      "614/614 [==============================] - 3s 5ms/step - loss: 0.0051\n",
      "Epoch 7/10\n",
      "614/614 [==============================] - 3s 6ms/step - loss: 0.0052\n",
      "Epoch 8/10\n",
      "614/614 [==============================] - 3s 5ms/step - loss: 0.0051\n",
      "Epoch 9/10\n",
      "614/614 [==============================] - 3s 5ms/step - loss: 0.0051\n",
      "Epoch 10/10\n",
      "614/614 [==============================] - 3s 5ms/step - loss: 0.0052\n",
      "Train Score: 6.12 RMSE\n",
      "Test Score: 8.35 RMSE\n",
      "Count = 4/6\n",
      "3\n",
      "(525, 3, 1)\n",
      "(525, 1)\n",
      "Epoch 1/10\n",
      "525/525 [==============================] - 4s 7ms/step - loss: 0.0092\n",
      "Epoch 2/10\n",
      "525/525 [==============================] - 3s 5ms/step - loss: 0.0070\n",
      "Epoch 3/10\n",
      "525/525 [==============================] - 3s 5ms/step - loss: 0.0067\n",
      "Epoch 4/10\n",
      "525/525 [==============================] - 3s 5ms/step - loss: 0.0067\n",
      "Epoch 5/10\n",
      "525/525 [==============================] - 3s 5ms/step - loss: 0.0064\n",
      "Epoch 6/10\n",
      "525/525 [==============================] - 3s 5ms/step - loss: 0.0066\n",
      "Epoch 7/10\n",
      "525/525 [==============================] - 3s 5ms/step - loss: 0.0064\n",
      "Epoch 8/10\n",
      "525/525 [==============================] - 3s 6ms/step - loss: 0.0064\n",
      "Epoch 9/10\n",
      "525/525 [==============================] - 3s 6ms/step - loss: 0.0063\n",
      "Epoch 10/10\n",
      "525/525 [==============================] - 3s 5ms/step - loss: 0.0064\n",
      "Train Score: 6.92 RMSE\n",
      "Test Score: 8.47 RMSE\n",
      "Count = 5/6\n",
      "3\n",
      "(281, 3, 1)\n",
      "(281, 1)\n",
      "Epoch 1/10\n",
      "281/281 [==============================] - 2s 8ms/step - loss: 0.0137\n",
      "Epoch 2/10\n",
      "281/281 [==============================] - 2s 6ms/step - loss: 0.0104\n",
      "Epoch 3/10\n",
      "281/281 [==============================] - 2s 5ms/step - loss: 0.0101\n",
      "Epoch 4/10\n",
      "281/281 [==============================] - 2s 5ms/step - loss: 0.0098\n",
      "Epoch 5/10\n",
      "281/281 [==============================] - 2s 5ms/step - loss: 0.0093\n",
      "Epoch 6/10\n",
      "281/281 [==============================] - 2s 6ms/step - loss: 0.0092\n",
      "Epoch 7/10\n",
      "281/281 [==============================] - 2s 5ms/step - loss: 0.0094\n",
      "Epoch 8/10\n",
      "281/281 [==============================] - 2s 5ms/step - loss: 0.0092\n",
      "Epoch 9/10\n",
      "281/281 [==============================] - 2s 6ms/step - loss: 0.0093\n",
      "Epoch 10/10\n",
      "281/281 [==============================] - 2s 6ms/step - loss: 0.0094\n",
      "Train Score: 8.22 RMSE\n",
      "Test Score: 8.37 RMSE\n",
      "Count = 6/6\n",
      "3\n",
      "(641, 3, 1)\n",
      "(641, 1)\n",
      "Epoch 1/10\n",
      "641/641 [==============================] - 4s 7ms/step - loss: 0.0105\n",
      "Epoch 2/10\n",
      "641/641 [==============================] - 3s 5ms/step - loss: 0.0089\n",
      "Epoch 3/10\n",
      "641/641 [==============================] - 3s 5ms/step - loss: 0.0087\n",
      "Epoch 4/10\n",
      "641/641 [==============================] - 3s 5ms/step - loss: 0.0086\n",
      "Epoch 5/10\n",
      "641/641 [==============================] - 3s 5ms/step - loss: 0.0085\n",
      "Epoch 6/10\n",
      "641/641 [==============================] - 3s 5ms/step - loss: 0.0083\n",
      "Epoch 7/10\n",
      "641/641 [==============================] - 4s 5ms/step - loss: 0.0083\n",
      "Epoch 8/10\n",
      "641/641 [==============================] - 4s 5ms/step - loss: 0.0083\n",
      "Epoch 9/10\n",
      "641/641 [==============================] - 3s 5ms/step - loss: 0.0081\n",
      "Epoch 10/10\n",
      "641/641 [==============================] - 3s 5ms/step - loss: 0.0081\n",
      "Train Score: 8.70 RMSE\n",
      "Test Score: 9.36 RMSE\n"
     ]
    }
   ],
   "source": [
    "# Generate all permutations of the series 0, 1, 2, ... numBlocks\n",
    "permutations = itertools.permutations(range(numBlocks))\n",
    "testBand = []\n",
    "count = 1\n",
    "suffix = \"B\"\n",
    "\n",
    "totalCount = factorial(numBlocks)\n",
    "for perm in permutations:\n",
    "    print(\"Count = %d/%d\" % (count, totalCount))\n",
    "    count += 1\n",
    "    trainResample = block_resample(train, blockSize)\n",
    "#     print(len(trainResample))\n",
    "    suffix = \"B\"\n",
    "    trainSet = np.array(arrange_data(trainResample, perm))\n",
    "#     print(trainSet[0].shape)\n",
    "#     trainSet = np.reshape(trainSet, (trainSet.shape[0]*trainSet[0].shape[0], trainSet[0].shape[1]))\n",
    "#     trainSet = np.reshape(trainSet, (trainSet.shape[0]*trainSet[0].shape[0], 1))\n",
    "#     trainSet = np.reshape(trainSet, (trainSet.shape[0], 1))\n",
    "#     print(trainSet.shape)\n",
    "    flattenTrainSet = []\n",
    "    for i in trainSet:\n",
    "        for j in i:\n",
    "            flattenTrainSet.append(j)\n",
    "            \n",
    "    trainSet = flattenTrainSet\n",
    "\n",
    "\n",
    "# test.shape\n",
    "    trainSet = np.reshape(trainSet, (len(trainSet), 1))\n",
    "\n",
    "    shuffleData = np.vstack((trainSet, test))\n",
    "\n",
    "    lookBack = 3\n",
    "    trainX, trainY = create_dataset(trainSet, lookBack)\n",
    "    testX, testY = create_dataset(test, lookBack)\n",
    "    print(trainX.shape)\n",
    "    print(trainY.shape)\n",
    "\n",
    "#     trainX = np.reshape(trainX, (trainX.shape[0], 3, 1))\n",
    "#     testX = np.reshape(testX, (testX.shape[0], 3, 1))\n",
    "\n",
    "    units = 100\n",
    "    drop = 0.2\n",
    "    epoch = 10\n",
    "\n",
    "#     model = load_model(\"./Models/ResampledBlockBootstrap/\"+str(numBlocks)+\"_\"+str(overlap)+\"_\"+str(epoch)+\".h5\")\n",
    "    \n",
    "    model = Sequential()\n",
    "    model.add(LSTM(units, input_shape=(lookBack, 1)))\n",
    "    model.add(Dense(1))\n",
    "    model.compile(loss='mean_squared_error', optimizer='nadam')\n",
    "#     Tensorboard\n",
    "#     model.summary()\n",
    "    tensorboard = TensorBoard(log_dir=\"logs/{}\".format(time()))\n",
    "#     model.fit(trainX, trainY, epochs=epoch, batch_size=1, verbose=1, \n",
    "#               callbacks=[EarlyStopping(monitor='loss', patience=2), tensorboard])\n",
    "    model.fit(trainX, trainY, epochs=epoch, batch_size=1, verbose=1)\n",
    "\n",
    "    trainPredict = model.predict(trainX)\n",
    "    testPredict = model.predict(testX)\n",
    "\n",
    "#     Inverse the scaling\n",
    "    trainPredict = scaler.inverse_transform(trainPredict)\n",
    "    trainY = scaler.inverse_transform(trainY)\n",
    "    testPredict = scaler.inverse_transform(testPredict)\n",
    "    testY = scaler.inverse_transform(testY)\n",
    "\n",
    "#     RMSE score\n",
    "    trainScore = sqrt(mean_squared_error(trainY, trainPredict))\n",
    "    print('Train Score: %.2f RMSE' % (trainScore))\n",
    "    testScore = sqrt(mean_squared_error(testY, testPredict))\n",
    "    print('Test Score: %.2f RMSE' % (testScore))\n",
    "\n",
    "#     Plot training data\n",
    "#     trainPredictPlot = np.empty_like(shuffleData)\n",
    "#     trainPredictPlot[:, :] = np.nan\n",
    "#     trainPredictPlot[lookBack:len(trainPredict)+lookBack, :] = trainPredict\n",
    "    \n",
    "#     Plot test data\n",
    "#     testPredictPlot = np.empty_like(shuffleData)\n",
    "#     testPredictPlot[:, :] = np.nan\n",
    "#     testPredictPlot[len(trainPredict)+(lookBack*2)+1:len(data)-1, :] = testPredict\n",
    "    \n",
    "#     Append results to calculate the test band\n",
    "    testBand.append(testPredict)\n",
    "#     plt.plot(scaler.inverse_transform(shuffleData)[:,col])\n",
    "#     plt.plot(trainPredictPlot[:,col], color = 'orange')\n",
    "#     plt.plot(testPredictPlot[:,col], color = 'green')"
   ]
  },
  {
   "cell_type": "code",
   "execution_count": 78,
   "metadata": {},
   "outputs": [],
   "source": [
    "model.save(\"./Models/StationaryBootstrap/\"+str(numBlocks)+\"_\"+str(epoch)+\"_\"+suffix+\".h5\")"
   ]
  },
  {
   "cell_type": "code",
   "execution_count": 79,
   "metadata": {},
   "outputs": [
    {
     "data": {
      "text/plain": [
       "Text(0.5,1,'Epoch=10 numBlocks=3 Overlap=0 Train=8.70 Test=9.36')"
      ]
     },
     "execution_count": 79,
     "metadata": {},
     "output_type": "execute_result"
    },
    {
     "data": {
      "image/png": "[encoded data removed]",
      "text/plain": [
       "<Figure size 432x288 with 1 Axes>"
      ]
     },
     "metadata": {},
     "output_type": "display_data"
    }
   ],
   "source": [
    "col = 0\n",
    "testPlot = np.empty_like(trainSet)\n",
    "testPlot[:, :] = 0\n",
    "testPlot = np.vstack((testPlot, test))\n",
    "testplot = scaler.inverse_transform(testPlot)\n",
    "plt.plot(testPlot[:,col], color = 'blue')\n",
    "plt.title('Epoch=%d numBlocks=%d Overlap=%d Train=%.2f Test=%.2f' % (epoch, numBlocks, overlap, trainScore, testScore))"
   ]
  },
  {
   "cell_type": "code",
   "execution_count": 80,
   "metadata": {},
   "outputs": [],
   "source": [
    "testBand = np.array(testBand)\n",
    "testBand = np.reshape(testBand, (testBand.shape))"
   ]
  },
  {
   "cell_type": "code",
   "execution_count": 81,
   "metadata": {},
   "outputs": [
    {
     "data": {
      "text/plain": [
       "(6, 349, 1)"
      ]
     },
     "execution_count": 81,
     "metadata": {},
     "output_type": "execute_result"
    }
   ],
   "source": [
    "testBand.shape"
   ]
  },
  {
   "cell_type": "code",
   "execution_count": 82,
   "metadata": {},
   "outputs": [
    {
     "name": "stdout",
     "output_type": "stream",
     "text": [
      "[-0.16840895]\n",
      "[1.4512836]\n"
     ]
    }
   ],
   "source": [
    "print(np.mean(testBand[:,0,:], axis = 0))\n",
    "print(np.std(testBand[:,0,:], axis = 0))"
   ]
  },
  {
   "cell_type": "code",
   "execution_count": 83,
   "metadata": {},
   "outputs": [],
   "source": [
    "z_alpha = 1.96\n",
    "n = factorial(numBlocks)\n",
    "\n",
    "confInterval = []\n",
    "\n",
    "# Calculate the 95% confidence interval for each time step\n",
    "for i in range(testBand.shape[1]):\n",
    "    X = testBand[:, i, :]\n",
    "    xBar = np.mean(X, axis = 0)\n",
    "    s = np.std(X, axis = 0)\n",
    "    l = xBar - 1.96*s/(n**0,.5)\n",
    "    r = xBar + 1.96*s/(n**0,.5)\n",
    "    pair = [l, r]\n",
    "    confInterval.append(pair)"
   ]
  },
  {
   "cell_type": "code",
   "execution_count": 85,
   "metadata": {},
   "outputs": [
    {
     "data": {
      "image/png": "[encoded data removed]",
      "text/plain": [
       "<Figure size 432x288 with 1 Axes>"
      ]
     },
     "metadata": {},
     "output_type": "display_data"
    }
   ],
   "source": [
    "col = 0\n",
    "offset = len(trainPredict)+(lookBack*2)+2\n",
    "lower = []\n",
    "upper = []\n",
    "\n",
    "# Get upper and lower bounds\n",
    "for i in range(len(confInterval)):\n",
    "    lower.append(confInterval[i][0][0])\n",
    "    upper.append(confInterval[i][1][0])\n",
    "\n",
    "# XLower = np.array(range(offset+1, offset+1+testBand.shape[1]))\n",
    "# XUpper = np.array(range(offset+1, offset+1+testBand.shape[1]))\n",
    "# plt.plot(XLower, lower)\n",
    "# plt.plot(XUpper, upper)\n",
    "plt.plot(upper, color='orange', label='upper')\n",
    "plt.plot(scaler.inverse_transform(test)[:, col], color = 'blue', label='test prediction')\n",
    "plt.plot(lower, color='green', label='lower')\n",
    "plt.legend(loc='upper left')\n",
    "plt.title('NumBlocks=%d Overlap=%d Epochs=%d Train=%.2f Test=%.2f' % (numBlocks, overlap, epoch, trainScore, testScore))\n",
    "plt.savefig(\"./Plots/StationaryBootstrap/\"+str(numBlocks)+\"_\"+str(overlap)+\"_\"+str(epoch)+\"_\"+suffix+\".png\")\n",
    "plt.show()"
   ]
  },
  {
   "cell_type": "code",
   "execution_count": 86,
   "metadata": {},
   "outputs": [],
   "source": [
    "# Sum of the lengths of the confidence intervals at each time point.\n",
    "sumIntervals = np.sum(abs(np.array(upper) - np.array(lower)))"
   ]
  },
  {
   "cell_type": "code",
   "execution_count": 87,
   "metadata": {},
   "outputs": [
    {
     "data": {
      "text/plain": [
       "2108.8150548934937"
      ]
     },
     "execution_count": 87,
     "metadata": {},
     "output_type": "execute_result"
    }
   ],
   "source": [
    "sumIntervals"
   ]
  },
  {
   "cell_type": "code",
   "execution_count": 88,
   "metadata": {},
   "outputs": [],
   "source": [
    "# Length of maximum interval\n",
    "maxInterval = np.max(np.array(upper) - np.array(lower))"
   ]
  },
  {
   "cell_type": "code",
   "execution_count": 89,
   "metadata": {},
   "outputs": [
    {
     "data": {
      "text/plain": [
       "8.107281684875488"
      ]
     },
     "execution_count": 89,
     "metadata": {},
     "output_type": "execute_result"
    }
   ],
   "source": [
    "maxInterval"
   ]
  },
  {
   "cell_type": "code",
   "execution_count": null,
   "metadata": {},
   "outputs": [],
   "source": []
  }
 ],
 "metadata": {
  "kernelspec": {
   "display_name": "Python 3",
   "language": "python",
   "name": "python3"
  },
  "language_info": {
   "codemirror_mode": {
    "name": "ipython",
    "version": 3
   },
   "file_extension": ".py",
   "mimetype": "text/x-python",
   "name": "python",
   "nbconvert_exporter": "python",
   "pygments_lexer": "ipython3",
   "version": "3.5.2"
  }
 },
 "nbformat": 4,
 "nbformat_minor": 2
}
