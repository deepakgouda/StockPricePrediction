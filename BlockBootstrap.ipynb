{
 "cells": [
  {
   "cell_type": "code",
   "execution_count": 32,
   "metadata": {},
   "outputs": [],
   "source": [
    "import numpy as np\n",
    "import math\n",
    "import matplotlib.pyplot as plt\n",
    "from pandas import read_csv\n",
    "from keras.models import Sequential\n",
    "from keras.layers import Dense, Dropout\n",
    "from keras.layers import LSTM\n",
    "from sklearn.preprocessing import MinMaxScaler\n",
    "from sklearn.metrics import mean_squared_error\n",
    "from keras.callbacks import TensorBoard\n",
    "from time import time\n",
    "import itertools\n",
    "from math import factorial"
   ]
  },
  {
   "cell_type": "code",
   "execution_count": 33,
   "metadata": {},
   "outputs": [],
   "source": [
    "# Generate X and Y pairs where dim of X = (1, look_back)\n",
    "def create_dataset(dataset, look_back = 1):\n",
    "    dataX, dataY = [], []\n",
    "    for i in range(len(dataset)-look_back-1):\n",
    "        a = dataset[i:(i+look_back), :]\n",
    "        dataX.append(a)\n",
    "        dataY.append(dataset[i + look_back, :])\n",
    "    return np.array(dataX), np.array(dataY)"
   ]
  },
  {
   "cell_type": "code",
   "execution_count": 34,
   "metadata": {},
   "outputs": [],
   "source": [
    "# Arrange blocks of data according to permutation\n",
    "def generateData(data, perm):\n",
    "    n = data.shape[0]\n",
    "    blockSize = n // len(perm)\n",
    "    dataSet = np.zeros(data[0].shape)\n",
    "    for i in perm:\n",
    "        block = data[i*blockSize:(i+1)*blockSize]\n",
    "        dataSet = np.vstack((dataSet, block))\n",
    "    dataSet = dataSet[1:]\n",
    "    return dataSet"
   ]
  },
  {
   "cell_type": "code",
   "execution_count": 35,
   "metadata": {},
   "outputs": [
    {
     "name": "stdout",
     "output_type": "stream",
     "text": [
      "       open     close\n",
      "0  390.4551  393.0777\n",
      "1  389.5892  391.6012\n",
      "2  391.2659  390.7403\n",
      "3  390.4551  391.8214\n",
      "4  390.2549  394.3039\n",
      "(1259, 2)\n"
     ]
    }
   ],
   "source": [
    "fields = ['open', 'close']\n",
    "dataframe = read_csv('GOOGL_data.csv', skipinitialspace = True, squeeze = True, usecols = fields)\n",
    "\n",
    "print(dataframe.head())\n",
    "data = np.array(dataframe)\n",
    "print(data.shape)"
   ]
  },
  {
   "cell_type": "code",
   "execution_count": 36,
   "metadata": {},
   "outputs": [
    {
     "name": "stdout",
     "output_type": "stream",
     "text": [
      "[[0.00683718 0.01210825]\n",
      " [0.0057589  0.01027231]\n",
      " [0.00784685 0.00920184]\n",
      " [0.00683718 0.01054612]\n",
      " [0.00658788 0.01363296]]\n"
     ]
    }
   ],
   "source": [
    "# Scale between (0, 1)\n",
    "scaler = MinMaxScaler(feature_range=(0, 1))\n",
    "data = scaler.fit_transform(data)\n",
    "print(data[:5])"
   ]
  },
  {
   "cell_type": "code",
   "execution_count": 37,
   "metadata": {},
   "outputs": [
    {
     "name": "stdout",
     "output_type": "stream",
     "text": [
      "906\n",
      "353\n"
     ]
    }
   ],
   "source": [
    "split = 0.72\n",
    "trainSize = int(len(data)*split)\n",
    "testSize = len(data)-trainSize\n",
    "print(trainSize)\n",
    "print(testSize)"
   ]
  },
  {
   "cell_type": "code",
   "execution_count": 38,
   "metadata": {},
   "outputs": [
    {
     "name": "stdout",
     "output_type": "stream",
     "text": [
      "302\n"
     ]
    }
   ],
   "source": [
    "numInterval = 3\n",
    "blockSize = trainSize//numInterval\n",
    "print(blockSize)"
   ]
  },
  {
   "cell_type": "code",
   "execution_count": 39,
   "metadata": {},
   "outputs": [
    {
     "name": "stdout",
     "output_type": "stream",
     "text": [
      "[[0.00683718 0.01210825]\n",
      " [0.0057589  0.01027231]\n",
      " [0.00784685 0.00920184]\n",
      " [0.00683718 0.01054612]\n",
      " [0.00658788 0.01363296]]\n"
     ]
    }
   ],
   "source": [
    "train = data[0:trainSize,:]\n",
    "test = data[trainSize:len(data),:]\n",
    "print(train[:5])"
   ]
  },
  {
   "cell_type": "code",
   "execution_count": 41,
   "metadata": {},
   "outputs": [
    {
     "name": "stdout",
     "output_type": "stream",
     "text": [
      "Count =  0\n",
      "Epoch 1/10\n",
      "902/902 [==============================] - 6s 6ms/step - loss: 7.6641e-04\n",
      "Epoch 2/10\n",
      "902/902 [==============================] - 5s 5ms/step - loss: 3.7005e-04\n",
      "Epoch 3/10\n",
      "902/902 [==============================] - 5s 5ms/step - loss: 2.9827e-04\n",
      "Epoch 4/10\n",
      "902/902 [==============================] - 5s 5ms/step - loss: 2.4092e-04\n",
      "Epoch 5/10\n",
      "902/902 [==============================] - 5s 6ms/step - loss: 2.0964e-04\n",
      "Epoch 6/10\n",
      "902/902 [==============================] - 5s 6ms/step - loss: 1.8441e-04\n",
      "Epoch 7/10\n",
      "902/902 [==============================] - 5s 6ms/step - loss: 1.5514e-04\n",
      "Epoch 8/10\n",
      "902/902 [==============================] - 5s 5ms/step - loss: 1.4678e-04\n",
      "Epoch 9/10\n",
      "902/902 [==============================] - 5s 5ms/step - loss: 1.4549e-04\n",
      "Epoch 10/10\n",
      "902/902 [==============================] - 5s 5ms/step - loss: 1.4425e-04\n",
      "Train Score: 8.95 RMSE\n",
      "Test Score: 9.86 RMSE\n",
      "Count =  1\n",
      "Epoch 1/10\n",
      "902/902 [==============================] - 6s 6ms/step - loss: 0.0015\n",
      "Epoch 2/10\n",
      "902/902 [==============================] - 5s 5ms/step - loss: 6.1414e-04\n",
      "Epoch 3/10\n",
      "902/902 [==============================] - 5s 5ms/step - loss: 4.8373e-04\n",
      "Epoch 4/10\n",
      "902/902 [==============================] - 5s 5ms/step - loss: 4.6037e-04\n",
      "Epoch 5/10\n",
      "902/902 [==============================] - 5s 5ms/step - loss: 4.2921e-04\n",
      "Epoch 6/10\n",
      "902/902 [==============================] - 5s 6ms/step - loss: 3.9466e-04\n",
      "Epoch 7/10\n",
      "902/902 [==============================] - 5s 6ms/step - loss: 3.4485e-04\n",
      "Epoch 8/10\n",
      "902/902 [==============================] - 5s 6ms/step - loss: 3.9187e-04\n",
      "Epoch 9/10\n",
      "902/902 [==============================] - 5s 5ms/step - loss: 3.2145e-04\n",
      "Epoch 10/10\n",
      "902/902 [==============================] - 5s 5ms/step - loss: 3.4048e-04\n",
      "Train Score: 13.40 RMSE\n",
      "Test Score: 11.06 RMSE\n",
      "Count =  2\n",
      "Epoch 1/10\n",
      "902/902 [==============================] - 6s 6ms/step - loss: 0.0012\n",
      "Epoch 2/10\n",
      "902/902 [==============================] - 5s 6ms/step - loss: 4.2219e-04\n",
      "Epoch 3/10\n",
      "902/902 [==============================] - 5s 6ms/step - loss: 3.6325e-04\n",
      "Epoch 4/10\n",
      "902/902 [==============================] - 5s 5ms/step - loss: 3.0046e-04\n",
      "Epoch 5/10\n",
      "902/902 [==============================] - 5s 5ms/step - loss: 2.5069e-04\n",
      "Epoch 6/10\n",
      "902/902 [==============================] - 5s 6ms/step - loss: 2.1013e-04\n",
      "Epoch 7/10\n",
      "902/902 [==============================] - 5s 6ms/step - loss: 1.9856e-04\n",
      "Epoch 8/10\n",
      "902/902 [==============================] - 5s 6ms/step - loss: 1.9554e-04\n",
      "Epoch 9/10\n",
      "902/902 [==============================] - 5s 5ms/step - loss: 1.9205e-04\n",
      "Epoch 10/10\n",
      "902/902 [==============================] - 5s 6ms/step - loss: 1.8463e-04\n",
      "Train Score: 10.04 RMSE\n",
      "Test Score: 10.65 RMSE\n",
      "Count =  3\n",
      "Epoch 1/10\n",
      "902/902 [==============================] - 6s 7ms/step - loss: 0.0017\n",
      "Epoch 2/10\n",
      "902/902 [==============================] - 5s 6ms/step - loss: 9.2396e-04\n",
      "Epoch 3/10\n",
      "902/902 [==============================] - 5s 6ms/step - loss: 8.2412e-04\n",
      "Epoch 4/10\n",
      "902/902 [==============================] - 7s 7ms/step - loss: 7.8052e-04\n",
      "Epoch 5/10\n",
      "902/902 [==============================] - 6s 6ms/step - loss: 6.8069e-04\n",
      "Epoch 6/10\n",
      "902/902 [==============================] - 5s 6ms/step - loss: 6.0767e-04\n",
      "Epoch 7/10\n",
      "902/902 [==============================] - 5s 6ms/step - loss: 5.3865e-04\n",
      "Epoch 8/10\n",
      "902/902 [==============================] - 5s 5ms/step - loss: 5.2437e-04\n",
      "Epoch 9/10\n",
      "902/902 [==============================] - 5s 6ms/step - loss: 5.3191e-04\n",
      "Epoch 10/10\n",
      "902/902 [==============================] - 5s 6ms/step - loss: 5.3045e-04\n",
      "Train Score: 15.78 RMSE\n",
      "Test Score: 10.66 RMSE\n",
      "Count =  4\n",
      "Epoch 1/10\n",
      "902/902 [==============================] - 6s 7ms/step - loss: 0.0016\n",
      "Epoch 2/10\n",
      "902/902 [==============================] - 5s 5ms/step - loss: 9.6376e-04\n",
      "Epoch 3/10\n",
      "902/902 [==============================] - 5s 6ms/step - loss: 8.7055e-04\n",
      "Epoch 4/10\n",
      "902/902 [==============================] - 5s 5ms/step - loss: 6.6519e-04\n",
      "Epoch 5/10\n",
      "902/902 [==============================] - 5s 6ms/step - loss: 6.1788e-04\n",
      "Epoch 6/10\n",
      "902/902 [==============================] - 5s 5ms/step - loss: 7.2430e-04\n",
      "Epoch 7/10\n",
      "902/902 [==============================] - 5s 6ms/step - loss: 6.0086e-04\n",
      "Epoch 8/10\n",
      "902/902 [==============================] - 5s 6ms/step - loss: 6.0996e-04\n",
      "Epoch 9/10\n",
      "902/902 [==============================] - 5s 6ms/step - loss: 5.7463e-04\n",
      "Epoch 10/10\n",
      "902/902 [==============================] - 5s 6ms/step - loss: 5.6015e-04\n",
      "Train Score: 17.49 RMSE\n",
      "Test Score: 12.38 RMSE\n",
      "Count =  5\n",
      "Epoch 1/10\n",
      "902/902 [==============================] - 6s 7ms/step - loss: 0.0016\n",
      "Epoch 2/10\n",
      "902/902 [==============================] - 5s 5ms/step - loss: 6.5014e-04\n",
      "Epoch 3/10\n",
      "902/902 [==============================] - 5s 5ms/step - loss: 5.6845e-04\n",
      "Epoch 4/10\n",
      "902/902 [==============================] - 5s 5ms/step - loss: 4.5626e-04\n",
      "Epoch 5/10\n",
      "902/902 [==============================] - 5s 5ms/step - loss: 4.3384e-04\n",
      "Epoch 6/10\n",
      "902/902 [==============================] - 5s 5ms/step - loss: 3.4985e-04\n",
      "Epoch 7/10\n",
      "902/902 [==============================] - 5s 6ms/step - loss: 3.8739e-04\n",
      "Epoch 8/10\n",
      "902/902 [==============================] - 5s 6ms/step - loss: 3.6854e-04\n",
      "Epoch 9/10\n",
      "902/902 [==============================] - 5s 6ms/step - loss: 3.9160e-04\n",
      "Epoch 10/10\n",
      "902/902 [==============================] - 5s 5ms/step - loss: 3.6734e-04\n",
      "Train Score: 14.96 RMSE\n",
      "Test Score: 26.31 RMSE\n"
     ]
    },
    {
     "data": {
      "text/plain": [
       "Text(0.5,1,'Epoch = 10 Train = 14.96 Test = 26.31')"
      ]
     },
     "execution_count": 41,
     "metadata": {},
     "output_type": "execute_result"
    },
    {
     "data": {
      "image/png": "[encoded data removed]",
      "text/plain": [
       "<Figure size 432x288 with 1 Axes>"
      ]
     },
     "metadata": {},
     "output_type": "display_data"
    }
   ],
   "source": [
    "# Generate all permutations of the series 0, 1, 2, ... numInterval\n",
    "permutations = itertools.permutations(range(numInterval))\n",
    "testBand = []\n",
    "\n",
    "count = 0\n",
    "for perm in permutations:\n",
    "    print(\"Count = \", count)\n",
    "    count += 1\n",
    "    trainSet = generateData(train, perm)\n",
    "    trainSet = np.reshape(trainSet, trainSet.shape)\n",
    "    shuffleData = np.vstack((trainSet, test))\n",
    "\n",
    "    lookBack = 3\n",
    "    trainX, trainY = create_dataset(trainSet, lookBack)\n",
    "    testX, testY = create_dataset(test, lookBack)\n",
    "\n",
    "    # trainX = np.reshape(trainX, (trainX.shape[0], 2, trainX.shape[1]))\n",
    "    # testX = np.reshape(testX, (testX.shape[0], 2, testX.shape[1]))\n",
    "\n",
    "    units = 100\n",
    "    drop = 0.2\n",
    "    epoch = 10\n",
    "\n",
    "    model = Sequential()\n",
    "    model.add(LSTM(units, input_shape=(lookBack, 2)))\n",
    "    model.add(Dense(2))\n",
    "    model.compile(loss='mean_squared_error', optimizer='nadam')\n",
    "#     Tensorboard\n",
    "#     model.summary()\n",
    "#     tensorboard = TensorBoard(log_dir=\"logs/{}\".format(time()))\n",
    "#     model.fit(trainX, trainY, epochs=epoch, batch_size=1, verbose=1, callbacks=[tensorboard])\n",
    "    model.fit(trainX, trainY, epochs=epoch, batch_size=1, verbose=1)\n",
    "\n",
    "    trainPredict = model.predict(trainX)\n",
    "    testPredict = model.predict(testX)\n",
    "\n",
    "#     Inverse the scaling\n",
    "    trainPredict = scaler.inverse_transform(trainPredict)\n",
    "    trainY = scaler.inverse_transform(trainY)\n",
    "    testPredict = scaler.inverse_transform(testPredict)\n",
    "    testY = scaler.inverse_transform(testY)\n",
    "\n",
    "#     RMSE score\n",
    "    trainScore = math.sqrt(mean_squared_error(trainY, trainPredict))\n",
    "    print('Train Score: %.2f RMSE' % (trainScore))\n",
    "    testScore = math.sqrt(mean_squared_error(testY, testPredict))\n",
    "    print('Test Score: %.2f RMSE' % (testScore))\n",
    "\n",
    "#     Plot training data\n",
    "    trainPredictPlot = np.empty_like(shuffleData)\n",
    "    trainPredictPlot[:, :] = np.nan\n",
    "    trainPredictPlot[lookBack:len(trainPredict)+lookBack, :] = trainPredict\n",
    "    \n",
    "#     Plot test data\n",
    "    testPredictPlot = np.empty_like(shuffleData)\n",
    "    testPredictPlot[:, :] = np.nan\n",
    "    testPredictPlot[len(trainPredict)+(lookBack*2)+1:len(data)-1, :] = testPredict\n",
    "    \n",
    "#     Append results to calculate the test band\n",
    "    testBand.append(testPredict)\n",
    "\n",
    "    col = 0\n",
    "    testPlot = np.empty_like(trainSet)\n",
    "    testPlot[:, :] = 0\n",
    "    testPlot = np.vstack((testPlot, test))\n",
    "#     plt.plot(scaler.inverse_transform(shuffleData)[:,col])\n",
    "#     plt.plot(trainPredictPlot[:,col], color = 'orange')\n",
    "#     plt.plot(testPredictPlot[:,col], color = 'green')\n",
    "plt.plot(scaler.inverse_transform(testPlot)[:,col], color = 'blue')\n",
    "plt.title('Epoch = %d Train = %.2f Test = %.2f' % (epoch, trainScore, testScore))"
   ]
  },
  {
   "cell_type": "code",
   "execution_count": 42,
   "metadata": {},
   "outputs": [],
   "source": [
    "testBand = np.array(testBand)\n",
    "testBand = np.reshape(testBand, (testBand.shape))"
   ]
  },
  {
   "cell_type": "code",
   "execution_count": 43,
   "metadata": {},
   "outputs": [
    {
     "name": "stdout",
     "output_type": "stream",
     "text": [
      "[797.41046 798.9558 ]\n",
      "[9.222109 9.222185]\n"
     ]
    }
   ],
   "source": [
    "print(np.mean(testBand[:,0,:], axis = 0))\n",
    "print(np.std(testBand[:,0,:], axis = 0))"
   ]
  },
  {
   "cell_type": "code",
   "execution_count": 44,
   "metadata": {},
   "outputs": [],
   "source": [
    "z_alpha = 1.96\n",
    "n = factorial(numInterval)\n",
    "\n",
    "confInterval = []\n",
    "\n",
    "# Calculate the 95% confidence interval for each time step\n",
    "for i in range(testBand.shape[1]):\n",
    "    X = testBand[:, i, :]\n",
    "    xBar = np.mean(X, axis = 0)\n",
    "    s = np.std(X, axis = 0)\n",
    "    l = xBar - 1.96*s/(n**0,.5)\n",
    "    r = xBar + 1.96*s/(n**0,.5)\n",
    "    pair = [l, r]\n",
    "    confInterval.append(pair)"
   ]
  },
  {
   "cell_type": "code",
   "execution_count": 45,
   "metadata": {},
   "outputs": [
    {
     "data": {
      "image/png": "[encoded data removed]",
      "text/plain": [
       "<Figure size 432x288 with 1 Axes>"
      ]
     },
     "metadata": {},
     "output_type": "display_data"
    }
   ],
   "source": [
    "col = 0\n",
    "offset = len(trainPredict)+(lookBack*2)+2\n",
    "lower = []\n",
    "upper = []\n",
    "\n",
    "# Get upper and lower bounds\n",
    "for i in range(len(confInterval)):\n",
    "    lower.append(confInterval[i][0][0])\n",
    "    upper.append(confInterval[i][1][0])\n",
    "\n",
    "XLower = np.array(range(offset+1, offset+1+testBand.shape[1]))\n",
    "XUpper = np.array(range(offset+1, offset+1+testBand.shape[1]))\n",
    "plt.plot(XLower, lower)\n",
    "plt.plot(XUpper, upper)\n",
    "plt.show()"
   ]
  },
  {
   "cell_type": "code",
   "execution_count": null,
   "metadata": {},
   "outputs": [],
   "source": []
  }
 ],
 "metadata": {
  "kernelspec": {
   "display_name": "Python 3",
   "language": "python",
   "name": "python3"
  },
  "language_info": {
   "codemirror_mode": {
    "name": "ipython",
    "version": 3
   },
   "file_extension": ".py",
   "mimetype": "text/x-python",
   "name": "python",
   "nbconvert_exporter": "python",
   "pygments_lexer": "ipython3",
   "version": "3.5.2"
  }
 },
 "nbformat": 4,
 "nbformat_minor": 2
}
