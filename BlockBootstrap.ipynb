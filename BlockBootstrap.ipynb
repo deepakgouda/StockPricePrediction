{
 "cells": [
  {
   "cell_type": "code",
   "execution_count": 125,
   "metadata": {},
   "outputs": [],
   "source": [
    "import numpy as np\n",
    "import math\n",
    "import matplotlib.pyplot as plt\n",
    "from pandas import read_csv\n",
    "from keras.models import Sequential\n",
    "from keras.layers import Dense, Dropout\n",
    "from keras.layers import LSTM\n",
    "from sklearn.preprocessing import MinMaxScaler\n",
    "from sklearn.metrics import mean_squared_error\n",
    "from keras.callbacks import TensorBoard\n",
    "from time import time\n",
    "import itertools"
   ]
  },
  {
   "cell_type": "code",
   "execution_count": 126,
   "metadata": {},
   "outputs": [],
   "source": [
    "def create_dataset(dataset, look_back = 1):\n",
    "    dataX, dataY = [], []\n",
    "    for i in range(len(dataset)-look_back-1):\n",
    "        a = dataset[i:(i+look_back), :]\n",
    "        dataX.append(a)\n",
    "        dataY.append(dataset[i + look_back, :])\n",
    "    return np.array(dataX), np.array(dataY)"
   ]
  },
  {
   "cell_type": "code",
   "execution_count": 127,
   "metadata": {},
   "outputs": [],
   "source": [
    "def generateData(data, perm):\n",
    "    n = data.shape[0]\n",
    "    blockSize = n // len(perm)\n",
    "    dataSet = np.zeros(data[0].shape)\n",
    "    for i in perm:\n",
    "        block = data[i*blockSize:(i+1)*blockSize]\n",
    "        print(block, end='\\n\\n')\n",
    "        dataSet = np.vstack((dataSet, block))\n",
    "    dataSet = dataSet[1:]\n",
    "    return dataSet"
   ]
  },
  {
   "cell_type": "code",
   "execution_count": 128,
   "metadata": {},
   "outputs": [
    {
     "name": "stdout",
     "output_type": "stream",
     "text": [
      "       open     close\n",
      "0  390.4551  393.0777\n",
      "1  389.5892  391.6012\n",
      "2  391.2659  390.7403\n",
      "3  390.4551  391.8214\n",
      "4  390.2549  394.3039\n",
      "(20, 2)\n"
     ]
    }
   ],
   "source": [
    "# dataframe = read_csv('sp500.csv')\n",
    "fields = ['open', 'close']\n",
    "dataframe = read_csv('GOOGL_data.csv', skipinitialspace = True, squeeze = True, usecols = fields)\n",
    "\n",
    "print(dataframe.head())\n",
    "data = np.array(dataframe)[:20]\n",
    "print(data.shape)"
   ]
  },
  {
   "cell_type": "code",
   "execution_count": 129,
   "metadata": {},
   "outputs": [
    {
     "name": "stdout",
     "output_type": "stream",
     "text": [
      "[[0.02762588 0.08065284]\n",
      " [0.         0.02970567]\n",
      " [0.05349383 0.        ]\n",
      " [0.02762588 0.03730375]\n",
      " [0.02123865 0.12296332]]\n"
     ]
    }
   ],
   "source": [
    "# dataset = dataset.astype('float32')\n",
    "\n",
    "scaler = MinMaxScaler(feature_range=(0, 1))\n",
    "data = scaler.fit_transform(data)\n",
    "print(data[:5])"
   ]
  },
  {
   "cell_type": "code",
   "execution_count": 130,
   "metadata": {},
   "outputs": [
    {
     "name": "stdout",
     "output_type": "stream",
     "text": [
      "12\n",
      "8\n"
     ]
    }
   ],
   "source": [
    "split = 0.60\n",
    "trainSize = int(len(data)*split)\n",
    "testSize = len(data)-trainSize\n",
    "print(trainSize)\n",
    "print(testSize)"
   ]
  },
  {
   "cell_type": "code",
   "execution_count": 131,
   "metadata": {},
   "outputs": [
    {
     "name": "stdout",
     "output_type": "stream",
     "text": [
      "6\n"
     ]
    }
   ],
   "source": [
    "numInterval = 2\n",
    "blockSize = trainSize//numInterval\n",
    "print(blockSize)\n"
   ]
  },
  {
   "cell_type": "code",
   "execution_count": 132,
   "metadata": {},
   "outputs": [
    {
     "name": "stdout",
     "output_type": "stream",
     "text": [
      "[[0.02762588 0.08065284]\n",
      " [0.         0.02970567]\n",
      " [0.05349383 0.        ]\n",
      " [0.02762588 0.03730375]\n",
      " [0.02123865 0.12296332]]\n"
     ]
    }
   ],
   "source": [
    "    train = data[0:trainSize,:]\n",
    "    test = data[trainSize:len(data),:]\n",
    "    print(train[:5])"
   ]
  },
  {
   "cell_type": "code",
   "execution_count": 133,
   "metadata": {},
   "outputs": [
    {
     "name": "stdout",
     "output_type": "stream",
     "text": [
      "[[0.02762588 0.08065284]\n",
      " [0.         0.02970567]\n",
      " [0.05349383 0.        ]\n",
      " [0.02762588 0.03730375]\n",
      " [0.02123865 0.12296332]\n",
      " [0.14371263 0.21052069]\n",
      " [0.28087852 0.45160968]\n",
      " [0.42954268 0.20309513]\n",
      " [0.31297418 0.25611608]\n",
      " [0.33309299 0.32830475]\n",
      " [0.38163847 0.17391049]\n",
      " [0.26506997 0.16285842]]\n",
      "\n",
      "(0, 1)\n",
      "[[0.02762588 0.08065284]\n",
      " [0.         0.02970567]\n",
      " [0.05349383 0.        ]\n",
      " [0.02762588 0.03730375]\n",
      " [0.02123865 0.12296332]\n",
      " [0.14371263 0.21052069]]\n",
      "\n",
      "[[0.28087852 0.45160968]\n",
      " [0.42954268 0.20309513]\n",
      " [0.31297418 0.25611608]\n",
      " [0.33309299 0.32830475]\n",
      " [0.38163847 0.17391049]\n",
      " [0.26506997 0.16285842]]\n",
      "\n",
      "[[0.02762588 0.08065284]\n",
      " [0.         0.02970567]\n",
      " [0.05349383 0.        ]\n",
      " [0.02762588 0.03730375]\n",
      " [0.02123865 0.12296332]\n",
      " [0.14371263 0.21052069]\n",
      " [0.28087852 0.45160968]\n",
      " [0.42954268 0.20309513]\n",
      " [0.31297418 0.25611608]\n",
      " [0.33309299 0.32830475]\n",
      " [0.38163847 0.17391049]\n",
      " [0.26506997 0.16285842]]\n",
      "_________________________________________________________________\n",
      "Layer (type)                 Output Shape              Param #   \n",
      "=================================================================\n",
      "lstm_5 (LSTM)                (None, 100)               41200     \n",
      "_________________________________________________________________\n",
      "dense_5 (Dense)              (None, 2)                 202       \n",
      "=================================================================\n",
      "Total params: 41,402\n",
      "Trainable params: 41,402\n",
      "Non-trainable params: 0\n",
      "_________________________________________________________________\n",
      "Epoch 1/10\n",
      "8/8 [==============================] - 0s 59ms/step - loss: 0.0508\n",
      "Epoch 2/10\n",
      "8/8 [==============================] - 0s 5ms/step - loss: 0.0203\n",
      "Epoch 3/10\n",
      "8/8 [==============================] - 0s 6ms/step - loss: 0.0136\n",
      "Epoch 4/10\n",
      "8/8 [==============================] - 0s 6ms/step - loss: 0.0125\n",
      "Epoch 5/10\n",
      "8/8 [==============================] - 0s 6ms/step - loss: 0.0122\n",
      "Epoch 6/10\n",
      "8/8 [==============================] - 0s 6ms/step - loss: 0.0117\n",
      "Epoch 7/10\n",
      "8/8 [==============================] - 0s 6ms/step - loss: 0.0119\n",
      "Epoch 8/10\n",
      "8/8 [==============================] - 0s 6ms/step - loss: 0.0115\n",
      "Epoch 9/10\n",
      "8/8 [==============================] - 0s 6ms/step - loss: 0.0114\n",
      "Epoch 10/10\n",
      "8/8 [==============================] - 0s 6ms/step - loss: 0.0109\n",
      "Train Score: 2.94 RMSE\n",
      "Test Score: 10.49 RMSE\n"
     ]
    },
    {
     "data": {
      "image/png": "[encoded data removed]",
      "text/plain": [
       "<Figure size 432x288 with 1 Axes>"
      ]
     },
     "metadata": {},
     "output_type": "display_data"
    },
    {
     "name": "stdout",
     "output_type": "stream",
     "text": [
      "(1, 0)\n",
      "[[0.28087852 0.45160968]\n",
      " [0.42954268 0.20309513]\n",
      " [0.31297418 0.25611608]\n",
      " [0.33309299 0.32830475]\n",
      " [0.38163847 0.17391049]\n",
      " [0.26506997 0.16285842]]\n",
      "\n",
      "[[0.02762588 0.08065284]\n",
      " [0.         0.02970567]\n",
      " [0.05349383 0.        ]\n",
      " [0.02762588 0.03730375]\n",
      " [0.02123865 0.12296332]\n",
      " [0.14371263 0.21052069]]\n",
      "\n",
      "[[0.28087852 0.45160968]\n",
      " [0.42954268 0.20309513]\n",
      " [0.31297418 0.25611608]\n",
      " [0.33309299 0.32830475]\n",
      " [0.38163847 0.17391049]\n",
      " [0.26506997 0.16285842]\n",
      " [0.02762588 0.08065284]\n",
      " [0.         0.02970567]\n",
      " [0.05349383 0.        ]\n",
      " [0.02762588 0.03730375]\n",
      " [0.02123865 0.12296332]\n",
      " [0.14371263 0.21052069]]\n",
      "_________________________________________________________________\n",
      "Layer (type)                 Output Shape              Param #   \n",
      "=================================================================\n",
      "lstm_6 (LSTM)                (None, 100)               41200     \n",
      "_________________________________________________________________\n",
      "dense_6 (Dense)              (None, 2)                 202       \n",
      "=================================================================\n",
      "Total params: 41,402\n",
      "Trainable params: 41,402\n",
      "Non-trainable params: 0\n",
      "_________________________________________________________________\n",
      "Epoch 1/10\n",
      "8/8 [==============================] - 0s 60ms/step - loss: 0.0275\n",
      "Epoch 2/10\n",
      "8/8 [==============================] - 0s 6ms/step - loss: 0.0137\n",
      "Epoch 3/10\n",
      "8/8 [==============================] - 0s 6ms/step - loss: 0.0137\n",
      "Epoch 4/10\n",
      "8/8 [==============================] - 0s 6ms/step - loss: 0.0123\n",
      "Epoch 5/10\n",
      "8/8 [==============================] - 0s 6ms/step - loss: 0.0118\n",
      "Epoch 6/10\n",
      "8/8 [==============================] - 0s 6ms/step - loss: 0.0111\n",
      "Epoch 7/10\n",
      "8/8 [==============================] - 0s 6ms/step - loss: 0.0106\n",
      "Epoch 8/10\n",
      "8/8 [==============================] - 0s 6ms/step - loss: 0.0104\n",
      "Epoch 9/10\n",
      "8/8 [==============================] - 0s 6ms/step - loss: 0.0102\n",
      "Epoch 10/10\n",
      "8/8 [==============================] - 0s 6ms/step - loss: 0.0099\n",
      "Train Score: 2.80 RMSE\n",
      "Test Score: 15.53 RMSE\n"
     ]
    },
    {
     "data": {
      "image/png": "[encoded data removed]",
      "text/plain": [
       "<Figure size 432x288 with 1 Axes>"
      ]
     },
     "metadata": {},
     "output_type": "display_data"
    }
   ],
   "source": [
    "print(train, end=\"\\n\\n\")\n",
    "permutations = itertools.permutations(range(numInterval))\n",
    "for perm in permutations:\n",
    "    print(perm)\n",
    "    trainSet = generateData(train, perm)\n",
    "    trainSet = np.reshape(trainSet, train.shape)\n",
    "    print(trainSet)\n",
    "    shuffleData = np.vstack((trainSet, test))\n",
    "\n",
    "    lookBack = 3\n",
    "    trainX, trainY = create_dataset(trainSet, lookBack)\n",
    "    testX, testY = create_dataset(test, lookBack)\n",
    "#     print(trainX.shape)\n",
    "    # print(trainY[:5])\n",
    "\n",
    "    # trainX = np.reshape(trainX, (trainX.shape[0], 2, trainX.shape[1]))\n",
    "    # testX = np.reshape(testX, (testX.shape[0], 2, testX.shape[1]))\n",
    "\n",
    "    units = 100\n",
    "    drop = 0.2\n",
    "    epoch = 10\n",
    "\n",
    "    model = Sequential()\n",
    "    model.add(LSTM(units, input_shape=(lookBack, 2)))\n",
    "    # model.add(Dropout(drop))\n",
    "    model.add(Dense(2))\n",
    "    # model.compile(loss='mean_squared_error', optimizer='adam')\n",
    "    model.compile(loss='mean_squared_error', optimizer='nadam')\n",
    "    model.summary()\n",
    "    tensorboard = TensorBoard(log_dir=\"logs/{}\".format(time()))\n",
    "    model.fit(trainX, trainY, epochs=epoch, batch_size=1, verbose=1, callbacks=[tensorboard])\n",
    "\n",
    "    # print(trainX.shape)\n",
    "    trainPredict = model.predict(trainX)\n",
    "    # print(trainPredict.shape)\n",
    "    # print(testX.shape)\n",
    "    testPredict = model.predict(testX)\n",
    "    # print(testPredict.shape)\n",
    "\n",
    "    trainPredict = scaler.inverse_transform(trainPredict)\n",
    "    trainY = scaler.inverse_transform(trainY)\n",
    "    testPredict = scaler.inverse_transform(testPredict)\n",
    "    testY = scaler.inverse_transform(testY)\n",
    "\n",
    "    trainScore = math.sqrt(mean_squared_error(trainY, trainPredict))\n",
    "    print('Train Score: %.2f RMSE' % (trainScore))\n",
    "    testScore = math.sqrt(mean_squared_error(testY, testPredict))\n",
    "    print('Test Score: %.2f RMSE' % (testScore))\n",
    "\n",
    "    trainPredictPlot = np.empty_like(shuffleData)\n",
    "    trainPredictPlot[:, :] = np.nan\n",
    "    trainPredictPlot[look_back:len(trainPredict)+look_back, :] = trainPredict\n",
    "\n",
    "    testPredictPlot = np.empty_like(shuffleData)\n",
    "    testPredictPlot[:, :] = np.nan\n",
    "    testPredictPlot[len(trainPredict)+(look_back*2)+1:len(data)-1, :] = testPredict\n",
    "\n",
    "    # print(data.shape)\n",
    "    # print(train.shape)\n",
    "    # print(test.shape)\n",
    "    # print(trainPredict.shape)\n",
    "    # print(testPredict.shape)\n",
    "\n",
    "    col = 0\n",
    "    plt.plot(scaler.inverse_transform(shuffleData)[:,col])\n",
    "    plt.plot(trainPredictPlot[:,col])\n",
    "    plt.plot(testPredictPlot[:,col])\n",
    "    plt.title('Units = %d Dropout = %.2f Epoch = %d Split = %d%% Train = %.2f Test = %.2f' % \n",
    "            (units, drop, epoch, split*100, trainScore, testScore))\n",
    "    plt.show()"
   ]
  },
  {
   "cell_type": "code",
   "execution_count": null,
   "metadata": {},
   "outputs": [],
   "source": []
  }
 ],
 "metadata": {
  "kernelspec": {
   "display_name": "Python 3",
   "language": "python",
   "name": "python3"
  },
  "language_info": {
   "codemirror_mode": {
    "name": "ipython",
    "version": 3
   },
   "file_extension": ".py",
   "mimetype": "text/x-python",
   "name": "python",
   "nbconvert_exporter": "python",
   "pygments_lexer": "ipython3",
   "version": "3.5.2"
  }
 },
 "nbformat": 4,
 "nbformat_minor": 2
}
