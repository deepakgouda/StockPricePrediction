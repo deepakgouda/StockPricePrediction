{
 "cells": [
  {
   "cell_type": "code",
   "execution_count": 1,
   "metadata": {},
   "outputs": [
    {
     "data": {
      "text/plain": [
       "'\\nCode to generate various confidence bands and find the best one \\nby comparing the sum of the lengths of confidence intervals at \\neach time step, standard deviation and the length of maximum interval.\\n'"
      ]
     },
     "execution_count": 1,
     "metadata": {},
     "output_type": "execute_result"
    }
   ],
   "source": [
    "'''\n",
    "Code to generate various confidence bands and find the best one \n",
    "by comparing the sum of the lengths of confidence intervals at \n",
    "each time step, standard deviation and the length of maximum interval.\n",
    "'''"
   ]
  },
  {
   "cell_type": "code",
   "execution_count": 2,
   "metadata": {},
   "outputs": [],
   "source": [
    "import numpy as np\n",
    "from numpy.random import randint\n",
    "from math import factorial, sqrt\n",
    "import matplotlib.pyplot as plt\n",
    "from pandas import read_csv"
   ]
  },
  {
   "cell_type": "code",
   "execution_count": 47,
   "metadata": {},
   "outputs": [],
   "source": [
    "from keras.models import Sequential, load_model\n",
    "from keras.layers import Dense, Dropout\n",
    "from keras.layers import LSTM\n",
    "from sklearn.preprocessing import MinMaxScaler\n",
    "from sklearn.metrics import mean_squared_error\n",
    "from keras.callbacks import TensorBoard, EarlyStopping"
   ]
  },
  {
   "cell_type": "code",
   "execution_count": 4,
   "metadata": {},
   "outputs": [],
   "source": [
    "from time import time\n",
    "import itertools"
   ]
  },
  {
   "cell_type": "code",
   "execution_count": 5,
   "metadata": {},
   "outputs": [],
   "source": [
    "# Generate X and Y pairs where dim of X = (1, look_back)\n",
    "def create_dataset(dataset, look_back = 1):\n",
    "    dataX, dataY = [], []\n",
    "    for i in range(len(dataset)-look_back-1):\n",
    "        a = dataset[i:(i+look_back), :]\n",
    "        dataX.append(a)\n",
    "        dataY.append(dataset[i + look_back, :])\n",
    "    return np.array(dataX), np.array(dataY)"
   ]
  },
  {
   "cell_type": "code",
   "execution_count": 6,
   "metadata": {},
   "outputs": [],
   "source": [
    "# Arrange blocks of data according to permutation\n",
    "def arrange_data(data, perm):\n",
    "    arranged_data = []\n",
    "    for i in perm:\n",
    "        arranged_data.append(data[i])\n",
    "    return arranged_data"
   ]
  },
  {
   "cell_type": "code",
   "execution_count": 7,
   "metadata": {},
   "outputs": [],
   "source": [
    "def data_resample(data, blockSize, overlap = 0):\n",
    "    n = len(data) # 100\n",
    "    numBlocks = (n-overlap)//(blockSize-overlap) # 20\n",
    "    resampled_data = []\n",
    "    i = 0\n",
    "    while (i+blockSize) <= len(data):\n",
    "        x = data[i: (i+blockSize)]\n",
    "        indx = randint(0, blockSize, size = blockSize)\n",
    "        y = [x[j] for j in indx]\n",
    "        resampled_data.append(y)\n",
    "        i = i + blockSize - overlap\n",
    "    return resampled_data"
   ]
  },
  {
   "cell_type": "code",
   "execution_count": 8,
   "metadata": {},
   "outputs": [],
   "source": [
    "def block_resample(data, blockSize, overlap = 0):\n",
    "    n = len(data) # 100\n",
    "    numBlocks = (n-overlap)//(blockSize-overlap) # 20\n",
    "    x = []\n",
    "    resampled_data = []\n",
    "    i = 0\n",
    "    while (i+blockSize) <= len(data):\n",
    "        x.append(data[i: (i+blockSize)])\n",
    "        i = i + blockSize - overlap\n",
    "    indx = randint(0, numBlocks, size = numBlocks)\n",
    "    resampled_data = [x[j] for j in indx]\n",
    "    return resampled_data"
   ]
  },
  {
   "cell_type": "code",
   "execution_count": 89,
   "metadata": {},
   "outputs": [
    {
     "name": "stdout",
     "output_type": "stream",
     "text": [
      "       open     close\n",
      "0  390.4551  393.0777\n",
      "1  389.5892  391.6012\n",
      "2  391.2659  390.7403\n",
      "3  390.4551  391.8214\n",
      "4  390.2549  394.3039\n",
      "(1259, 2)\n"
     ]
    }
   ],
   "source": [
    "fields = ['open', 'close']\n",
    "dataframe = read_csv('GOOGL_data.csv', skipinitialspace = True, squeeze = True, usecols = fields)\n",
    "\n",
    "print(dataframe.head())\n",
    "data = np.array(dataframe)\n",
    "print(data.shape)"
   ]
  },
  {
   "cell_type": "code",
   "execution_count": 90,
   "metadata": {},
   "outputs": [],
   "source": [
    "# x = np.array(range(16))+1\n",
    "# data_resample(x, 4, 1)"
   ]
  },
  {
   "cell_type": "code",
   "execution_count": 91,
   "metadata": {},
   "outputs": [],
   "source": [
    "# resample = bootstrap_resample(data, 5)\n",
    "# resample\n",
    "# resample[1]\n",
    "# arrange = arrange_data(resample, [1, 0])\n",
    "# arrange[0]"
   ]
  },
  {
   "cell_type": "code",
   "execution_count": 92,
   "metadata": {},
   "outputs": [
    {
     "name": "stdout",
     "output_type": "stream",
     "text": [
      "[[0.00683718 0.01210825]\n",
      " [0.0057589  0.01027231]\n",
      " [0.00784685 0.00920184]\n",
      " [0.00683718 0.01054612]\n",
      " [0.00658788 0.01363296]]\n"
     ]
    }
   ],
   "source": [
    "# Scale between (0, 1)\n",
    "scaler = MinMaxScaler(feature_range=(0, 1))\n",
    "data = scaler.fit_transform(data)\n",
    "print(data[:5])"
   ]
  },
  {
   "cell_type": "code",
   "execution_count": 93,
   "metadata": {},
   "outputs": [
    {
     "name": "stdout",
     "output_type": "stream",
     "text": [
      "906\n",
      "353\n"
     ]
    }
   ],
   "source": [
    "split = 0.72\n",
    "trainSize = int(len(data)*split)\n",
    "testSize = len(data)-trainSize\n",
    "print(trainSize)\n",
    "print(testSize)"
   ]
  },
  {
   "cell_type": "code",
   "execution_count": 94,
   "metadata": {},
   "outputs": [
    {
     "name": "stdout",
     "output_type": "stream",
     "text": [
      "[[0.00683718 0.01210825]\n",
      " [0.0057589  0.01027231]\n",
      " [0.00784685 0.00920184]\n",
      " [0.00683718 0.01054612]\n",
      " [0.00658788 0.01363296]]\n"
     ]
    }
   ],
   "source": [
    "train = data[0:trainSize,:]\n",
    "test = data[trainSize:len(data),:]\n",
    "print(train[:5])"
   ]
  },
  {
   "cell_type": "code",
   "execution_count": 95,
   "metadata": {},
   "outputs": [],
   "source": [
    "# l = block size\n",
    "blockSize = 200\n",
    "overlap = 0\n",
    "numBlocks = (len(train) - overlap)//(blockSize - overlap)\n",
    "# print(blockSize)"
   ]
  },
  {
   "cell_type": "code",
   "execution_count": 96,
   "metadata": {},
   "outputs": [
    {
     "data": {
      "text/plain": [
       "4"
      ]
     },
     "execution_count": 96,
     "metadata": {},
     "output_type": "execute_result"
    }
   ],
   "source": [
    "numBlocks"
   ]
  },
  {
   "cell_type": "code",
   "execution_count": 97,
   "metadata": {},
   "outputs": [
    {
     "data": {
      "text/plain": [
       "array([[1, 2],\n",
       "       [2, 3],\n",
       "       [3, 4]])"
      ]
     },
     "execution_count": 97,
     "metadata": {},
     "output_type": "execute_result"
    }
   ],
   "source": [
    "A = np.array([[[1, 2]], [[2, 3]], [[3, 4]]])\n",
    "B = np.reshape(A, (A.shape[0]*A.shape[1], A.shape[2]))\n",
    "B"
   ]
  },
  {
   "cell_type": "code",
   "execution_count": 98,
   "metadata": {},
   "outputs": [
    {
     "name": "stdout",
     "output_type": "stream",
     "text": [
      "Count = 1/24\n",
      "Epoch 1/10\n",
      "796/796 [==============================] - 9s 12ms/step - loss: 0.0010\n",
      "Epoch 2/10\n",
      "796/796 [==============================] - 8s 10ms/step - loss: 4.5998e-04\n",
      "Epoch 3/10\n",
      "796/796 [==============================] - 9s 11ms/step - loss: 4.4276e-04\n",
      "Epoch 4/10\n",
      "796/796 [==============================] - 8s 11ms/step - loss: 3.5688e-04\n",
      "Epoch 5/10\n",
      "796/796 [==============================] - 8s 10ms/step - loss: 3.3382e-04\n",
      "Epoch 6/10\n",
      "796/796 [==============================] - 8s 10ms/step - loss: 3.0279e-04\n",
      "Epoch 7/10\n",
      "796/796 [==============================] - 9s 11ms/step - loss: 2.6837e-04\n",
      "Epoch 8/10\n",
      "796/796 [==============================] - 8s 10ms/step - loss: 2.6721e-04\n",
      "Epoch 9/10\n",
      "796/796 [==============================] - 8s 10ms/step - loss: 2.4910e-04\n",
      "Epoch 10/10\n",
      "796/796 [==============================] - 8s 10ms/step - loss: 2.7457e-04\n",
      "Train Score: 12.63 RMSE\n",
      "Test Score: 24.60 RMSE\n",
      "Count = 2/24\n",
      "Epoch 1/10\n",
      "796/796 [==============================] - 9s 12ms/step - loss: 0.0016\n",
      "Epoch 2/10\n",
      "796/796 [==============================] - 9s 11ms/step - loss: 7.5012e-04\n",
      "Epoch 3/10\n",
      "796/796 [==============================] - 8s 10ms/step - loss: 5.4464e-04\n",
      "Epoch 4/10\n",
      "796/796 [==============================] - 8s 10ms/step - loss: 4.8555e-04\n",
      "Epoch 5/10\n",
      "796/796 [==============================] - 8s 11ms/step - loss: 4.5374e-04\n",
      "Epoch 6/10\n",
      "796/796 [==============================] - 8s 11ms/step - loss: 4.0328e-04\n",
      "Epoch 7/10\n",
      "796/796 [==============================] - 8s 10ms/step - loss: 4.0050e-04\n",
      "Epoch 8/10\n",
      "796/796 [==============================] - 8s 10ms/step - loss: 3.6275e-04\n",
      "Epoch 9/10\n",
      "796/796 [==============================] - 8s 10ms/step - loss: 3.7939e-04\n",
      "Epoch 10/10\n",
      "796/796 [==============================] - 9s 11ms/step - loss: 3.5578e-04\n",
      "Train Score: 13.37 RMSE\n",
      "Test Score: 12.40 RMSE\n",
      "Count = 3/24\n",
      "Epoch 1/10\n",
      "796/796 [==============================] - 10s 12ms/step - loss: 7.4043e-04\n",
      "Epoch 2/10\n",
      "796/796 [==============================] - 8s 11ms/step - loss: 3.6458e-04\n",
      "Epoch 3/10\n",
      "796/796 [==============================] - 8s 10ms/step - loss: 2.8680e-04\n",
      "Epoch 4/10\n",
      "796/796 [==============================] - 9s 11ms/step - loss: 2.4710e-04\n",
      "Epoch 5/10\n",
      "796/796 [==============================] - 8s 10ms/step - loss: 2.2631e-04\n",
      "Epoch 6/10\n",
      "796/796 [==============================] - 8s 11ms/step - loss: 2.0763e-04\n",
      "Epoch 7/10\n",
      "796/796 [==============================] - 9s 11ms/step - loss: 1.9239e-04\n",
      "Epoch 8/10\n",
      "796/796 [==============================] - 9s 11ms/step - loss: 1.7379e-04\n",
      "Epoch 9/10\n",
      "796/796 [==============================] - 9s 11ms/step - loss: 1.8198e-04\n",
      "Epoch 10/10\n",
      "796/796 [==============================] - 8s 11ms/step - loss: 1.7546e-04\n",
      "Train Score: 10.41 RMSE\n",
      "Test Score: 12.71 RMSE\n",
      "Count = 4/24\n",
      "Epoch 1/10\n",
      "796/796 [==============================] - 9s 12ms/step - loss: 0.0017\n",
      "Epoch 2/10\n",
      "796/796 [==============================] - 8s 10ms/step - loss: 8.7915e-04\n",
      "Epoch 3/10\n",
      "796/796 [==============================] - 8s 10ms/step - loss: 9.2195e-04\n",
      "Epoch 4/10\n",
      "796/796 [==============================] - 8s 10ms/step - loss: 7.9755e-04\n",
      "Epoch 5/10\n",
      "796/796 [==============================] - 8s 10ms/step - loss: 6.8415e-04\n",
      "Epoch 6/10\n",
      "796/796 [==============================] - 8s 10ms/step - loss: 6.1029e-04\n",
      "Epoch 7/10\n",
      "796/796 [==============================] - 8s 11ms/step - loss: 6.5154e-04\n",
      "Epoch 8/10\n",
      "796/796 [==============================] - 8s 11ms/step - loss: 6.6451e-04\n",
      "Train Score: 16.72 RMSE\n",
      "Test Score: 13.10 RMSE\n",
      "Count = 5/24\n",
      "Epoch 1/10\n",
      "796/796 [==============================] - 9s 12ms/step - loss: 0.0024\n",
      "Epoch 2/10\n",
      "796/796 [==============================] - 8s 10ms/step - loss: 0.0011\n",
      "Epoch 3/10\n",
      "796/796 [==============================] - 8s 10ms/step - loss: 8.5256e-04\n",
      "Epoch 4/10\n",
      "796/796 [==============================] - 9s 11ms/step - loss: 7.1963e-04\n",
      "Epoch 5/10\n",
      "796/796 [==============================] - 8s 10ms/step - loss: 7.2106e-04\n",
      "Epoch 6/10\n",
      "796/796 [==============================] - 8s 10ms/step - loss: 6.1444e-04\n",
      "Epoch 7/10\n",
      "796/796 [==============================] - 8s 10ms/step - loss: 5.8609e-04\n",
      "Epoch 8/10\n",
      "796/796 [==============================] - 9s 11ms/step - loss: 6.3473e-04\n",
      "Epoch 9/10\n",
      "796/796 [==============================] - 9s 11ms/step - loss: 5.9860e-04\n",
      "Train Score: 18.68 RMSE\n",
      "Test Score: 11.25 RMSE\n",
      "Count = 6/24\n",
      "Epoch 1/10\n",
      "796/796 [==============================] - 9s 11ms/step - loss: 8.8687e-04\n",
      "Epoch 2/10\n",
      "796/796 [==============================] - 8s 10ms/step - loss: 3.5946e-04\n",
      "Epoch 3/10\n",
      "796/796 [==============================] - 8s 10ms/step - loss: 2.9564e-04\n",
      "Epoch 4/10\n",
      "796/796 [==============================] - 8s 10ms/step - loss: 2.6768e-04\n",
      "Epoch 5/10\n",
      "796/796 [==============================] - 8s 10ms/step - loss: 2.3015e-04\n",
      "Epoch 6/10\n",
      "796/796 [==============================] - 8s 10ms/step - loss: 1.9085e-04\n",
      "Epoch 7/10\n",
      "796/796 [==============================] - 8s 10ms/step - loss: 1.6802e-04\n",
      "Epoch 8/10\n",
      "796/796 [==============================] - 8s 10ms/step - loss: 1.5249e-04\n",
      "Epoch 9/10\n",
      "796/796 [==============================] - 8s 10ms/step - loss: 1.5430e-04\n",
      "Epoch 10/10\n",
      "796/796 [==============================] - 8s 10ms/step - loss: 1.4338e-04\n",
      "Train Score: 8.18 RMSE\n",
      "Test Score: 12.07 RMSE\n",
      "Count = 7/24\n",
      "Epoch 1/10\n",
      "796/796 [==============================] - 9s 11ms/step - loss: 0.0012\n",
      "Epoch 2/10\n",
      "796/796 [==============================] - 8s 10ms/step - loss: 6.0110e-04\n",
      "Epoch 3/10\n",
      "796/796 [==============================] - 8s 10ms/step - loss: 5.2922e-04\n",
      "Epoch 4/10\n",
      "796/796 [==============================] - 8s 10ms/step - loss: 4.1322e-04\n",
      "Epoch 5/10\n",
      "796/796 [==============================] - 8s 9ms/step - loss: 3.5614e-04\n",
      "Epoch 6/10\n",
      "796/796 [==============================] - 8s 10ms/step - loss: 3.7490e-04\n",
      "Epoch 7/10\n",
      "796/796 [==============================] - 8s 10ms/step - loss: 3.3910e-04\n",
      "Epoch 8/10\n",
      "796/796 [==============================] - 8s 10ms/step - loss: 3.3654e-04\n",
      "Epoch 9/10\n",
      "796/796 [==============================] - 8s 10ms/step - loss: 3.2423e-04\n",
      "Epoch 10/10\n",
      "796/796 [==============================] - 8s 10ms/step - loss: 2.8883e-04\n",
      "Train Score: 21.31 RMSE\n",
      "Test Score: 58.71 RMSE\n",
      "Count = 8/24\n",
      "Epoch 1/10\n",
      "796/796 [==============================] - 9s 11ms/step - loss: 0.0017\n",
      "Epoch 2/10\n",
      "796/796 [==============================] - 8s 10ms/step - loss: 7.2268e-04\n",
      "Epoch 3/10\n",
      "796/796 [==============================] - 8s 10ms/step - loss: 6.0640e-04\n",
      "Epoch 4/10\n",
      "796/796 [==============================] - 8s 10ms/step - loss: 5.4530e-04\n",
      "Epoch 5/10\n",
      "796/796 [==============================] - 8s 9ms/step - loss: 4.9887e-04\n",
      "Epoch 6/10\n",
      "796/796 [==============================] - 8s 10ms/step - loss: 4.2681e-04\n",
      "Epoch 7/10\n",
      "796/796 [==============================] - 8s 10ms/step - loss: 4.3019e-04\n",
      "Epoch 8/10\n",
      "796/796 [==============================] - 8s 10ms/step - loss: 4.3620e-04\n",
      "Train Score: 21.52 RMSE\n",
      "Test Score: 42.27 RMSE\n",
      "Count = 9/24\n",
      "Epoch 1/10\n",
      "796/796 [==============================] - 11s 14ms/step - loss: 0.0023\n",
      "Epoch 2/10\n",
      "796/796 [==============================] - 8s 10ms/step - loss: 9.9070e-04\n",
      "Epoch 3/10\n",
      "796/796 [==============================] - 9s 11ms/step - loss: 9.0745e-04\n",
      "Epoch 4/10\n",
      "796/796 [==============================] - 10s 13ms/step - loss: 7.5624e-04\n",
      "Epoch 5/10\n",
      "796/796 [==============================] - 10s 12ms/step - loss: 6.8585e-04\n",
      "Epoch 6/10\n",
      "796/796 [==============================] - 9s 11ms/step - loss: 6.6316e-04\n",
      "Epoch 7/10\n",
      "796/796 [==============================] - 9s 11ms/step - loss: 6.5318e-04\n",
      "Epoch 8/10\n",
      "796/796 [==============================] - 10s 13ms/step - loss: 6.2996e-04\n",
      "Epoch 9/10\n",
      "796/796 [==============================] - 10s 13ms/step - loss: 6.0086e-04\n",
      "Epoch 10/10\n",
      "796/796 [==============================] - 9s 11ms/step - loss: 5.6599e-04\n",
      "Train Score: 17.35 RMSE\n",
      "Test Score: 15.95 RMSE\n",
      "Count = 10/24\n",
      "Epoch 1/10\n",
      "796/796 [==============================] - 11s 13ms/step - loss: 0.0016\n",
      "Epoch 2/10\n",
      "796/796 [==============================] - 9s 11ms/step - loss: 9.4100e-04\n",
      "Epoch 3/10\n",
      "796/796 [==============================] - 12s 16ms/step - loss: 8.0705e-04\n",
      "Epoch 4/10\n",
      "796/796 [==============================] - 10s 12ms/step - loss: 6.9866e-04\n",
      "Epoch 5/10\n"
     ]
    },
    {
     "name": "stdout",
     "output_type": "stream",
     "text": [
      "796/796 [==============================] - 9s 12ms/step - loss: 6.7394e-04\n",
      "Epoch 6/10\n",
      "796/796 [==============================] - 9s 11ms/step - loss: 6.8842e-04\n",
      "Epoch 7/10\n",
      "796/796 [==============================] - 9s 12ms/step - loss: 5.8431e-04\n",
      "Epoch 8/10\n",
      "796/796 [==============================] - 10s 13ms/step - loss: 6.5871e-04\n",
      "Epoch 9/10\n",
      "796/796 [==============================] - 11s 14ms/step - loss: 6.5488e-04\n",
      "Train Score: 16.59 RMSE\n",
      "Test Score: 19.11 RMSE\n",
      "Count = 11/24\n",
      "Epoch 1/10\n",
      "796/796 [==============================] - 12s 15ms/step - loss: 0.0011\n",
      "Epoch 2/10\n",
      "796/796 [==============================] - 10s 12ms/step - loss: 3.9689e-04\n",
      "Epoch 3/10\n",
      "796/796 [==============================] - 9s 11ms/step - loss: 3.5662e-04\n",
      "Epoch 4/10\n",
      "796/796 [==============================] - 11s 13ms/step - loss: 3.1065e-04\n",
      "Epoch 5/10\n",
      "796/796 [==============================] - 11s 14ms/step - loss: 2.6459e-04\n",
      "Epoch 6/10\n",
      "796/796 [==============================] - 10s 12ms/step - loss: 2.2316e-04\n",
      "Epoch 7/10\n",
      "796/796 [==============================] - 9s 11ms/step - loss: 2.0191e-04\n",
      "Epoch 8/10\n",
      "796/796 [==============================] - 11s 13ms/step - loss: 1.8035e-04\n",
      "Epoch 9/10\n",
      "796/796 [==============================] - 11s 13ms/step - loss: 1.8142e-04\n",
      "Epoch 10/10\n",
      "796/796 [==============================] - 10s 12ms/step - loss: 1.9045e-04\n",
      "Train Score: 10.02 RMSE\n",
      "Test Score: 12.26 RMSE\n",
      "Count = 12/24\n",
      "Epoch 1/10\n",
      "796/796 [==============================] - 11s 14ms/step - loss: 0.0015\n",
      "Epoch 2/10\n",
      "796/796 [==============================] - 8s 10ms/step - loss: 5.4679e-04\n",
      "Epoch 3/10\n",
      "796/796 [==============================] - 10s 12ms/step - loss: 4.4002e-04\n",
      "Epoch 4/10\n",
      "796/796 [==============================] - 11s 14ms/step - loss: 3.7073e-04\n",
      "Epoch 5/10\n",
      "796/796 [==============================] - 10s 13ms/step - loss: 3.4532e-04\n",
      "Epoch 6/10\n",
      "796/796 [==============================] - 9s 11ms/step - loss: 2.9804e-04\n",
      "Epoch 7/10\n",
      "796/796 [==============================] - 10s 12ms/step - loss: 2.7956e-04\n",
      "Epoch 8/10\n",
      "796/796 [==============================] - 10s 13ms/step - loss: 2.7921e-04\n",
      "Epoch 9/10\n",
      "796/796 [==============================] - 10s 13ms/step - loss: 2.9879e-04\n",
      "Epoch 10/10\n",
      "796/796 [==============================] - 8s 10ms/step - loss: 2.6438e-04\n",
      "Train Score: 11.03 RMSE\n",
      "Test Score: 17.06 RMSE\n",
      "Count = 13/24\n",
      "Epoch 1/10\n",
      "796/796 [==============================] - 11s 14ms/step - loss: 0.0011\n",
      "Epoch 2/10\n",
      "796/796 [==============================] - 8s 10ms/step - loss: 5.0866e-04\n",
      "Epoch 3/10\n",
      "796/796 [==============================] - 9s 11ms/step - loss: 4.6498e-04\n",
      "Epoch 4/10\n",
      "796/796 [==============================] - 9s 11ms/step - loss: 3.8471e-04\n",
      "Epoch 5/10\n",
      "796/796 [==============================] - 9s 11ms/step - loss: 3.6882e-04\n",
      "Epoch 6/10\n",
      "796/796 [==============================] - 9s 11ms/step - loss: 3.1911e-04\n",
      "Epoch 7/10\n",
      "796/796 [==============================] - 11s 13ms/step - loss: 3.0351e-04\n",
      "Epoch 8/10\n",
      "796/796 [==============================] - 10s 12ms/step - loss: 2.6622e-04\n",
      "Epoch 9/10\n",
      "796/796 [==============================] - 10s 12ms/step - loss: 2.4893e-04\n",
      "Epoch 10/10\n",
      "796/796 [==============================] - 9s 11ms/step - loss: 2.6525e-04\n",
      "Train Score: 12.31 RMSE\n",
      "Test Score: 11.86 RMSE\n",
      "Count = 14/24\n",
      "Epoch 1/10\n",
      "796/796 [==============================] - 11s 14ms/step - loss: 0.0014\n",
      "Epoch 2/10\n",
      "796/796 [==============================] - 8s 10ms/step - loss: 7.1456e-04\n",
      "Epoch 3/10\n",
      "796/796 [==============================] - 12s 15ms/step - loss: 6.2770e-04\n",
      "Epoch 4/10\n",
      "796/796 [==============================] - 12s 15ms/step - loss: 4.9799e-04\n",
      "Epoch 5/10\n",
      "796/796 [==============================] - 12s 15ms/step - loss: 4.2644e-04\n",
      "Epoch 6/10\n",
      "796/796 [==============================] - 9s 11ms/step - loss: 4.3151e-04\n",
      "Epoch 7/10\n",
      "796/796 [==============================] - 11s 13ms/step - loss: 3.7031e-04\n",
      "Epoch 8/10\n",
      "796/796 [==============================] - 11s 14ms/step - loss: 4.7473e-04\n",
      "Epoch 9/10\n",
      "796/796 [==============================] - 8s 10ms/step - loss: 3.7651e-04\n",
      "Train Score: 12.67 RMSE\n",
      "Test Score: 12.95 RMSE\n",
      "Count = 15/24\n",
      "Epoch 1/10\n",
      "796/796 [==============================] - 11s 14ms/step - loss: 0.0019\n",
      "Epoch 2/10\n",
      "796/796 [==============================] - 9s 12ms/step - loss: 0.0011\n",
      "Epoch 3/10\n",
      "796/796 [==============================] - 8s 11ms/step - loss: 8.4880e-04\n",
      "Epoch 4/10\n",
      "796/796 [==============================] - 9s 11ms/step - loss: 7.7474e-04\n",
      "Epoch 5/10\n",
      "796/796 [==============================] - 9s 12ms/step - loss: 6.5634e-04\n",
      "Epoch 6/10\n",
      "796/796 [==============================] - 9s 12ms/step - loss: 7.3217e-04\n",
      "Epoch 7/10\n",
      "796/796 [==============================] - 9s 11ms/step - loss: 6.5617e-04\n",
      "Epoch 8/10\n",
      "796/796 [==============================] - 9s 11ms/step - loss: 6.8538e-04\n",
      "Epoch 9/10\n",
      "796/796 [==============================] - 9s 11ms/step - loss: 5.8888e-04\n",
      "Epoch 10/10\n",
      "796/796 [==============================] - 9s 11ms/step - loss: 6.2565e-04\n",
      "Train Score: 20.76 RMSE\n",
      "Test Score: 48.77 RMSE\n",
      "Count = 16/24\n",
      "Epoch 1/10\n",
      "796/796 [==============================] - 10s 13ms/step - loss: 6.2106e-04\n",
      "Epoch 2/10\n",
      "796/796 [==============================] - 9s 11ms/step - loss: 2.9696e-04\n",
      "Epoch 3/10\n",
      "796/796 [==============================] - 9s 11ms/step - loss: 2.5850e-04\n",
      "Epoch 4/10\n",
      "796/796 [==============================] - 9s 11ms/step - loss: 1.8056e-04\n",
      "Epoch 5/10\n",
      "796/796 [==============================] - 9s 12ms/step - loss: 1.6457e-04\n",
      "Epoch 6/10\n",
      "796/796 [==============================] - 11s 14ms/step - loss: 1.5148e-04\n",
      "Epoch 7/10\n",
      "796/796 [==============================] - 9s 12ms/step - loss: 1.5147e-04\n",
      "Epoch 8/10\n",
      "796/796 [==============================] - 9s 11ms/step - loss: 1.4597e-04\n",
      "Epoch 9/10\n",
      "796/796 [==============================] - 9s 11ms/step - loss: 1.4905e-04\n",
      "Epoch 10/10\n",
      "796/796 [==============================] - 9s 11ms/step - loss: 1.4491e-04\n",
      "Train Score: 8.49 RMSE\n",
      "Test Score: 22.89 RMSE\n",
      "Count = 17/24\n",
      "Epoch 1/10\n",
      "796/796 [==============================] - 11s 14ms/step - loss: 0.0024\n",
      "Epoch 2/10\n",
      "796/796 [==============================] - 8s 10ms/step - loss: 9.1807e-04\n",
      "Epoch 3/10\n",
      "796/796 [==============================] - 9s 11ms/step - loss: 7.3914e-04\n",
      "Epoch 4/10\n",
      "796/796 [==============================] - 8s 11ms/step - loss: 6.8002e-04\n",
      "Epoch 5/10\n",
      "796/796 [==============================] - 8s 10ms/step - loss: 5.8131e-04\n",
      "Epoch 6/10\n",
      "796/796 [==============================] - 8s 10ms/step - loss: 5.2620e-04\n",
      "Epoch 7/10\n",
      "796/796 [==============================] - 8s 10ms/step - loss: 4.7017e-04\n",
      "Epoch 8/10\n",
      "796/796 [==============================] - 8s 11ms/step - loss: 4.8269e-04\n",
      "Epoch 9/10\n",
      "796/796 [==============================] - 9s 11ms/step - loss: 4.8887e-04\n",
      "Train Score: 15.27 RMSE\n",
      "Test Score: 14.33 RMSE\n",
      "Count = 18/24\n",
      "Epoch 1/10\n",
      "796/796 [==============================] - 10s 12ms/step - loss: 0.0011\n",
      "Epoch 2/10\n",
      "796/796 [==============================] - 8s 10ms/step - loss: 4.6756e-04\n",
      "Epoch 3/10\n",
      "796/796 [==============================] - 8s 10ms/step - loss: 3.9063e-04\n",
      "Epoch 4/10\n",
      "796/796 [==============================] - 13s 16ms/step - loss: 3.3425e-04\n",
      "Epoch 5/10\n",
      "796/796 [==============================] - 12s 15ms/step - loss: 2.9658e-04\n",
      "Epoch 6/10\n",
      "796/796 [==============================] - 9s 11ms/step - loss: 2.6445e-04\n",
      "Epoch 7/10\n",
      "796/796 [==============================] - 8s 10ms/step - loss: 2.3452e-04\n",
      "Epoch 8/10\n",
      "796/796 [==============================] - 8s 10ms/step - loss: 2.2641e-04\n",
      "Epoch 9/10\n",
      "796/796 [==============================] - 8s 10ms/step - loss: 2.2002e-04\n",
      "Epoch 10/10\n",
      "796/796 [==============================] - 9s 11ms/step - loss: 2.1918e-04\n",
      "Train Score: 10.22 RMSE\n",
      "Test Score: 13.80 RMSE\n",
      "Count = 19/24\n",
      "Epoch 1/10\n",
      "796/796 [==============================] - 9s 12ms/step - loss: 6.5067e-04\n",
      "Epoch 2/10\n",
      "796/796 [==============================] - 8s 10ms/step - loss: 3.0796e-04\n",
      "Epoch 3/10\n",
      "796/796 [==============================] - 8s 10ms/step - loss: 2.5222e-04\n",
      "Epoch 4/10\n",
      "796/796 [==============================] - 8s 10ms/step - loss: 1.9657e-04\n",
      "Epoch 5/10\n",
      "796/796 [==============================] - 9s 11ms/step - loss: 1.8007e-04\n",
      "Epoch 6/10\n"
     ]
    },
    {
     "name": "stdout",
     "output_type": "stream",
     "text": [
      "796/796 [==============================] - 8s 10ms/step - loss: 1.7711e-04\n",
      "Epoch 7/10\n",
      "796/796 [==============================] - 8s 10ms/step - loss: 1.9083e-04\n",
      "Epoch 8/10\n",
      "796/796 [==============================] - 8s 10ms/step - loss: 1.8637e-04\n",
      "Train Score: 9.39 RMSE\n",
      "Test Score: 15.65 RMSE\n",
      "Count = 20/24\n",
      "Epoch 1/10\n",
      "796/796 [==============================] - 11s 13ms/step - loss: 0.0011\n",
      "Epoch 2/10\n",
      "796/796 [==============================] - 8s 11ms/step - loss: 4.0997e-04\n",
      "Epoch 3/10\n",
      "796/796 [==============================] - 8s 11ms/step - loss: 3.2730e-04\n",
      "Epoch 4/10\n",
      "796/796 [==============================] - 8s 11ms/step - loss: 2.8949e-04\n",
      "Epoch 5/10\n",
      "796/796 [==============================] - 10s 12ms/step - loss: 2.4926e-04\n",
      "Epoch 6/10\n",
      "796/796 [==============================] - 13s 16ms/step - loss: 2.1615e-04\n",
      "Epoch 7/10\n",
      "796/796 [==============================] - 12s 15ms/step - loss: 1.8861e-04\n",
      "Epoch 8/10\n",
      "796/796 [==============================] - 11s 13ms/step - loss: 1.7210e-04\n",
      "Epoch 9/10\n",
      "796/796 [==============================] - 9s 11ms/step - loss: 1.7395e-04\n",
      "Epoch 10/10\n",
      "796/796 [==============================] - 9s 11ms/step - loss: 1.6566e-04\n",
      "Train Score: 10.22 RMSE\n",
      "Test Score: 13.86 RMSE\n",
      "Count = 21/24\n",
      "Epoch 1/10\n",
      "796/796 [==============================] - 10s 12ms/step - loss: 0.0014\n",
      "Epoch 2/10\n",
      "796/796 [==============================] - 9s 11ms/step - loss: 4.1607e-04\n",
      "Epoch 3/10\n",
      "796/796 [==============================] - 11s 14ms/step - loss: 3.4566e-04\n",
      "Epoch 4/10\n",
      "796/796 [==============================] - 9s 12ms/step - loss: 3.0136e-04\n",
      "Epoch 5/10\n",
      "796/796 [==============================] - 8s 10ms/step - loss: 2.5369e-04\n",
      "Epoch 6/10\n",
      "796/796 [==============================] - 8s 10ms/step - loss: 2.1673e-04\n",
      "Epoch 7/10\n",
      "796/796 [==============================] - 8s 10ms/step - loss: 1.9086e-04\n",
      "Epoch 8/10\n",
      "796/796 [==============================] - 8s 10ms/step - loss: 1.7409e-04\n",
      "Epoch 9/10\n",
      "796/796 [==============================] - 11s 13ms/step - loss: 1.6422e-04\n",
      "Epoch 10/10\n",
      "796/796 [==============================] - 8s 11ms/step - loss: 1.5476e-04\n",
      "Train Score: 9.90 RMSE\n",
      "Test Score: 14.40 RMSE\n",
      "Count = 22/24\n",
      "Epoch 1/10\n",
      "796/796 [==============================] - 10s 12ms/step - loss: 7.8329e-04\n",
      "Epoch 2/10\n",
      "796/796 [==============================] - 8s 10ms/step - loss: 3.6459e-04\n",
      "Epoch 3/10\n",
      "796/796 [==============================] - 9s 11ms/step - loss: 2.9418e-04\n",
      "Epoch 4/10\n",
      "796/796 [==============================] - 8s 10ms/step - loss: 2.5996e-04\n",
      "Epoch 5/10\n",
      "796/796 [==============================] - 8s 10ms/step - loss: 2.3258e-04\n",
      "Epoch 6/10\n",
      "796/796 [==============================] - 8s 10ms/step - loss: 2.2397e-04\n",
      "Epoch 7/10\n",
      "796/796 [==============================] - 8s 10ms/step - loss: 2.2055e-04\n",
      "Epoch 8/10\n",
      "796/796 [==============================] - 8s 10ms/step - loss: 2.2336e-04\n",
      "Epoch 9/10\n",
      "796/796 [==============================] - 8s 10ms/step - loss: 2.0114e-04\n",
      "Epoch 10/10\n",
      "796/796 [==============================] - 9s 11ms/step - loss: 1.9888e-04\n",
      "Train Score: 13.44 RMSE\n",
      "Test Score: 88.83 RMSE\n",
      "Count = 23/24\n",
      "Epoch 1/10\n",
      "796/796 [==============================] - 10s 12ms/step - loss: 0.0024\n",
      "Epoch 2/10\n",
      "796/796 [==============================] - 8s 10ms/step - loss: 9.1341e-04\n",
      "Epoch 3/10\n",
      "796/796 [==============================] - 8s 10ms/step - loss: 8.0911e-04\n",
      "Epoch 4/10\n",
      "796/796 [==============================] - 8s 10ms/step - loss: 6.7464e-04\n",
      "Epoch 5/10\n",
      "796/796 [==============================] - 9s 11ms/step - loss: 6.0432e-04\n",
      "Epoch 6/10\n",
      "796/796 [==============================] - 8s 10ms/step - loss: 5.3100e-04\n",
      "Epoch 7/10\n",
      "796/796 [==============================] - 8s 10ms/step - loss: 4.9948e-04\n",
      "Epoch 8/10\n",
      "796/796 [==============================] - 8s 10ms/step - loss: 4.9833e-04\n",
      "Epoch 9/10\n",
      "796/796 [==============================] - 8s 10ms/step - loss: 4.9552e-04\n",
      "Epoch 10/10\n",
      "796/796 [==============================] - 8s 10ms/step - loss: 4.7038e-04\n",
      "Train Score: 18.11 RMSE\n",
      "Test Score: 18.07 RMSE\n",
      "Count = 24/24\n",
      "Epoch 1/10\n",
      "796/796 [==============================] - 10s 12ms/step - loss: 0.0013\n",
      "Epoch 2/10\n",
      "796/796 [==============================] - 8s 10ms/step - loss: 5.3144e-04\n",
      "Epoch 3/10\n",
      "796/796 [==============================] - 8s 10ms/step - loss: 4.3699e-04\n",
      "Epoch 4/10\n",
      "796/796 [==============================] - 8s 10ms/step - loss: 3.8694e-04\n",
      "Epoch 5/10\n",
      "796/796 [==============================] - 8s 10ms/step - loss: 3.4197e-04\n",
      "Epoch 6/10\n",
      "796/796 [==============================] - 8s 10ms/step - loss: 3.0908e-04\n",
      "Epoch 7/10\n",
      "796/796 [==============================] - 12s 15ms/step - loss: 2.3966e-04\n",
      "Epoch 8/10\n",
      "796/796 [==============================] - 12s 15ms/step - loss: 3.2231e-04\n",
      "Epoch 9/10\n",
      "796/796 [==============================] - 11s 14ms/step - loss: 2.6554e-04\n",
      "Train Score: 10.87 RMSE\n",
      "Test Score: 12.24 RMSE\n"
     ]
    }
   ],
   "source": [
    "# Generate all permutations of the series 0, 1, 2, ... numBlocks\n",
    "permutations = itertools.permutations(range(numBlocks))\n",
    "testBand = []\n",
    "count = 1\n",
    "suffix = \"B\"\n",
    "\n",
    "totalCount = factorial(numBlocks)\n",
    "for perm in permutations:\n",
    "    print(\"Count = %d/%d\" % (count, totalCount))\n",
    "    count += 1\n",
    "    trainResample = block_resample(train, blockSize)\n",
    "    suffix = \"B\"\n",
    "    trainSet = np.array(arrange_data(trainResample, perm))\n",
    "#     trainSet = np.reshape(trainSet, trainSet.shape)\n",
    "    trainSet = np.reshape(trainSet, (trainSet.shape[0]*trainSet.shape[1], trainSet.shape[2]))\n",
    "\n",
    "    shuffleData = np.vstack((trainSet, test))\n",
    "\n",
    "    lookBack = 3\n",
    "    trainX, trainY = create_dataset(trainSet, lookBack)\n",
    "    testX, testY = create_dataset(test, lookBack)\n",
    "\n",
    "    # trainX = np.reshape(trainX, (trainX.shape[0], 2, trainX.shape[1]))\n",
    "    # testX = np.reshape(testX, (testX.shape[0], 2, testX.shape[1]))\n",
    "\n",
    "    units = 100\n",
    "    drop = 0.2\n",
    "    epoch = 10\n",
    "\n",
    "#     model = load_model(\"./Models/ResampledBlockBootstrap/\"+str(numBlocks)+\"_\"+str(overlap)+\"_\"+str(epoch)+\".h5\")\n",
    "    \n",
    "    model = Sequential()\n",
    "    model.add(LSTM(units, input_shape=(lookBack, 2)))\n",
    "    model.add(Dense(2))\n",
    "    model.compile(loss='mean_squared_error', optimizer='nadam')\n",
    "#     Tensorboard\n",
    "#     model.summary()\n",
    "    tensorboard = TensorBoard(log_dir=\"logs/{}\".format(time()))\n",
    "    model.fit(trainX, trainY, epochs=epoch, batch_size=1, verbose=1, \n",
    "              callbacks=[EarlyStopping(monitor='loss', patience=2), tensorboard])\n",
    "\n",
    "    trainPredict = model.predict(trainX)\n",
    "    testPredict = model.predict(testX)\n",
    "\n",
    "#     Inverse the scaling\n",
    "    trainPredict = scaler.inverse_transform(trainPredict)\n",
    "    trainY = scaler.inverse_transform(trainY)\n",
    "    testPredict = scaler.inverse_transform(testPredict)\n",
    "    testY = scaler.inverse_transform(testY)\n",
    "\n",
    "#     RMSE score\n",
    "    trainScore = sqrt(mean_squared_error(trainY, trainPredict))\n",
    "    print('Train Score: %.2f RMSE' % (trainScore))\n",
    "    testScore = sqrt(mean_squared_error(testY, testPredict))\n",
    "    print('Test Score: %.2f RMSE' % (testScore))\n",
    "\n",
    "#     Plot training data\n",
    "#     trainPredictPlot = np.empty_like(shuffleData)\n",
    "#     trainPredictPlot[:, :] = np.nan\n",
    "#     trainPredictPlot[lookBack:len(trainPredict)+lookBack, :] = trainPredict\n",
    "    \n",
    "#     Plot test data\n",
    "#     testPredictPlot = np.empty_like(shuffleData)\n",
    "#     testPredictPlot[:, :] = np.nan\n",
    "#     testPredictPlot[len(trainPredict)+(lookBack*2)+1:len(data)-1, :] = testPredict\n",
    "    \n",
    "#     Append results to calculate the test band\n",
    "    testBand.append(testPredict)\n",
    "#     plt.plot(scaler.inverse_transform(shuffleData)[:,col])\n",
    "#     plt.plot(trainPredictPlot[:,col], color = 'orange')\n",
    "#     plt.plot(testPredictPlot[:,col], color = 'green')"
   ]
  },
  {
   "cell_type": "code",
   "execution_count": 99,
   "metadata": {},
   "outputs": [],
   "source": [
    "model.save(\"./Models/ResampledBlockBootstrap/\"+str(numBlocks)+\"_\"+str(overlap)+\"_\"+str(epoch)+\"_\"+suffix+\".h5\")"
   ]
  },
  {
   "cell_type": "code",
   "execution_count": 100,
   "metadata": {},
   "outputs": [
    {
     "data": {
      "text/plain": [
       "Text(0.5,1,'Epoch=10 numBlocks=4 Overlap=0 Train=10.87 Test=12.24')"
      ]
     },
     "execution_count": 100,
     "metadata": {},
     "output_type": "execute_result"
    },
    {
     "data": {
      "image/png": "[encoded data removed]",
      "text/plain": [
       "<Figure size 432x288 with 1 Axes>"
      ]
     },
     "metadata": {},
     "output_type": "display_data"
    }
   ],
   "source": [
    "col = 0\n",
    "testPlot = np.empty_like(trainSet)\n",
    "testPlot[:, :] = 0\n",
    "testPlot = np.vstack((testPlot, test))\n",
    "testplot = scaler.inverse_transform(testPlot)\n",
    "plt.plot(testPlot[:,col], color = 'blue')\n",
    "plt.title('Epoch=%d numBlocks=%d Overlap=%d Train=%.2f Test=%.2f' % (epoch, numBlocks, overlap, trainScore, testScore))"
   ]
  },
  {
   "cell_type": "code",
   "execution_count": 101,
   "metadata": {},
   "outputs": [],
   "source": [
    "testBand = np.array(testBand)\n",
    "testBand = np.reshape(testBand, (testBand.shape))"
   ]
  },
  {
   "cell_type": "code",
   "execution_count": 102,
   "metadata": {},
   "outputs": [
    {
     "data": {
      "text/plain": [
       "(24, 349, 2)"
      ]
     },
     "execution_count": 102,
     "metadata": {},
     "output_type": "execute_result"
    }
   ],
   "source": [
    "testBand.shape"
   ]
  },
  {
   "cell_type": "code",
   "execution_count": 103,
   "metadata": {},
   "outputs": [
    {
     "name": "stdout",
     "output_type": "stream",
     "text": [
      "[789.4148 785.9045]\n",
      "[13.740666  12.4402075]\n"
     ]
    }
   ],
   "source": [
    "print(np.mean(testBand[:,0,:], axis = 0))\n",
    "print(np.std(testBand[:,0,:], axis = 0))"
   ]
  },
  {
   "cell_type": "code",
   "execution_count": 104,
   "metadata": {},
   "outputs": [],
   "source": [
    "z_alpha = 1.96\n",
    "n = factorial(numBlocks)\n",
    "\n",
    "confInterval = []\n",
    "\n",
    "# Calculate the 95% confidence interval for each time step\n",
    "for i in range(testBand.shape[1]):\n",
    "    X = testBand[:, i, :]\n",
    "    xBar = np.mean(X, axis = 0)\n",
    "    s = np.std(X, axis = 0)\n",
    "    l = xBar - 1.96*s/(n**0,.5)\n",
    "    r = xBar + 1.96*s/(n**0,.5)\n",
    "    pair = [l, r]\n",
    "    confInterval.append(pair)"
   ]
  },
  {
   "cell_type": "code",
   "execution_count": 105,
   "metadata": {},
   "outputs": [
    {
     "data": {
      "image/png": "[encoded data removed]",
      "text/plain": [
       "<Figure size 432x288 with 1 Axes>"
      ]
     },
     "metadata": {},
     "output_type": "display_data"
    }
   ],
   "source": [
    "col = 0\n",
    "offset = len(trainPredict)+(lookBack*2)+2\n",
    "lower = []\n",
    "upper = []\n",
    "\n",
    "# Get upper and lower bounds\n",
    "for i in range(len(confInterval)):\n",
    "    lower.append(confInterval[i][0][0])\n",
    "    upper.append(confInterval[i][1][0])\n",
    "\n",
    "# XLower = np.array(range(offset+1, offset+1+testBand.shape[1]))\n",
    "# XUpper = np.array(range(offset+1, offset+1+testBand.shape[1]))\n",
    "# plt.plot(XLower, lower)\n",
    "# plt.plot(XUpper, upper)\n",
    "plt.plot(upper, color='orange', label='upper')\n",
    "plt.plot(scaler.inverse_transform(test)[:, col], color = 'blue', label='test prediction')\n",
    "plt.plot(lower, color='green', label='lower')\n",
    "plt.legend(loc='upper left')\n",
    "plt.title('NumBlocks=%d Overlap=%d Epochs=%d Train=%.2f Test=%.2f' % (numBlocks, overlap, epoch, trainScore, testScore))\n",
    "plt.savefig(\"./Plots/ResampledBlockBootstrap/\"+str(numBlocks)+\"_\"+str(overlap)+\"_\"+str(epoch)+\"_\"+suffix+\".png\")\n",
    "plt.show()"
   ]
  },
  {
   "cell_type": "code",
   "execution_count": 106,
   "metadata": {},
   "outputs": [],
   "source": [
    "# Sum of the lengths of the confidence intervals at each time point.\n",
    "sumIntervals = np.sum(abs(np.array(upper) - np.array(lower)))"
   ]
  },
  {
   "cell_type": "code",
   "execution_count": 107,
   "metadata": {},
   "outputs": [
    {
     "data": {
      "text/plain": [
       "30295.080394744873"
      ]
     },
     "execution_count": 107,
     "metadata": {},
     "output_type": "execute_result"
    }
   ],
   "source": [
    "sumIntervals"
   ]
  },
  {
   "cell_type": "code",
   "execution_count": 108,
   "metadata": {},
   "outputs": [],
   "source": [
    "# Length of maximum interval\n",
    "maxInterval = np.max(np.array(upper) - np.array(lower))"
   ]
  },
  {
   "cell_type": "code",
   "execution_count": 109,
   "metadata": {},
   "outputs": [
    {
     "data": {
      "text/plain": [
       "170.15281677246094"
      ]
     },
     "execution_count": 109,
     "metadata": {},
     "output_type": "execute_result"
    }
   ],
   "source": [
    "maxInterval"
   ]
  },
  {
   "cell_type": "code",
   "execution_count": null,
   "metadata": {},
   "outputs": [],
   "source": []
  }
 ],
 "metadata": {
  "kernelspec": {
   "display_name": "Python 3",
   "language": "python",
   "name": "python3"
  },
  "language_info": {
   "codemirror_mode": {
    "name": "ipython",
    "version": 3
   },
   "file_extension": ".py",
   "mimetype": "text/x-python",
   "name": "python",
   "nbconvert_exporter": "python",
   "pygments_lexer": "ipython3",
   "version": "3.5.2"
  }
 },
 "nbformat": 4,
 "nbformat_minor": 2
}
