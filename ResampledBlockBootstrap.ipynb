{
 "cells": [
  {
   "cell_type": "code",
   "execution_count": 367,
   "metadata": {},
   "outputs": [
    {
     "data": {
      "text/plain": [
       "'\\nCode to generate various confidence bands and find the best one \\nby comparing the sum of the lengths of confidence intervals at \\neach time step, standard deviation and the length of maximum interval.\\n'"
      ]
     },
     "execution_count": 367,
     "metadata": {},
     "output_type": "execute_result"
    }
   ],
   "source": [
    "'''\n",
    "Code to generate various confidence bands and find the best one \n",
    "by comparing the sum of the lengths of confidence intervals at \n",
    "each time step, standard deviation and the length of maximum interval.\n",
    "'''"
   ]
  },
  {
   "cell_type": "code",
   "execution_count": 368,
   "metadata": {},
   "outputs": [],
   "source": [
    "import numpy as np\n",
    "from numpy.random import randint\n",
    "from math import factorial\n",
    "import matplotlib.pyplot as plt\n",
    "from pandas import read_csv"
   ]
  },
  {
   "cell_type": "code",
   "execution_count": 369,
   "metadata": {},
   "outputs": [],
   "source": [
    "from keras.models import Sequential\n",
    "from keras.layers import Dense, Dropout\n",
    "from keras.layers import LSTM\n",
    "from sklearn.preprocessing import MinMaxScaler\n",
    "from sklearn.metrics import mean_squared_error\n",
    "from keras.callbacks import TensorBoard"
   ]
  },
  {
   "cell_type": "code",
   "execution_count": 370,
   "metadata": {},
   "outputs": [],
   "source": [
    "from time import time\n",
    "import itertools"
   ]
  },
  {
   "cell_type": "code",
   "execution_count": 371,
   "metadata": {},
   "outputs": [],
   "source": [
    "# Generate X and Y pairs where dim of X = (1, look_back)\n",
    "def create_dataset(dataset, look_back = 1):\n",
    "    dataX, dataY = [], []\n",
    "    for i in range(len(dataset)-look_back-1):\n",
    "        a = dataset[i:(i+look_back), :]\n",
    "        dataX.append(a)\n",
    "        dataY.append(dataset[i + look_back, :])\n",
    "    return np.array(dataX), np.array(dataY)"
   ]
  },
  {
   "cell_type": "code",
   "execution_count": 372,
   "metadata": {},
   "outputs": [],
   "source": [
    "# Arrange blocks of data according to permutation\n",
    "def arrange_data(data, perm):\n",
    "    arranged_data = []\n",
    "    for i in perm:\n",
    "        arranged_data.append(data[i])\n",
    "    return arranged_data"
   ]
  },
  {
   "cell_type": "code",
   "execution_count": 373,
   "metadata": {},
   "outputs": [],
   "source": [
    "def bootstrap_resample(data, blockSize):\n",
    "    n = len(data) # 100\n",
    "    numInterval = n//blockSize # 20\n",
    "    data = data[: numInterval*blockSize]    \n",
    "    resampled_data = []\n",
    "    for i in range(numInterval):\n",
    "        x = data[i*blockSize: (i+1)*blockSize]\n",
    "        indx = randint(0, blockSize, size = blockSize)\n",
    "        y = [x[j] for j in indx]\n",
    "        resampled_data.append(y)\n",
    "    return resampled_data"
   ]
  },
  {
   "cell_type": "code",
   "execution_count": 374,
   "metadata": {},
   "outputs": [
    {
     "name": "stdout",
     "output_type": "stream",
     "text": [
      "       open     close\n",
      "0  390.4551  393.0777\n",
      "1  389.5892  391.6012\n",
      "2  391.2659  390.7403\n",
      "3  390.4551  391.8214\n",
      "4  390.2549  394.3039\n",
      "(1259, 2)\n"
     ]
    }
   ],
   "source": [
    "fields = ['open', 'close']\n",
    "dataframe = read_csv('GOOGL_data.csv', skipinitialspace = True, squeeze = True, usecols = fields)\n",
    "\n",
    "print(dataframe.head())\n",
    "data = np.array(dataframe)\n",
    "print(data.shape)"
   ]
  },
  {
   "cell_type": "code",
   "execution_count": 375,
   "metadata": {},
   "outputs": [],
   "source": [
    "# resample = bootstrap_resample(data, 5)\n",
    "\n",
    "# resample\n",
    "\n",
    "# resample[1]\n",
    "\n",
    "# arrange = arrange_data(resample, [1, 0])\n",
    "\n",
    "# arrange[0]"
   ]
  },
  {
   "cell_type": "code",
   "execution_count": 376,
   "metadata": {},
   "outputs": [
    {
     "name": "stdout",
     "output_type": "stream",
     "text": [
      "[[0.00683718 0.01210825]\n",
      " [0.0057589  0.01027231]\n",
      " [0.00784685 0.00920184]\n",
      " [0.00683718 0.01054612]\n",
      " [0.00658788 0.01363296]]\n"
     ]
    }
   ],
   "source": [
    "# Scale between (0, 1)\n",
    "scaler = MinMaxScaler(feature_range=(0, 1))\n",
    "data = scaler.fit_transform(data)\n",
    "print(data[:5])"
   ]
  },
  {
   "cell_type": "code",
   "execution_count": 377,
   "metadata": {},
   "outputs": [
    {
     "name": "stdout",
     "output_type": "stream",
     "text": [
      "906\n",
      "353\n"
     ]
    }
   ],
   "source": [
    "split = 0.72\n",
    "trainSize = int(len(data)*split)\n",
    "testSize = len(data)-trainSize\n",
    "print(trainSize)\n",
    "print(testSize)"
   ]
  },
  {
   "cell_type": "code",
   "execution_count": 378,
   "metadata": {},
   "outputs": [
    {
     "name": "stdout",
     "output_type": "stream",
     "text": [
      "[[0.00683718 0.01210825]\n",
      " [0.0057589  0.01027231]\n",
      " [0.00784685 0.00920184]\n",
      " [0.00683718 0.01054612]\n",
      " [0.00658788 0.01363296]]\n"
     ]
    }
   ],
   "source": [
    "train = data[0:trainSize,:]\n",
    "test = data[trainSize:len(data),:]\n",
    "print(train[:5])"
   ]
  },
  {
   "cell_type": "code",
   "execution_count": 379,
   "metadata": {},
   "outputs": [],
   "source": [
    "# l = block size\n",
    "numInterval = 4\n",
    "blockSize = len(train)//numInterval\n",
    "# print(blockSize)"
   ]
  },
  {
   "cell_type": "code",
   "execution_count": 380,
   "metadata": {},
   "outputs": [
    {
     "data": {
      "text/plain": [
       "226"
      ]
     },
     "execution_count": 380,
     "metadata": {},
     "output_type": "execute_result"
    }
   ],
   "source": [
    "blockSize"
   ]
  },
  {
   "cell_type": "code",
   "execution_count": 381,
   "metadata": {},
   "outputs": [
    {
     "data": {
      "text/plain": [
       "array([[1, 2],\n",
       "       [2, 3],\n",
       "       [3, 4]])"
      ]
     },
     "execution_count": 381,
     "metadata": {},
     "output_type": "execute_result"
    }
   ],
   "source": [
    "A = np.array([[[1, 2]], [[2, 3]], [[3, 4]]])\n",
    "B = np.reshape(A, (A.shape[0]*A.shape[1], A.shape[2]))\n",
    "B"
   ]
  },
  {
   "cell_type": "code",
   "execution_count": 382,
   "metadata": {},
   "outputs": [],
   "source": [
    "# Generate all permutations of the series 0, 1, 2, ... numInterval\n",
    "permutations = itertools.permutations(range(numInterval))\n",
    "testBand = []\n",
    "count = 1"
   ]
  },
  {
   "cell_type": "code",
   "execution_count": null,
   "metadata": {},
   "outputs": [
    {
     "name": "stdout",
     "output_type": "stream",
     "text": [
      "Count = 1/24\n",
      "Epoch 1/5\n",
      "900/900 [==============================] - 7s 8ms/step - loss: 0.0055\n",
      "Epoch 2/5\n",
      "900/900 [==============================] - 6s 7ms/step - loss: 0.0043\n",
      "Epoch 3/5\n",
      "900/900 [==============================] - 6s 6ms/step - loss: 0.0042\n",
      "Epoch 4/5\n",
      "900/900 [==============================] - 6s 6ms/step - loss: 0.0041\n",
      "Epoch 5/5\n",
      "900/900 [==============================] - 6s 6ms/step - loss: 0.0041\n",
      "Train Score: 54.10 RMSE\n",
      "Test Score: 57.50 RMSE\n",
      "Count = 2/24\n",
      "Epoch 1/5\n",
      "900/900 [==============================] - 8s 9ms/step - loss: 0.0047\n",
      "Epoch 2/5\n",
      "900/900 [==============================] - 6s 6ms/step - loss: 0.0040\n",
      "Epoch 3/5\n",
      "900/900 [==============================] - 6s 6ms/step - loss: 0.0039\n",
      "Epoch 4/5\n",
      "900/900 [==============================] - 6s 7ms/step - loss: 0.0040\n",
      "Epoch 5/5\n",
      "900/900 [==============================] - 6s 7ms/step - loss: 0.0039\n",
      "Train Score: 49.09 RMSE\n",
      "Test Score: 27.42 RMSE\n",
      "Count = 3/24\n",
      "Epoch 1/5\n",
      "900/900 [==============================] - 8s 9ms/step - loss: 0.0046\n",
      "Epoch 2/5\n",
      "900/900 [==============================] - 6s 6ms/step - loss: 0.0039\n",
      "Epoch 3/5\n",
      "900/900 [==============================] - 6s 7ms/step - loss: 0.0037\n",
      "Epoch 4/5\n",
      "900/900 [==============================] - 6s 6ms/step - loss: 0.0037\n",
      "Epoch 5/5\n",
      "900/900 [==============================] - 5s 6ms/step - loss: 0.0037\n",
      "Train Score: 51.25 RMSE\n",
      "Test Score: 57.24 RMSE\n",
      "Count = 4/24\n",
      "Epoch 1/5\n",
      "900/900 [==============================] - 8s 9ms/step - loss: 0.0053\n",
      "Epoch 2/5\n",
      "900/900 [==============================] - 6s 7ms/step - loss: 0.0043\n",
      "Epoch 3/5\n",
      "900/900 [==============================] - 7s 8ms/step - loss: 0.0042\n",
      "Epoch 4/5\n",
      "900/900 [==============================] - 6s 6ms/step - loss: 0.0042\n",
      "Epoch 5/5\n",
      "900/900 [==============================] - 6s 6ms/step - loss: 0.0041\n",
      "Train Score: 49.78 RMSE\n",
      "Test Score: 14.22 RMSE\n",
      "Count = 5/24\n",
      "Epoch 1/5\n",
      "900/900 [==============================] - 9s 11ms/step - loss: 0.0049\n",
      "Epoch 2/5\n",
      "900/900 [==============================] - 6s 7ms/step - loss: 0.0044\n",
      "Epoch 3/5\n",
      "900/900 [==============================] - 6s 7ms/step - loss: 0.0042\n",
      "Epoch 4/5\n",
      "900/900 [==============================] - 7s 8ms/step - loss: 0.0042\n",
      "Epoch 5/5\n",
      "900/900 [==============================] - 6s 7ms/step - loss: 0.0042\n",
      "Train Score: 49.85 RMSE\n",
      "Test Score: 33.45 RMSE\n",
      "Count = 6/24\n",
      "Epoch 1/5\n",
      "900/900 [==============================] - 8s 9ms/step - loss: 0.0052\n",
      "Epoch 2/5\n",
      "900/900 [==============================] - 6s 6ms/step - loss: 0.0039\n",
      "Epoch 3/5\n",
      "900/900 [==============================] - 6s 6ms/step - loss: 0.0038\n",
      "Epoch 4/5\n",
      "900/900 [==============================] - 6s 6ms/step - loss: 0.0038\n",
      "Epoch 5/5\n",
      "900/900 [==============================] - 6s 6ms/step - loss: 0.0038\n",
      "Train Score: 53.01 RMSE\n",
      "Test Score: 73.68 RMSE\n",
      "Count = 7/24\n",
      "Epoch 1/5\n",
      "900/900 [==============================] - 8s 9ms/step - loss: 0.0054\n",
      "Epoch 2/5\n",
      "900/900 [==============================] - 6s 6ms/step - loss: 0.0042\n",
      "Epoch 3/5\n",
      "900/900 [==============================] - 6s 6ms/step - loss: 0.0042\n",
      "Epoch 4/5\n",
      "900/900 [==============================] - 6s 6ms/step - loss: 0.0041\n",
      "Epoch 5/5\n",
      "900/900 [==============================] - 6s 7ms/step - loss: 0.0040\n",
      "Train Score: 55.10 RMSE\n",
      "Test Score: 96.54 RMSE\n",
      "Count = 8/24\n",
      "Epoch 1/5\n",
      "900/900 [==============================] - 8s 9ms/step - loss: 0.0046\n",
      "Epoch 2/5\n",
      "900/900 [==============================] - 5s 6ms/step - loss: 0.0039\n",
      "Epoch 3/5\n",
      "900/900 [==============================] - 6s 6ms/step - loss: 0.0038\n",
      "Epoch 4/5\n",
      "900/900 [==============================] - 5s 6ms/step - loss: 0.0038\n",
      "Epoch 5/5\n",
      "900/900 [==============================] - 6s 6ms/step - loss: 0.0037\n",
      "Train Score: 47.14 RMSE\n",
      "Test Score: 20.46 RMSE\n",
      "Count = 9/24\n",
      "Epoch 1/5\n",
      "900/900 [==============================] - 8s 9ms/step - loss: 0.0049\n",
      "Epoch 2/5\n",
      "900/900 [==============================] - 6s 6ms/step - loss: 0.0044\n",
      "Epoch 3/5\n",
      "900/900 [==============================] - 6s 6ms/step - loss: 0.0044\n",
      "Epoch 4/5\n",
      "900/900 [==============================] - 6s 6ms/step - loss: 0.0044\n",
      "Epoch 5/5\n",
      "900/900 [==============================] - 6s 6ms/step - loss: 0.0043\n",
      "Train Score: 50.28 RMSE\n",
      "Test Score: 21.43 RMSE\n",
      "Count = 10/24\n",
      "Epoch 1/5\n",
      "900/900 [==============================] - 8s 9ms/step - loss: 0.0053\n",
      "Epoch 2/5\n",
      "900/900 [==============================] - 6s 6ms/step - loss: 0.0046\n",
      "Epoch 3/5\n",
      "900/900 [==============================] - 6s 6ms/step - loss: 0.0045\n",
      "Epoch 4/5\n",
      "900/900 [==============================] - 6s 6ms/step - loss: 0.0044\n",
      "Epoch 5/5\n",
      "900/900 [==============================] - 6s 6ms/step - loss: 0.0044\n",
      "Train Score: 50.66 RMSE\n",
      "Test Score: 16.28 RMSE\n",
      "Count = 11/24\n",
      "Epoch 1/5\n",
      "900/900 [==============================] - 8s 9ms/step - loss: 0.0052\n",
      "Epoch 2/5\n",
      "900/900 [==============================] - 6s 6ms/step - loss: 0.0043\n",
      "Epoch 3/5\n",
      "900/900 [==============================] - 6s 6ms/step - loss: 0.0042\n",
      "Epoch 4/5\n",
      "900/900 [==============================] - 5s 6ms/step - loss: 0.0041\n",
      "Epoch 5/5\n",
      "900/900 [==============================] - 5s 6ms/step - loss: 0.0041\n",
      "Train Score: 49.76 RMSE\n",
      "Test Score: 37.06 RMSE\n",
      "Count = 12/24\n",
      "Epoch 1/5\n",
      "900/900 [==============================] - 8s 9ms/step - loss: 0.0051\n",
      "Epoch 2/5\n",
      "900/900 [==============================] - 6s 6ms/step - loss: 0.0044\n",
      "Epoch 3/5\n",
      "900/900 [==============================] - 6s 6ms/step - loss: 0.0043\n",
      "Epoch 4/5\n",
      "900/900 [==============================] - 6s 6ms/step - loss: 0.0043\n",
      "Epoch 5/5\n",
      "900/900 [==============================] - 6s 6ms/step - loss: 0.0042\n",
      "Train Score: 49.78 RMSE\n",
      "Test Score: 32.55 RMSE\n",
      "Count = 13/24\n",
      "Epoch 1/5\n",
      "900/900 [==============================] - 9s 9ms/step - loss: 0.0045\n",
      "Epoch 2/5\n",
      "900/900 [==============================] - 6s 6ms/step - loss: 0.0040\n",
      "Epoch 3/5\n",
      "900/900 [==============================] - 6s 6ms/step - loss: 0.0039\n",
      "Epoch 4/5\n",
      "900/900 [==============================] - 6s 6ms/step - loss: 0.0038\n",
      "Epoch 5/5\n",
      "900/900 [==============================] - 6s 6ms/step - loss: 0.0038\n",
      "Train Score: 47.71 RMSE\n",
      "Test Score: 28.41 RMSE\n",
      "Count = 14/24\n",
      "Epoch 1/5\n",
      "900/900 [==============================] - 8s 9ms/step - loss: 0.0047\n",
      "Epoch 2/5\n",
      "900/900 [==============================] - 6s 6ms/step - loss: 0.0040\n",
      "Epoch 3/5\n",
      "900/900 [==============================] - 6s 6ms/step - loss: 0.0040\n",
      "Epoch 4/5\n",
      "900/900 [==============================] - 6s 6ms/step - loss: 0.0039\n",
      "Epoch 5/5\n",
      "900/900 [==============================] - 6s 6ms/step - loss: 0.0039\n",
      "Train Score: 50.31 RMSE\n",
      "Test Score: 49.03 RMSE\n",
      "Count = 15/24\n",
      "Epoch 1/5\n",
      "900/900 [==============================] - 9s 10ms/step - loss: 0.0054\n",
      "Epoch 2/5\n",
      "900/900 [==============================] - 5s 6ms/step - loss: 0.0044\n",
      "Epoch 3/5\n",
      "900/900 [==============================] - 5s 6ms/step - loss: 0.0043\n",
      "Epoch 4/5\n",
      "900/900 [==============================] - 5s 6ms/step - loss: 0.0043\n",
      "Epoch 5/5\n",
      "900/900 [==============================] - 5s 6ms/step - loss: 0.0042\n",
      "Train Score: 55.42 RMSE\n",
      "Test Score: 54.94 RMSE\n",
      "Count = 16/24\n",
      "Epoch 1/5\n",
      "900/900 [==============================] - 8s 9ms/step - loss: 0.0049\n",
      "Epoch 2/5\n",
      "900/900 [==============================] - 5s 6ms/step - loss: 0.0042\n",
      "Epoch 3/5\n",
      "900/900 [==============================] - 5s 6ms/step - loss: 0.0041\n",
      "Epoch 4/5\n",
      "900/900 [==============================] - 5s 6ms/step - loss: 0.0041\n",
      "Epoch 5/5\n",
      "900/900 [==============================] - 5s 6ms/step - loss: 0.0040\n",
      "Train Score: 48.88 RMSE\n",
      "Test Score: 14.98 RMSE\n",
      "Count = 17/24\n",
      "Epoch 1/5\n",
      "900/900 [==============================] - 8s 9ms/step - loss: 0.0058\n",
      "Epoch 2/5\n",
      "900/900 [==============================] - 5s 6ms/step - loss: 0.0045\n",
      "Epoch 3/5\n",
      "900/900 [==============================] - 5s 6ms/step - loss: 0.0045\n",
      "Epoch 4/5\n",
      "900/900 [==============================] - 5s 6ms/step - loss: 0.0043\n",
      "Epoch 5/5\n",
      "900/900 [==============================] - 5s 6ms/step - loss: 0.0044\n",
      "Train Score: 51.44 RMSE\n",
      "Test Score: 42.07 RMSE\n",
      "Count = 18/24\n",
      "Epoch 1/5\n",
      "900/900 [==============================] - 8s 9ms/step - loss: 0.0048\n",
      "Epoch 2/5\n",
      "900/900 [==============================] - 5s 6ms/step - loss: 0.0041\n",
      "Epoch 3/5\n",
      "900/900 [==============================] - 5s 6ms/step - loss: 0.0039\n",
      "Epoch 4/5\n",
      "900/900 [==============================] - 6s 6ms/step - loss: 0.0038\n",
      "Epoch 5/5\n"
     ]
    },
    {
     "name": "stdout",
     "output_type": "stream",
     "text": [
      "900/900 [==============================] - 6s 6ms/step - loss: 0.0039\n",
      "Train Score: 48.84 RMSE\n",
      "Test Score: 54.32 RMSE\n",
      "Count = 19/24\n",
      "Epoch 1/5\n",
      "900/900 [==============================] - 9s 10ms/step - loss: 0.0053\n",
      "Epoch 2/5\n",
      "900/900 [==============================] - 5s 6ms/step - loss: 0.0044\n",
      "Epoch 3/5\n",
      "900/900 [==============================] - 5s 6ms/step - loss: 0.0043\n",
      "Epoch 4/5\n",
      "900/900 [==============================] - 5s 6ms/step - loss: 0.0042\n",
      "Epoch 5/5\n",
      "900/900 [==============================] - 5s 6ms/step - loss: 0.0042\n",
      "Train Score: 50.37 RMSE\n",
      "Test Score: 56.06 RMSE\n",
      "Count = 20/24\n",
      "Epoch 1/5\n",
      "900/900 [==============================] - 9s 10ms/step - loss: 0.0055\n",
      "Epoch 2/5\n",
      "900/900 [==============================] - 6s 6ms/step - loss: 0.0045\n",
      "Epoch 3/5\n",
      "900/900 [==============================] - 5s 6ms/step - loss: 0.0046\n",
      "Epoch 4/5\n",
      "900/900 [==============================] - 5s 6ms/step - loss: 0.0045\n",
      "Epoch 5/5\n",
      "900/900 [==============================] - 6s 6ms/step - loss: 0.0044\n",
      "Train Score: 56.56 RMSE\n",
      "Test Score: 19.45 RMSE\n",
      "Count = 21/24\n",
      "Epoch 1/5\n",
      "900/900 [==============================] - 9s 10ms/step - loss: 0.0058\n",
      "Epoch 2/5\n",
      "900/900 [==============================] - 5s 6ms/step - loss: 0.0044\n",
      "Epoch 3/5\n",
      "900/900 [==============================] - 5s 6ms/step - loss: 0.0042\n",
      "Epoch 4/5\n",
      "900/900 [==============================] - 5s 6ms/step - loss: 0.0042\n",
      "Epoch 5/5\n",
      "900/900 [==============================] - 5s 6ms/step - loss: 0.0041\n",
      "Train Score: 52.76 RMSE\n",
      "Test Score: 29.36 RMSE\n",
      "Count = 22/24\n",
      "Epoch 1/5\n",
      "900/900 [==============================] - 9s 10ms/step - loss: 0.0047\n",
      "Epoch 2/5\n",
      "900/900 [==============================] - 5s 6ms/step - loss: 0.0041\n",
      "Epoch 3/5\n",
      "900/900 [==============================] - 5s 6ms/step - loss: 0.0040\n",
      "Epoch 4/5\n",
      "900/900 [==============================] - 6s 6ms/step - loss: 0.0039\n",
      "Epoch 5/5\n",
      "900/900 [==============================] - 6s 6ms/step - loss: 0.0038\n",
      "Train Score: 48.56 RMSE\n",
      "Test Score: 23.27 RMSE\n",
      "Count = 23/24\n",
      "Epoch 1/5\n",
      "900/900 [==============================] - 9s 10ms/step - loss: 0.0054\n",
      "Epoch 2/5\n",
      "900/900 [==============================] - 5s 6ms/step - loss: 0.0045\n",
      "Epoch 3/5\n",
      "900/900 [==============================] - 5s 6ms/step - loss: 0.0043\n",
      "Epoch 4/5\n",
      "900/900 [==============================] - 5s 6ms/step - loss: 0.0043\n",
      "Epoch 5/5\n",
      "900/900 [==============================] - 5s 6ms/step - loss: 0.0042\n",
      "Train Score: 50.74 RMSE\n",
      "Test Score: 33.68 RMSE\n",
      "Count = 24/24\n",
      "Epoch 1/5\n",
      "900/900 [==============================] - 9s 10ms/step - loss: 0.0049\n",
      "Epoch 2/5\n",
      "900/900 [==============================] - 6s 6ms/step - loss: 0.0041\n",
      "Epoch 3/5\n",
      "900/900 [==============================] - 6s 7ms/step - loss: 0.0041\n",
      "Epoch 4/5\n",
      "373/900 [===========>..................] - ETA: 3s - loss: 0.0036"
     ]
    }
   ],
   "source": [
    "totalCount = factorial(numInterval)\n",
    "for perm in permutations:\n",
    "    print(\"Count = %d/%d\" % (count, totalCount))\n",
    "    count += 1\n",
    "    trainResample = bootstrap_resample(train, blockSize)\n",
    "    trainSet = np.array(arrange_data(trainResample, perm))\n",
    "#     trainSet = np.reshape(trainSet, trainSet.shape)\n",
    "    trainSet = np.reshape(trainSet, (trainSet.shape[0]*trainSet.shape[1], trainSet.shape[2]))\n",
    "\n",
    "    shuffleData = np.vstack((trainSet, test))\n",
    "\n",
    "    lookBack = 3\n",
    "    trainX, trainY = create_dataset(trainSet, lookBack)\n",
    "    testX, testY = create_dataset(test, lookBack)\n",
    "\n",
    "    # trainX = np.reshape(trainX, (trainX.shape[0], 2, trainX.shape[1]))\n",
    "    # testX = np.reshape(testX, (testX.shape[0], 2, testX.shape[1]))\n",
    "\n",
    "    units = 100\n",
    "    drop = 0.2\n",
    "    epoch = 5\n",
    "\n",
    "    model = Sequential()\n",
    "    model.add(LSTM(units, input_shape=(lookBack, 2)))\n",
    "    model.add(Dense(2))\n",
    "    model.compile(loss='mean_squared_error', optimizer='nadam')\n",
    "#     Tensorboard\n",
    "#     model.summary()\n",
    "#     tensorboard = TensorBoard(log_dir=\"logs/{}\".format(time()))\n",
    "#     model.fit(trainX, trainY, epochs=epoch, batch_size=1, verbose=1, callbacks=[tensorboard])\n",
    "    model.fit(trainX, trainY, epochs=epoch, batch_size=1, verbose=1)\n",
    "\n",
    "    trainPredict = model.predict(trainX)\n",
    "    testPredict = model.predict(testX)\n",
    "\n",
    "#     Inverse the scaling\n",
    "    trainPredict = scaler.inverse_transform(trainPredict)\n",
    "    trainY = scaler.inverse_transform(trainY)\n",
    "    testPredict = scaler.inverse_transform(testPredict)\n",
    "    testY = scaler.inverse_transform(testY)\n",
    "\n",
    "#     RMSE score\n",
    "    trainScore = math.sqrt(mean_squared_error(trainY, trainPredict))\n",
    "    print('Train Score: %.2f RMSE' % (trainScore))\n",
    "    testScore = math.sqrt(mean_squared_error(testY, testPredict))\n",
    "    print('Test Score: %.2f RMSE' % (testScore))\n",
    "\n",
    "#     Plot training data\n",
    "#     trainPredictPlot = np.empty_like(shuffleData)\n",
    "#     trainPredictPlot[:, :] = np.nan\n",
    "#     trainPredictPlot[lookBack:len(trainPredict)+lookBack, :] = trainPredict\n",
    "    \n",
    "#     Plot test data\n",
    "#     testPredictPlot = np.empty_like(shuffleData)\n",
    "#     testPredictPlot[:, :] = np.nan\n",
    "#     testPredictPlot[len(trainPredict)+(lookBack*2)+1:len(data)-1, :] = testPredict\n",
    "    \n",
    "#     Append results to calculate the test band\n",
    "    testBand.append(testPredict)\n",
    "#     plt.plot(scaler.inverse_transform(shuffleData)[:,col])\n",
    "#     plt.plot(trainPredictPlot[:,col], color = 'orange')\n",
    "#     plt.plot(testPredictPlot[:,col], color = 'green')"
   ]
  },
  {
   "cell_type": "code",
   "execution_count": null,
   "metadata": {},
   "outputs": [],
   "source": [
    "model.save(\"./Models/ResampledBlockBootstrap/\"+str(numInterval)+\"_\"+str(epoch)+\".h5\")"
   ]
  },
  {
   "cell_type": "code",
   "execution_count": null,
   "metadata": {},
   "outputs": [],
   "source": [
    "col = 0\n",
    "testPlot = np.empty_like(trainSet)\n",
    "testPlot[:, :] = 0\n",
    "testPlot = np.vstack((testPlot, test))\n",
    "testplot = scaler.inverse_transform(testPlot)\n",
    "plt.plot(testPlot[:,col], color = 'blue')\n",
    "plt.title('Epoch = %d Train = %.2f Test = %.2f' % (epoch, trainScore, testScore))"
   ]
  },
  {
   "cell_type": "code",
   "execution_count": null,
   "metadata": {},
   "outputs": [],
   "source": [
    "testBand = np.array(testBand)\n",
    "testBand = np.reshape(testBand, (testBand.shape))"
   ]
  },
  {
   "cell_type": "code",
   "execution_count": null,
   "metadata": {},
   "outputs": [],
   "source": [
    "testBand.shape"
   ]
  },
  {
   "cell_type": "code",
   "execution_count": null,
   "metadata": {},
   "outputs": [],
   "source": [
    "print(np.mean(testBand[:,0,:], axis = 0))\n",
    "print(np.std(testBand[:,0,:], axis = 0))"
   ]
  },
  {
   "cell_type": "code",
   "execution_count": null,
   "metadata": {},
   "outputs": [],
   "source": [
    "z_alpha = 1.96\n",
    "n = factorial(numInterval)\n",
    "\n",
    "confInterval = []\n",
    "\n",
    "# Calculate the 95% confidence interval for each time step\n",
    "for i in range(testBand.shape[1]):\n",
    "    X = testBand[:, i, :]\n",
    "    xBar = np.mean(X, axis = 0)\n",
    "    s = np.std(X, axis = 0)\n",
    "    l = xBar - 1.96*s/(n**0,.5)\n",
    "    r = xBar + 1.96*s/(n**0,.5)\n",
    "    pair = [l, r]\n",
    "    confInterval.append(pair)"
   ]
  },
  {
   "cell_type": "code",
   "execution_count": null,
   "metadata": {},
   "outputs": [],
   "source": [
    "col = 0\n",
    "offset = len(trainPredict)+(lookBack*2)+2\n",
    "lower = []\n",
    "upper = []\n",
    "\n",
    "# Get upper and lower bounds\n",
    "for i in range(len(confInterval)):\n",
    "    lower.append(confInterval[i][0][0])\n",
    "    upper.append(confInterval[i][1][0])\n",
    "\n",
    "# XLower = np.array(range(offset+1, offset+1+testBand.shape[1]))\n",
    "# XUpper = np.array(range(offset+1, offset+1+testBand.shape[1]))\n",
    "# plt.plot(XLower, lower)\n",
    "# plt.plot(XUpper, upper)\n",
    "plt.plot(lower)\n",
    "plt.plot(upper)\n",
    "plt.plot(scaler.inverse_transform(test)[:, col], color = 'blue')\n",
    "plt.title('NumInterval=%d Epochs=%d Train=%.2f Test=%.2f' % (numInterval, epoch, trainScore, testScore))\n",
    "plt.savefig(\"./Plots/ResampledBlockBootstrap/\"+str(numInterval)+\"_\"+str(epoch)+\".png\")\n",
    "plt.show()"
   ]
  },
  {
   "cell_type": "code",
   "execution_count": null,
   "metadata": {},
   "outputs": [],
   "source": [
    "# Sum of the lengths of the confidence intervals at each time point.\n",
    "sumIntervals = np.sum(abs(np.array(upper) - np.array(lower)))"
   ]
  },
  {
   "cell_type": "code",
   "execution_count": null,
   "metadata": {},
   "outputs": [],
   "source": [
    "sumIntervals"
   ]
  },
  {
   "cell_type": "code",
   "execution_count": null,
   "metadata": {},
   "outputs": [],
   "source": [
    "# Length of maximum interval\n",
    "maxInterval = np.max(np.array(upper) - np.array(lower))"
   ]
  },
  {
   "cell_type": "code",
   "execution_count": null,
   "metadata": {},
   "outputs": [],
   "source": [
    "maxInterval"
   ]
  },
  {
   "cell_type": "code",
   "execution_count": null,
   "metadata": {},
   "outputs": [],
   "source": []
  }
 ],
 "metadata": {
  "kernelspec": {
   "display_name": "Python 3",
   "language": "python",
   "name": "python3"
  },
  "language_info": {
   "codemirror_mode": {
    "name": "ipython",
    "version": 3
   },
   "file_extension": ".py",
   "mimetype": "text/x-python",
   "name": "python",
   "nbconvert_exporter": "python",
   "pygments_lexer": "ipython3",
   "version": "3.5.2"
  }
 },
 "nbformat": 4,
 "nbformat_minor": 2
}
