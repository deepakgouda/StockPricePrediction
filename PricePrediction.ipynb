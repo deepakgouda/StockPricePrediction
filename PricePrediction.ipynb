{
 "cells": [
  {
   "cell_type": "code",
   "execution_count": 124,
   "metadata": {},
   "outputs": [],
   "source": [
    "import numpy as np\n",
    "import math\n",
    "import matplotlib.pyplot as plt\n",
    "from pandas import read_csv\n",
    "from keras.models import Sequential\n",
    "from keras.layers import Dense, Dropout\n",
    "from keras.layers import LSTM\n",
    "from sklearn.preprocessing import MinMaxScaler\n",
    "from sklearn.metrics import mean_squared_error\n",
    "from keras.callbacks import TensorBoard\n",
    "from time import time"
   ]
  },
  {
   "cell_type": "code",
   "execution_count": 125,
   "metadata": {},
   "outputs": [],
   "source": [
    "def create_dataset(dataset, look_back = 1):\n",
    "    dataX, dataY = [], []\n",
    "    for i in range(len(dataset)-look_back-1):\n",
    "        a = dataset[i:(i+look_back), :]\n",
    "        dataX.append(a)\n",
    "        dataY.append(dataset[i + look_back, :])\n",
    "    return np.array(dataX), np.array(dataY)"
   ]
  },
  {
   "cell_type": "code",
   "execution_count": 126,
   "metadata": {},
   "outputs": [
    {
     "name": "stdout",
     "output_type": "stream",
     "text": [
      "       open     close\n",
      "0    254.00    253.90\n",
      "1   1651.15   1654.20\n",
      "2    254.45    253.95\n",
      "3  25100.00  25056.35\n",
      "4    845.00    842.50\n"
     ]
    }
   ],
   "source": [
    "# dataframe = read_csv('sp500.csv')\n",
    "fields = ['open', 'close']\n",
    "dataframe = read_csv('log_inf_small.csv', skipinitialspace = True, squeeze = True, usecols = fields)\n",
    "\n",
    "print(dataframe.head())\n",
    "data = np.array(dataframe[:1000])"
   ]
  },
  {
   "cell_type": "code",
   "execution_count": 127,
   "metadata": {},
   "outputs": [
    {
     "name": "stdout",
     "output_type": "stream",
     "text": [
      "[[0.00302212 0.00303566]\n",
      " [0.05211935 0.05252147]\n",
      " [0.00303794 0.00303742]\n",
      " [0.87613505 0.87954023]\n",
      " [0.02379045 0.02383645]]\n"
     ]
    }
   ],
   "source": [
    "# dataset = dataset.astype('float32')\n",
    "\n",
    "scaler = MinMaxScaler(feature_range=(0, 1))\n",
    "data = scaler.fit_transform(data)\n",
    "print(data[:5])"
   ]
  },
  {
   "cell_type": "code",
   "execution_count": 128,
   "metadata": {},
   "outputs": [
    {
     "name": "stdout",
     "output_type": "stream",
     "text": [
      "[[0.00302212 0.00303566]\n",
      " [0.05211935 0.05252147]\n",
      " [0.00303794 0.00303742]\n",
      " [0.87613505 0.87954023]\n",
      " [0.02379045 0.02383645]]\n"
     ]
    }
   ],
   "source": [
    "split = 0.67\n",
    "train_size = int(len(data)*split)\n",
    "test_size = len(data)-train_size\n",
    "train = data[0:train_size,:]\n",
    "test = data[train_size:len(data),:]\n",
    "print(train[:5])"
   ]
  },
  {
   "cell_type": "code",
   "execution_count": 129,
   "metadata": {},
   "outputs": [
    {
     "name": "stdout",
     "output_type": "stream",
     "text": [
      "(666, 2)\n"
     ]
    }
   ],
   "source": [
    "look_back = 3\n",
    "trainX, trainY = create_dataset(train, look_back)\n",
    "testX, testY = create_dataset(test, look_back)\n",
    "print(trainY.shape)\n",
    "# print(trainY[:5])"
   ]
  },
  {
   "cell_type": "code",
   "execution_count": 130,
   "metadata": {},
   "outputs": [],
   "source": [
    "# trainX = np.reshape(trainX, (trainX.shape[0], 2, trainX.shape[1]))\n",
    "# testX = np.reshape(testX, (testX.shape[0], 2, testX.shape[1]))"
   ]
  },
  {
   "cell_type": "code",
   "execution_count": 131,
   "metadata": {},
   "outputs": [
    {
     "name": "stdout",
     "output_type": "stream",
     "text": [
      "_________________________________________________________________\n",
      "Layer (type)                 Output Shape              Param #   \n",
      "=================================================================\n",
      "lstm_34 (LSTM)               (None, 100)               41200     \n",
      "_________________________________________________________________\n",
      "dense_14 (Dense)             (None, 2)                 202       \n",
      "=================================================================\n",
      "Total params: 41,402\n",
      "Trainable params: 41,402\n",
      "Non-trainable params: 0\n",
      "_________________________________________________________________\n",
      "Epoch 1/20\n",
      "666/666 [==============================] - 4s 6ms/step - loss: 0.0535\n",
      "Epoch 2/20\n",
      "666/666 [==============================] - 4s 6ms/step - loss: 0.0532\n",
      "Epoch 3/20\n",
      "666/666 [==============================] - 4s 6ms/step - loss: 0.0529\n",
      "Epoch 4/20\n",
      "666/666 [==============================] - 4s 6ms/step - loss: 0.0531\n",
      "Epoch 5/20\n",
      "666/666 [==============================] - 4s 6ms/step - loss: 0.0528\n",
      "Epoch 6/20\n",
      "666/666 [==============================] - 4s 6ms/step - loss: 0.0527\n",
      "Epoch 7/20\n",
      "666/666 [==============================] - 4s 6ms/step - loss: 0.0527\n",
      "Epoch 8/20\n",
      "666/666 [==============================] - 4s 6ms/step - loss: 0.0527\n",
      "Epoch 9/20\n",
      "666/666 [==============================] - 4s 6ms/step - loss: 0.0528\n",
      "Epoch 10/20\n",
      "666/666 [==============================] - 4s 6ms/step - loss: 0.0527\n",
      "Epoch 11/20\n",
      "666/666 [==============================] - 4s 5ms/step - loss: 0.0527\n",
      "Epoch 12/20\n",
      "666/666 [==============================] - 4s 6ms/step - loss: 0.0528\n",
      "Epoch 13/20\n",
      "666/666 [==============================] - 4s 6ms/step - loss: 0.0528\n",
      "Epoch 14/20\n",
      "666/666 [==============================] - 4s 6ms/step - loss: 0.0526\n",
      "Epoch 15/20\n",
      "666/666 [==============================] - 4s 5ms/step - loss: 0.0526\n",
      "Epoch 16/20\n",
      "666/666 [==============================] - 4s 6ms/step - loss: 0.0527\n",
      "Epoch 17/20\n",
      "666/666 [==============================] - 4s 6ms/step - loss: 0.0527\n",
      "Epoch 18/20\n",
      "666/666 [==============================] - 4s 6ms/step - loss: 0.0526\n",
      "Epoch 19/20\n",
      "666/666 [==============================] - 4s 6ms/step - loss: 0.0527\n",
      "Epoch 20/20\n",
      "666/666 [==============================] - 4s 6ms/step - loss: 0.0525\n"
     ]
    },
    {
     "data": {
      "text/plain": [
       "<keras.callbacks.History at 0x7f34c2be8d30>"
      ]
     },
     "execution_count": 131,
     "metadata": {},
     "output_type": "execute_result"
    }
   ],
   "source": [
    "units = 100\n",
    "drop = 0.2\n",
    "epoch = 20\n",
    "\n",
    "model = Sequential()\n",
    "model.add(LSTM(units, input_shape=(look_back, 2)))\n",
    "# model.add(Dropout(drop))\n",
    "model.add(Dense(2))\n",
    "# model.compile(loss='mean_squared_error', optimizer='adam')\n",
    "model.compile(loss='mean_squared_error', optimizer='nadam')\n",
    "model.summary()\n",
    "tensorboard = TensorBoard(log_dir=\"logs/{}\".format(time()))\n",
    "model.fit(trainX, trainY, epochs=epoch, batch_size=1, verbose=1, callbacks=[tensorboard])\n"
   ]
  },
  {
   "cell_type": "code",
   "execution_count": 132,
   "metadata": {},
   "outputs": [],
   "source": [
    "trainPredict = model.predict(trainX)\n",
    "testPredict = model.predict(testX)\n",
    "# print(trainY.shape)"
   ]
  },
  {
   "cell_type": "code",
   "execution_count": 133,
   "metadata": {},
   "outputs": [],
   "source": [
    "trainPredict = scaler.inverse_transform(trainPredict)\n",
    "trainY = scaler.inverse_transform(trainY)\n",
    "testPredict = scaler.inverse_transform(testPredict)\n",
    "testY = scaler.inverse_transform(testY)\n"
   ]
  },
  {
   "cell_type": "code",
   "execution_count": 134,
   "metadata": {},
   "outputs": [
    {
     "name": "stdout",
     "output_type": "stream",
     "text": [
      "Train Score: 6482.63 RMSE\n",
      "Test Score: 7002.22 RMSE\n"
     ]
    }
   ],
   "source": [
    "# print(trainY.shape)\n",
    "# print(trainPredict.shape)\n",
    "trainScore = math.sqrt(mean_squared_error(trainY, trainPredict))\n",
    "print('Train Score: %.2f RMSE' % (trainScore))\n",
    "testScore = math.sqrt(mean_squared_error(testY, testPredict))\n",
    "# testScore = math.sqrt(mean_squared_error(testY[0], testPredict[:,0]))\n",
    "print('Test Score: %.2f RMSE' % (testScore))\n"
   ]
  },
  {
   "cell_type": "code",
   "execution_count": 135,
   "metadata": {},
   "outputs": [],
   "source": [
    "trainPredictPlot = np.empty_like(data)\n",
    "trainPredictPlot[:, :] = np.nan\n",
    "trainPredictPlot[look_back:len(trainPredict)+look_back, :] = trainPredict\n",
    "\n",
    "testPredictPlot = np.empty_like(data)\n",
    "testPredictPlot[:, :] = np.nan\n",
    "testPredictPlot[len(trainPredict)+(look_back*2)+1:len(data)-1, :] = testPredict\n"
   ]
  },
  {
   "cell_type": "code",
   "execution_count": 136,
   "metadata": {},
   "outputs": [
    {
     "name": "stdout",
     "output_type": "stream",
     "text": [
      "(1000, 2)\n",
      "(670, 2)\n",
      "(330, 2)\n",
      "(666, 2)\n",
      "(326, 2)\n"
     ]
    }
   ],
   "source": [
    "print(data.shape)\n",
    "print(train.shape)\n",
    "print(test.shape)\n",
    "print(trainPredict.shape)\n",
    "print(testPredict.shape)"
   ]
  },
  {
   "cell_type": "code",
   "execution_count": 137,
   "metadata": {},
   "outputs": [
    {
     "data": {
      "image/png": "[encoded data removed]",
      "text/plain": [
       "<Figure size 432x288 with 1 Axes>"
      ]
     },
     "metadata": {},
     "output_type": "display_data"
    }
   ],
   "source": [
    "plt.plot(np.sum(scaler.inverse_transform(data), axis = 1))\n",
    "plt.plot(np.sum(trainPredictPlot, axis = 1))\n",
    "plt.plot(np.sum(testPredictPlot, axis = 1))\n",
    "plt.title('Units = %d Dropout = %.2f Epoch = %d Split = %d%% Train = %.2f Test = %.2f' % \n",
    "\t\t(units, drop, epoch, split*100, trainScore, testScore))\n",
    "plt.show()"
   ]
  },
  {
   "cell_type": "code",
   "execution_count": null,
   "metadata": {},
   "outputs": [],
   "source": []
  }
 ],
 "metadata": {
  "kernelspec": {
   "display_name": "Python 3",
   "language": "python",
   "name": "python3"
  },
  "language_info": {
   "codemirror_mode": {
    "name": "ipython",
    "version": 3
   },
   "file_extension": ".py",
   "mimetype": "text/x-python",
   "name": "python",
   "nbconvert_exporter": "python",
   "pygments_lexer": "ipython3",
   "version": "3.5.2"
  }
 },
 "nbformat": 4,
 "nbformat_minor": 2
}
