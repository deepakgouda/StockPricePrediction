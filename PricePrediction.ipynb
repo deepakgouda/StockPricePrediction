{
 "cells": [
  {
   "cell_type": "code",
   "execution_count": null,
   "metadata": {},
   "outputs": [],
   "source": [
    "import numpy as np\n",
    "import math\n",
    "import matplotlib.pyplot as plt\n",
    "from pandas import read_csv\n",
    "from keras.models import Sequential\n",
    "from keras.layers import Dense, Dropout\n",
    "from keras.layers import LSTM\n",
    "from sklearn.preprocessing import MinMaxScaler\n",
    "from sklearn.metrics import mean_squared_error\n",
    "from keras.callbacks import TensorBoard\n",
    "from time import time"
   ]
  },
  {
   "cell_type": "code",
   "execution_count": 226,
   "metadata": {},
   "outputs": [],
   "source": [
    "def create_dataset(dataset, look_back = 1):\n",
    "    dataX, dataY = [], []\n",
    "    for i in range(len(dataset)-look_back-1):\n",
    "        a = dataset[i:(i+look_back), :]\n",
    "        dataX.append(a)\n",
    "        dataY.append(dataset[i + look_back, :])\n",
    "    return np.array(dataX), np.array(dataY)"
   ]
  },
  {
   "cell_type": "code",
   "execution_count": 227,
   "metadata": {},
   "outputs": [
    {
     "name": "stdout",
     "output_type": "stream",
     "text": [
      "       open     close\n",
      "0  390.4551  393.0777\n",
      "1  389.5892  391.6012\n",
      "2  391.2659  390.7403\n",
      "3  390.4551  391.8214\n",
      "4  390.2549  394.3039\n"
     ]
    }
   ],
   "source": [
    "# dataframe = read_csv('sp500.csv')\n",
    "fields = ['open', 'close']\n",
    "dataframe = read_csv('GOOGL_data.csv', skipinitialspace = True, squeeze = True, usecols = fields)\n",
    "\n",
    "print(dataframe.head())\n",
    "data = np.array(dataframe)"
   ]
  },
  {
   "cell_type": "code",
   "execution_count": 228,
   "metadata": {},
   "outputs": [
    {
     "name": "stdout",
     "output_type": "stream",
     "text": [
      "[[0.00683718 0.01210825]\n",
      " [0.0057589  0.01027231]\n",
      " [0.00784685 0.00920184]\n",
      " [0.00683718 0.01054612]\n",
      " [0.00658788 0.01363296]]\n"
     ]
    }
   ],
   "source": [
    "# dataset = dataset.astype('float32')\n",
    "\n",
    "scaler = MinMaxScaler(feature_range=(0, 1))\n",
    "data = scaler.fit_transform(data)\n",
    "print(data[:5])"
   ]
  },
  {
   "cell_type": "code",
   "execution_count": 229,
   "metadata": {},
   "outputs": [
    {
     "name": "stdout",
     "output_type": "stream",
     "text": [
      "[[0.00683718 0.01210825]\n",
      " [0.0057589  0.01027231]\n",
      " [0.00784685 0.00920184]\n",
      " [0.00683718 0.01054612]\n",
      " [0.00658788 0.01363296]]\n"
     ]
    }
   ],
   "source": [
    "split = 0.67\n",
    "train_size = int(len(data)*split)\n",
    "test_size = len(data)-train_size\n",
    "train = data[0:train_size,:]\n",
    "test = data[train_size:len(data),:]\n",
    "print(train[:5])"
   ]
  },
  {
   "cell_type": "code",
   "execution_count": 230,
   "metadata": {},
   "outputs": [
    {
     "name": "stdout",
     "output_type": "stream",
     "text": [
      "(839, 3, 2)\n"
     ]
    }
   ],
   "source": [
    "look_back = 3\n",
    "trainX, trainY = create_dataset(train, look_back)\n",
    "testX, testY = create_dataset(test, look_back)\n",
    "print(trainX.shape)\n",
    "# print(trainY[:5])"
   ]
  },
  {
   "cell_type": "code",
   "execution_count": 231,
   "metadata": {},
   "outputs": [],
   "source": [
    "# trainX = np.reshape(trainX, (trainX.shape[0], 2, trainX.shape[1]))\n",
    "# testX = np.reshape(testX, (testX.shape[0], 2, testX.shape[1]))"
   ]
  },
  {
   "cell_type": "code",
   "execution_count": 232,
   "metadata": {},
   "outputs": [
    {
     "name": "stdout",
     "output_type": "stream",
     "text": [
      "_________________________________________________________________\n",
      "Layer (type)                 Output Shape              Param #   \n",
      "=================================================================\n",
      "lstm_43 (LSTM)               (None, 100)               41200     \n",
      "_________________________________________________________________\n",
      "dense_23 (Dense)             (None, 2)                 202       \n",
      "=================================================================\n",
      "Total params: 41,402\n",
      "Trainable params: 41,402\n",
      "Non-trainable params: 0\n",
      "_________________________________________________________________\n",
      "Epoch 1/20\n",
      "839/839 [==============================] - 6s 7ms/step - loss: 0.0012\n",
      "Epoch 2/20\n",
      "839/839 [==============================] - 5s 6ms/step - loss: 3.7186e-04\n",
      "Epoch 3/20\n",
      "839/839 [==============================] - 6s 7ms/step - loss: 3.0543e-04\n",
      "Epoch 4/20\n",
      "839/839 [==============================] - 6s 7ms/step - loss: 2.6439e-04\n",
      "Epoch 5/20\n",
      "839/839 [==============================] - 5s 6ms/step - loss: 2.2852e-04\n",
      "Epoch 6/20\n",
      "839/839 [==============================] - 5s 6ms/step - loss: 1.9375e-04\n",
      "Epoch 7/20\n",
      "839/839 [==============================] - 5s 6ms/step - loss: 1.6688e-04\n",
      "Epoch 8/20\n",
      "839/839 [==============================] - 5s 6ms/step - loss: 1.5077e-04\n",
      "Epoch 9/20\n",
      "839/839 [==============================] - 5s 6ms/step - loss: 1.5538e-04\n",
      "Epoch 10/20\n",
      "839/839 [==============================] - 5s 6ms/step - loss: 1.3828e-04\n",
      "Epoch 11/20\n",
      "839/839 [==============================] - 5s 6ms/step - loss: 1.4305e-04\n",
      "Epoch 12/20\n",
      "839/839 [==============================] - 5s 6ms/step - loss: 1.4703e-04\n",
      "Epoch 13/20\n",
      "839/839 [==============================] - 5s 6ms/step - loss: 1.3556e-04\n",
      "Epoch 14/20\n",
      "839/839 [==============================] - 5s 6ms/step - loss: 1.3939e-04\n",
      "Epoch 15/20\n",
      "839/839 [==============================] - 5s 6ms/step - loss: 1.3027e-04\n",
      "Epoch 16/20\n",
      "839/839 [==============================] - 5s 6ms/step - loss: 1.4656e-04\n",
      "Epoch 17/20\n",
      "839/839 [==============================] - 5s 6ms/step - loss: 1.3492e-04\n",
      "Epoch 18/20\n",
      "839/839 [==============================] - 5s 6ms/step - loss: 1.3490e-04\n",
      "Epoch 19/20\n",
      "839/839 [==============================] - 6s 7ms/step - loss: 1.3656e-04\n",
      "Epoch 20/20\n",
      "839/839 [==============================] - 5s 6ms/step - loss: 1.3613e-04\n"
     ]
    },
    {
     "data": {
      "text/plain": [
       "<keras.callbacks.History at 0x7f349ecb3ba8>"
      ]
     },
     "execution_count": 232,
     "metadata": {},
     "output_type": "execute_result"
    }
   ],
   "source": [
    "units = 100\n",
    "drop = 0.2\n",
    "epoch = 20\n",
    "\n",
    "model = Sequential()\n",
    "model.add(LSTM(units, input_shape=(look_back, 2)))\n",
    "# model.add(Dropout(drop))\n",
    "model.add(Dense(2))\n",
    "# model.compile(loss='mean_squared_error', optimizer='adam')\n",
    "model.compile(loss='mean_squared_error', optimizer='nadam')\n",
    "model.summary()\n",
    "tensorboard = TensorBoard(log_dir=\"logs/{}\".format(time()))\n",
    "model.fit(trainX, trainY, epochs=epoch, batch_size=1, verbose=1, callbacks=[tensorboard])\n"
   ]
  },
  {
   "cell_type": "code",
   "execution_count": 233,
   "metadata": {},
   "outputs": [],
   "source": [
    "trainPredict = model.predict(trainX)\n",
    "testPredict = model.predict(testX)"
   ]
  },
  {
   "cell_type": "code",
   "execution_count": 234,
   "metadata": {},
   "outputs": [],
   "source": [
    "trainPredict = scaler.inverse_transform(trainPredict)\n",
    "trainY = scaler.inverse_transform(trainY)\n",
    "testPredict = scaler.inverse_transform(testPredict)\n",
    "testY = scaler.inverse_transform(testY)\n"
   ]
  },
  {
   "cell_type": "code",
   "execution_count": 235,
   "metadata": {},
   "outputs": [
    {
     "name": "stdout",
     "output_type": "stream",
     "text": [
      "Train Score: 8.64 RMSE\n",
      "Test Score: 17.13 RMSE\n"
     ]
    }
   ],
   "source": [
    "trainScore = math.sqrt(mean_squared_error(trainY, trainPredict))\n",
    "print('Train Score: %.2f RMSE' % (trainScore))\n",
    "testScore = math.sqrt(mean_squared_error(testY, testPredict))\n",
    "print('Test Score: %.2f RMSE' % (testScore))\n"
   ]
  },
  {
   "cell_type": "code",
   "execution_count": 236,
   "metadata": {},
   "outputs": [],
   "source": [
    "trainPredictPlot = np.empty_like(data)\n",
    "trainPredictPlot[:, :] = np.nan\n",
    "trainPredictPlot[look_back:len(trainPredict)+look_back, :] = trainPredict\n",
    "\n",
    "testPredictPlot = np.empty_like(data)\n",
    "testPredictPlot[:, :] = np.nan\n",
    "testPredictPlot[len(trainPredict)+(look_back*2)+1:len(data)-1, :] = testPredict\n"
   ]
  },
  {
   "cell_type": "code",
   "execution_count": 237,
   "metadata": {},
   "outputs": [],
   "source": [
    "# print(data.shape)\n",
    "# print(train.shape)\n",
    "# print(test.shape)\n",
    "# print(trainPredict.shape)\n",
    "# print(testPredict.shape)"
   ]
  },
  {
   "cell_type": "code",
   "execution_count": 238,
   "metadata": {},
   "outputs": [
    {
     "data": {
      "image/png": "[encoded data removed]",
      "text/plain": [
       "<Figure size 432x288 with 1 Axes>"
      ]
     },
     "metadata": {},
     "output_type": "display_data"
    }
   ],
   "source": [
    "col = 0\n",
    "plt.plot(scaler.inverse_transform(data)[:,col])\n",
    "plt.plot(trainPredictPlot[:,col])\n",
    "plt.plot(testPredictPlot[:,col])\n",
    "plt.title('Units = %d Dropout = %.2f Epoch = %d Split = %d%% Train = %.2f Test = %.2f' % \n",
    "\t\t(units, drop, epoch, split*100, trainScore, testScore))\n",
    "plt.show()"
   ]
  },
  {
   "cell_type": "code",
   "execution_count": null,
   "metadata": {},
   "outputs": [],
   "source": []
  }
 ],
 "metadata": {
  "kernelspec": {
   "display_name": "Python 3",
   "language": "python",
   "name": "python3"
  },
  "language_info": {
   "codemirror_mode": {
    "name": "ipython",
    "version": 3
   },
   "file_extension": ".py",
   "mimetype": "text/x-python",
   "name": "python",
   "nbconvert_exporter": "python",
   "pygments_lexer": "ipython3",
   "version": "3.5.2"
  }
 },
 "nbformat": 4,
 "nbformat_minor": 2
}
