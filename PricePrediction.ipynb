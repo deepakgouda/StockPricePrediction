{
 "cells": [
  {
   "cell_type": "code",
   "execution_count": 1,
   "metadata": {},
   "outputs": [
    {
     "name": "stderr",
     "output_type": "stream",
     "text": [
      "Using TensorFlow backend.\n"
     ]
    }
   ],
   "source": [
    "import numpy as np\n",
    "import math\n",
    "import matplotlib.pyplot as plt\n",
    "from pandas import read_csv\n",
    "from keras.models import Sequential, load_model\n",
    "from keras.layers import Dense, Dropout\n",
    "from keras.layers import LSTM\n",
    "from sklearn.preprocessing import MinMaxScaler\n",
    "from sklearn.metrics import mean_squared_error\n",
    "from keras.callbacks import TensorBoard\n",
    "from time import time"
   ]
  },
  {
   "cell_type": "code",
   "execution_count": 2,
   "metadata": {},
   "outputs": [],
   "source": [
    "def create_dataset(dataset, look_back = 1):\n",
    "    dataX, dataY = [], []\n",
    "    for i in range(len(dataset)-look_back-1):\n",
    "        a = dataset[i:(i+look_back), :]\n",
    "        dataX.append(a)\n",
    "        dataY.append(dataset[i + look_back, :])\n",
    "    return np.array(dataX), np.array(dataY)"
   ]
  },
  {
   "cell_type": "code",
   "execution_count": 3,
   "metadata": {},
   "outputs": [
    {
     "name": "stdout",
     "output_type": "stream",
     "text": [
      "       open     close\n",
      "0  390.4551  393.0777\n",
      "1  389.5892  391.6012\n",
      "2  391.2659  390.7403\n",
      "3  390.4551  391.8214\n",
      "4  390.2549  394.3039\n"
     ]
    }
   ],
   "source": [
    "# dataframe = read_csv('sp500.csv')\n",
    "fields = ['open', 'close']\n",
    "dataframe = read_csv('GOOGL_data.csv', skipinitialspace = True, squeeze = True, usecols = fields)\n",
    "\n",
    "print(dataframe.head())\n",
    "data = np.array(dataframe)"
   ]
  },
  {
   "cell_type": "code",
   "execution_count": 4,
   "metadata": {},
   "outputs": [
    {
     "name": "stdout",
     "output_type": "stream",
     "text": [
      "[[0.00683718 0.01210825]\n",
      " [0.0057589  0.01027231]\n",
      " [0.00784685 0.00920184]\n",
      " [0.00683718 0.01054612]\n",
      " [0.00658788 0.01363296]]\n"
     ]
    }
   ],
   "source": [
    "# dataset = dataset.astype('float32')\n",
    "\n",
    "scaler = MinMaxScaler(feature_range=(0, 1))\n",
    "data = scaler.fit_transform(data)\n",
    "print(data[:5])"
   ]
  },
  {
   "cell_type": "code",
   "execution_count": 5,
   "metadata": {},
   "outputs": [
    {
     "name": "stdout",
     "output_type": "stream",
     "text": [
      "[[0.00683718 0.01210825]\n",
      " [0.0057589  0.01027231]\n",
      " [0.00784685 0.00920184]\n",
      " [0.00683718 0.01054612]\n",
      " [0.00658788 0.01363296]]\n"
     ]
    }
   ],
   "source": [
    "split = 0.67\n",
    "train_size = int(len(data)*split)\n",
    "test_size = len(data)-train_size\n",
    "train = data[0:train_size,:]\n",
    "test = data[train_size:len(data),:]\n",
    "print(train[:5])"
   ]
  },
  {
   "cell_type": "code",
   "execution_count": 6,
   "metadata": {},
   "outputs": [
    {
     "name": "stdout",
     "output_type": "stream",
     "text": [
      "(839, 3, 2)\n"
     ]
    }
   ],
   "source": [
    "look_back = 3\n",
    "trainX, trainY = create_dataset(train, look_back)\n",
    "testX, testY = create_dataset(test, look_back)\n",
    "print(trainX.shape)\n",
    "# print(trainY[:5])"
   ]
  },
  {
   "cell_type": "code",
   "execution_count": 7,
   "metadata": {},
   "outputs": [],
   "source": [
    "look_forward = 3"
   ]
  },
  {
   "cell_type": "code",
   "execution_count": 8,
   "metadata": {},
   "outputs": [],
   "source": [
    "# trainX = np.reshape(trainX, (trainX.shape[0], 2, trainX.shape[1]))\n",
    "# testX = np.reshape(testX, (testX.shape[0], 2, testX.shape[1]))"
   ]
  },
  {
   "cell_type": "code",
   "execution_count": 9,
   "metadata": {},
   "outputs": [],
   "source": [
    "units = 100\n",
    "drop = 0.2\n",
    "epoch = 20"
   ]
  },
  {
   "cell_type": "code",
   "execution_count": 10,
   "metadata": {},
   "outputs": [],
   "source": [
    "model = load_model(\"./Models/PricePrediction.h5\")"
   ]
  },
  {
   "cell_type": "code",
   "execution_count": 44,
   "metadata": {},
   "outputs": [
    {
     "name": "stdout",
     "output_type": "stream",
     "text": [
      "_________________________________________________________________\n",
      "Layer (type)                 Output Shape              Param #   \n",
      "=================================================================\n",
      "lstm_1 (LSTM)                (None, 100)               41200     \n",
      "_________________________________________________________________\n",
      "dense_1 (Dense)              (None, 2)                 202       \n",
      "=================================================================\n",
      "Total params: 41,402\n",
      "Trainable params: 41,402\n",
      "Non-trainable params: 0\n",
      "_________________________________________________________________\n",
      "Epoch 1/20\n",
      "839/839 [==============================] - 6s 7ms/step - loss: 0.0013\n",
      "Epoch 2/20\n",
      "839/839 [==============================] - 4s 5ms/step - loss: 3.5457e-04\n",
      "Epoch 3/20\n",
      "839/839 [==============================] - 4s 5ms/step - loss: 3.1603e-04\n",
      "Epoch 4/20\n",
      "839/839 [==============================] - 4s 5ms/step - loss: 2.7183e-04\n",
      "Epoch 5/20\n",
      "839/839 [==============================] - 4s 5ms/step - loss: 2.5292e-04\n",
      "Epoch 6/20\n",
      "839/839 [==============================] - 4s 5ms/step - loss: 1.9904e-04\n",
      "Epoch 7/20\n",
      "839/839 [==============================] - 4s 5ms/step - loss: 1.7373e-04\n",
      "Epoch 8/20\n",
      "839/839 [==============================] - 4s 5ms/step - loss: 1.5722e-04\n",
      "Epoch 9/20\n",
      "839/839 [==============================] - 4s 5ms/step - loss: 1.5210e-04\n",
      "Epoch 10/20\n",
      "839/839 [==============================] - 4s 5ms/step - loss: 1.4635e-04\n",
      "Epoch 11/20\n",
      "839/839 [==============================] - 4s 5ms/step - loss: 1.4585e-04\n",
      "Epoch 12/20\n",
      "839/839 [==============================] - 4s 5ms/step - loss: 1.4614e-04\n",
      "Epoch 13/20\n",
      "839/839 [==============================] - 4s 5ms/step - loss: 1.4035e-04\n",
      "Epoch 14/20\n",
      "839/839 [==============================] - 4s 5ms/step - loss: 1.4486e-04\n",
      "Epoch 15/20\n",
      "839/839 [==============================] - 4s 5ms/step - loss: 1.3535e-04\n",
      "Epoch 16/20\n",
      "839/839 [==============================] - 4s 5ms/step - loss: 1.3563e-04\n",
      "Epoch 17/20\n",
      "839/839 [==============================] - 4s 5ms/step - loss: 1.3981e-04\n",
      "Epoch 18/20\n",
      "839/839 [==============================] - 4s 5ms/step - loss: 1.3577e-04\n",
      "Epoch 19/20\n",
      "839/839 [==============================] - 4s 5ms/step - loss: 1.3566e-04\n",
      "Epoch 20/20\n",
      "839/839 [==============================] - 4s 5ms/step - loss: 1.3017e-04\n"
     ]
    },
    {
     "data": {
      "text/plain": [
       "<keras.callbacks.History at 0x7f196a0bc4e0>"
      ]
     },
     "execution_count": 44,
     "metadata": {},
     "output_type": "execute_result"
    }
   ],
   "source": [
    "model = Sequential()\n",
    "model.add(LSTM(units, input_shape=(look_back, 2)))\n",
    "# model.add(Dropout(drop))\n",
    "model.add(Dense(2))\n",
    "# model.compile(loss='mean_squared_error', optimizer='adam')\n",
    "model.compile(loss='mean_squared_error', optimizer='nadam')\n",
    "model.summary()\n",
    "tensorboard = TensorBoard(log_dir=\"logs/{}\".format(time()))\n",
    "model.fit(trainX, trainY, epochs=epoch, batch_size=1, verbose=1, callbacks=[tensorboard])"
   ]
  },
  {
   "cell_type": "code",
   "execution_count": 45,
   "metadata": {},
   "outputs": [],
   "source": [
    "model.save(\"./Models/PricePrediction.h5\")"
   ]
  },
  {
   "cell_type": "code",
   "execution_count": 46,
   "metadata": {},
   "outputs": [
    {
     "name": "stdout",
     "output_type": "stream",
     "text": [
      "[[0.00492746 0.0081273 ]]\n"
     ]
    }
   ],
   "source": [
    "a = trainX[0]\n",
    "a = a.reshape((1, a.shape[0], a.shape[1]))\n",
    "# print(a.shape)\n",
    "a_next = model.predict(a)\n",
    "print(a_next)\n",
    "# model.predict(a)\n",
    "# print(trainX[: 5])\n",
    "# print(trainX[0])\n",
    "# trainX.shape"
   ]
  },
  {
   "cell_type": "code",
   "execution_count": 67,
   "metadata": {},
   "outputs": [],
   "source": [
    "a = trainX[0]"
   ]
  },
  {
   "cell_type": "code",
   "execution_count": 17,
   "metadata": {},
   "outputs": [
    {
     "data": {
      "text/plain": [
       "(1, 3, 2)"
      ]
     },
     "execution_count": 17,
     "metadata": {},
     "output_type": "execute_result"
    }
   ],
   "source": [
    "a.shape"
   ]
  },
  {
   "cell_type": "code",
   "execution_count": 74,
   "metadata": {},
   "outputs": [
    {
     "data": {
      "text/plain": [
       "0.012108253960359139"
      ]
     },
     "execution_count": 74,
     "metadata": {},
     "output_type": "execute_result"
    }
   ],
   "source": [
    "# x1 = [a[0][1], a[0][2]]\n",
    "a = trainX[0]\n",
    "a[0][1]"
   ]
  },
  {
   "cell_type": "code",
   "execution_count": 36,
   "metadata": {},
   "outputs": [],
   "source": [
    "col = 0"
   ]
  },
  {
   "cell_type": "code",
   "execution_count": 115,
   "metadata": {},
   "outputs": [
    {
     "name": "stdout",
     "output_type": "stream",
     "text": [
      "<class 'list'>\n"
     ]
    }
   ],
   "source": [
    "# all_pred = np.zeros((len(trainX)//10, 2))\n",
    "all_pred = []\n",
    "print(type(all_pred))"
   ]
  },
  {
   "cell_type": "code",
   "execution_count": 116,
   "metadata": {},
   "outputs": [],
   "source": [
    "for i in range(0, len(trainX), 10):\n",
    "#     print(i)\n",
    "    forward_window = []\n",
    "    # a = trainX[0]\n",
    "    # a = a.reshape((1, a.shape[0], a.shape[1]))\n",
    "    # forward_window.append(a)\n",
    "\n",
    "    # a = a.reshape((1, a.shape[0], a.shape[1]))\n",
    "    base = trainX[i]\n",
    "    base = base.reshape((1, base.shape[0], base.shape[1]))\n",
    "    for j in range(look_forward):\n",
    "        next_pred = model.predict(base)\n",
    "        forward_window.append(next_pred)\n",
    "\n",
    "        next_temp = np.zeros((1, look_forward, base.shape[2]))\n",
    "        for k in range(look_forward-1):\n",
    "            next_temp[0][k] = a[0][k+1]\n",
    "\n",
    "        next_temp[0][look_forward-1] = next_pred\n",
    "        base = next_temp\n",
    "\n",
    "    forward_window.append(model.predict(base))\n",
    "\n",
    "    # b = model.predict(a)\n",
    "    # forward_window.append(b)\n",
    "\n",
    "    # b1 = np.zeros((1, look_forward, a.shape[2]))\n",
    "    # b1[0][0] = a[0][1]\n",
    "    # b1[0][1] = a[0][2]\n",
    "    # b1[0][2] = b\n",
    "    # # b1 = [int(a[0][1]), int(a[0][2]), b]\n",
    "    # # a = a.reshape((1, a.shape[0], a.shape[1]))\n",
    "    # c = model.predict(b1)\n",
    "    # forward_window.append(c)\n",
    "\n",
    "    # # a = a.reshape((1, a.shape[0], a.shape[1]))\n",
    "    # c1 = np.zeros((1, look_forward, 2))\n",
    "    # c1[0][0] = b1[0][1]\n",
    "    # c1[0][1] = b1[0][2]\n",
    "    # c1[0][2] = c\n",
    "\n",
    "    # # c1 = [b1[0][1], b1[0][2], c]\n",
    "\n",
    "    # d = model.predict(c1)\n",
    "    # forward_window.append(d)\n",
    "    pred_steps = np.concatenate(forward_window, axis = 0)\n",
    "#     all_pred[i] = pred_steps\n",
    "#     print(type(np.ndarray.tolist(pred_steps)))\n",
    "#     print(type(next_pred))\n",
    "    all_pred.append(np.ndarray.tolist(pred_steps))\n",
    "    \n",
    "#     next_pred[i] = pred_steps\n",
    "#     X = np.arange(i, i+4)\n",
    "#     Y = pred_steps[:, col]\n",
    "#     plt.plot(X, Y)\n",
    "# plt.show()"
   ]
  },
  {
   "cell_type": "code",
   "execution_count": 117,
   "metadata": {},
   "outputs": [
    {
     "data": {
      "text/plain": [
       "(84, 4, 2)"
      ]
     },
     "execution_count": 117,
     "metadata": {},
     "output_type": "execute_result"
    }
   ],
   "source": [
    "all_pred = np.asarray(all_pred)\n",
    "all_pred.shape"
   ]
  },
  {
   "cell_type": "code",
   "execution_count": 22,
   "metadata": {},
   "outputs": [],
   "source": [
    "T = np.concatenate(forward_window, axis = 0)"
   ]
  },
  {
   "cell_type": "code",
   "execution_count": 32,
   "metadata": {},
   "outputs": [
    {
     "data": {
      "image/png": "[encoded data removed]",
      "text/plain": [
       "<Figure size 432x288 with 1 Axes>"
      ]
     },
     "metadata": {},
     "output_type": "display_data"
    }
   ],
   "source": [
    "# T = [0, 0, 0]\n",
    "# col = 0\n",
    "# T[0] = forward_window[0][col][col]\n",
    "# T[1] = forward_window[1][col][col]\n",
    "# T[2] = forward_window[2][col][col]\n",
    "# print(T)\n",
    "plt.plot(train[:5])\n",
    "plt.plot(T[:, 0])\n",
    "plt.show()"
   ]
  },
  {
   "cell_type": "code",
   "execution_count": 82,
   "metadata": {},
   "outputs": [],
   "source": [
    "trainPredict = model.predict(trainX)\n",
    "testPredict = model.predict(testX)"
   ]
  },
  {
   "cell_type": "code",
   "execution_count": 83,
   "metadata": {},
   "outputs": [
    {
     "data": {
      "text/plain": [
       "(839, 2)"
      ]
     },
     "execution_count": 83,
     "metadata": {},
     "output_type": "execute_result"
    }
   ],
   "source": [
    "trainPredict.shape"
   ]
  },
  {
   "cell_type": "code",
   "execution_count": 118,
   "metadata": {},
   "outputs": [],
   "source": [
    "bkup = all_pred"
   ]
  },
  {
   "cell_type": "code",
   "execution_count": 121,
   "metadata": {},
   "outputs": [],
   "source": [
    "for i in range(all_pred.shape[0]):\n",
    "    all_pred[i] = scaler.inverse_transform(all_pred[i])\n",
    "#     for j in i:\n",
    "#     print(scaler.inverse_transform(all_pred[i]))"
   ]
  },
  {
   "cell_type": "code",
   "execution_count": 122,
   "metadata": {},
   "outputs": [
    {
     "data": {
      "text/plain": [
       "array([[[ 388.92152789,  389.87613876],\n",
       "        [ 387.46129141,  388.38043321],\n",
       "        [ 385.62056694,  386.54547793],\n",
       "        [ 383.34916243,  384.2803817 ]],\n",
       "\n",
       "       [[ 399.29701422,  400.08617269],\n",
       "        [ 400.15540072,  401.04118064],\n",
       "        [ 401.31225915,  402.19323241],\n",
       "        [ 402.74241869,  403.6193899 ]],\n",
       "\n",
       "       [[ 411.93095768,  412.63100071],\n",
       "        [ 415.75229103,  416.59491612],\n",
       "        [ 420.63913314,  421.46547879],\n",
       "        [ 426.70257784,  427.5117373 ]],\n",
       "\n",
       "       [[ 399.21135446,  400.03969348],\n",
       "        [ 400.08667308,  400.97202805],\n",
       "        [ 401.22662931,  402.10784175],\n",
       "        [ 402.63645236,  403.51371066]],\n",
       "\n",
       "       [[ 392.99751907,  393.98190056],\n",
       "        [ 392.53586462,  393.44018432],\n",
       "        [ 391.88757995,  392.79501185],\n",
       "        [ 391.08778575,  391.99744123]],\n",
       "\n",
       "       [[ 402.99732781,  403.88843846],\n",
       "        [ 404.84253959,  405.71335131],\n",
       "        [ 407.11287911,  407.97752479],\n",
       "        [ 409.92532756,  410.78205433]],\n",
       "\n",
       "       [[ 433.40880277,  434.00381158],\n",
       "        [ 442.38785618,  443.15530343],\n",
       "        [ 453.75777827,  454.48950281],\n",
       "        [ 467.93176053,  468.62271318]],\n",
       "\n",
       "       [[ 440.19780361,  440.46976715],\n",
       "        [ 450.54704815,  451.29580496],\n",
       "        [ 463.93360324,  464.63596861],\n",
       "        [ 480.63821893,  481.29244248]],\n",
       "\n",
       "       [[ 438.87050518,  439.31295781],\n",
       "        [ 449.05444919,  449.80489893],\n",
       "        [ 462.06955075,  462.77733332],\n",
       "        [ 478.30937086,  478.97033925]],\n",
       "\n",
       "       [[ 441.37032574,  441.77270709],\n",
       "        [ 452.13616018,  452.87826732],\n",
       "        [ 465.9139369 ,  466.61062518],\n",
       "        [ 483.11301824,  483.76007711]],\n",
       "\n",
       "       [[ 451.24392141,  451.61580869],\n",
       "        [ 464.44188982,  465.14858815],\n",
       "        [ 481.27894098,  481.93122159],\n",
       "        [ 502.33432078,  502.92559567]],\n",
       "\n",
       "       [[ 456.70008947,  456.96172125],\n",
       "        [ 471.15931508,  471.84806626],\n",
       "        [ 489.67789291,  490.3058149 ],\n",
       "        [ 512.85537545,  513.41605679]],\n",
       "\n",
       "       [[ 450.94161433,  451.31182133],\n",
       "        [ 464.06235314,  464.77017532],\n",
       "        [ 480.80471607,  481.45837034],\n",
       "        [ 501.74057189,  502.3335714 ]],\n",
       "\n",
       "       [[ 431.94182934,  432.39633302],\n",
       "        [ 440.42380249,  441.19912591],\n",
       "        [ 451.3133012 ,  452.05202544],\n",
       "        [ 464.88187355,  465.58162918]],\n",
       "\n",
       "       [[ 430.06865863,  430.55960414],\n",
       "        [ 438.12394245,  438.9053644 ],\n",
       "        [ 448.44877602,  449.19572582],\n",
       "        [ 461.30923291,  462.01928532]],\n",
       "\n",
       "       [[ 442.21780508,  442.59775659],\n",
       "        [ 453.17265698,  453.91209279],\n",
       "        [ 467.20744289,  467.90039491],\n",
       "        [ 484.72980201,  485.37217543]],\n",
       "\n",
       "       [[ 442.92315038,  443.35581058],\n",
       "        [ 454.10407894,  454.83999934],\n",
       "        [ 468.36890231,  469.05851648],\n",
       "        [ 486.18177586,  486.81993974]],\n",
       "\n",
       "       [[ 439.33405627,  439.81430057],\n",
       "        [ 449.66930639,  450.41738556],\n",
       "        [ 462.8357679 ,  463.54134926],\n",
       "        [ 479.26659784,  479.92479594]],\n",
       "\n",
       "       [[ 518.26056169,  517.86115221],\n",
       "        [ 547.81143641,  548.28437148],\n",
       "        [ 585.90947592,  586.25738023],\n",
       "        [ 633.90157922,  634.11132947]],\n",
       "\n",
       "       [[ 505.25707928,  505.0509247 ],\n",
       "        [ 531.63197959,  532.14984655],\n",
       "        [ 565.54679318,  565.9538789 ],\n",
       "        [ 608.23464479,  608.51812565]],\n",
       "\n",
       "       [[ 527.87258309,  527.49147524],\n",
       "        [ 559.93809846,  560.37497108],\n",
       "        [ 601.18116788,  601.48485044],\n",
       "        [ 653.15929478,  653.31414166]],\n",
       "\n",
       "       [[ 538.44272295,  538.04377283],\n",
       "        [ 573.24645469,  573.64434635],\n",
       "        [ 617.95083161,  618.2061747 ],\n",
       "        [ 674.30859698,  674.40373311]],\n",
       "\n",
       "       [[ 558.73609769,  558.01860614],\n",
       "        [ 598.54514251,  598.8733142 ],\n",
       "        [ 649.8512738 ,  650.01530983],\n",
       "        [ 714.52987601,  714.51350346]],\n",
       "\n",
       "       [[ 567.27065015,  566.46992581],\n",
       "        [ 609.24142963,  609.539458  ],\n",
       "        [ 663.34156353,  663.46737832],\n",
       "        [ 731.5279498 ,  731.46542022]],\n",
       "\n",
       "       [[ 554.37622732,  553.66845847],\n",
       "        [ 593.05076051,  593.39491461],\n",
       "        [ 642.9226518 ,  643.10637865],\n",
       "        [ 705.79642204,  705.80405248]],\n",
       "\n",
       "       [[ 584.18156243,  583.28196752],\n",
       "        [ 630.5093404 ,  630.74675446],\n",
       "        [ 690.16330419,  690.21392816],\n",
       "        [ 765.290494  ,  765.13815793]],\n",
       "\n",
       "       [[ 609.91572274,  608.72228187],\n",
       "        [ 662.74926255,  662.89783567],\n",
       "        [ 730.80217827,  730.74131038],\n",
       "        [ 816.32106856,  816.0388715 ]],\n",
       "\n",
       "       [[ 601.61190178,  600.49925382],\n",
       "        [ 652.33157157,  652.50892537],\n",
       "        [ 717.67544441,  717.65019431],\n",
       "        [ 799.85754707,  799.61644748]],\n",
       "\n",
       "       [[ 583.21168123,  582.1399462 ],\n",
       "        [ 629.11700589,  629.36094646],\n",
       "        [ 688.41002243,  688.46549001],\n",
       "        [ 763.08510679,  762.93864911]],\n",
       "\n",
       "       [[ 560.45318181,  559.47125984],\n",
       "        [ 600.45688016,  600.78327016],\n",
       "        [ 652.26580555,  652.42292954],\n",
       "        [ 717.57282262,  717.54814016]],\n",
       "\n",
       "       [[ 536.55878269,  536.1835377 ],\n",
       "        [ 570.89366833,  571.29814368],\n",
       "        [ 614.98523426,  615.24909723],\n",
       "        [ 670.56847796,  670.67417912]],\n",
       "\n",
       "       [[ 519.11513697,  518.73658165],\n",
       "        [ 548.90781189,  549.37722322],\n",
       "        [ 587.28955708,  587.63345738],\n",
       "        [ 635.64167426,  635.84644163]],\n",
       "\n",
       "       [[ 548.00896182,  547.41270495],\n",
       "        [ 585.12303596,  585.48888235],\n",
       "        [ 632.92518843,  633.13747699],\n",
       "        [ 693.19191534,  693.23442397]],\n",
       "\n",
       "       [[ 565.30810419,  564.47807247],\n",
       "        [ 606.73449519,  607.04030594],\n",
       "        [ 660.18043913,  660.31518041],\n",
       "        [ 727.54568357,  727.49388911]],\n",
       "\n",
       "       [[ 562.88938428,  562.19640263],\n",
       "        [ 603.81295724,  604.12531561],\n",
       "        [ 656.49409603,  656.63926596],\n",
       "        [ 722.90104252,  722.86185821]],\n",
       "\n",
       "       [[ 592.45001142,  591.40682419],\n",
       "        [ 640.81921628,  641.02881709],\n",
       "        [ 703.16396259,  703.17854311],\n",
       "        [ 781.63435389,  781.43968927]],\n",
       "\n",
       "       [[ 611.20967148,  609.98451281],\n",
       "        [ 664.35411605,  664.49848945],\n",
       "        [ 732.82407638,  732.7577545 ],\n",
       "        [ 818.85497473,  818.56654503]],\n",
       "\n",
       "       [[ 575.73344154,  574.77572605],\n",
       "        [ 619.77904546,  620.04856594],\n",
       "        [ 676.63302355,  676.72140232],\n",
       "        [ 748.26525703,  748.15791143]],\n",
       "\n",
       "       [[ 583.32059722,  582.43895429],\n",
       "        [ 629.43879987,  629.67909269],\n",
       "        [ 688.81318629,  688.86752293],\n",
       "        [ 763.59225658,  763.4444139 ]],\n",
       "\n",
       "       [[ 583.21204022,  582.2478844 ],\n",
       "        [ 629.22168586,  629.4638155 ],\n",
       "        [ 688.5406211 ,  688.59568214],\n",
       "        [ 763.24937824,  763.10239591]],\n",
       "\n",
       "       [[ 581.42491816,  580.43003601],\n",
       "        [ 626.93378001,  627.18300849],\n",
       "        [ 685.65603466,  685.71918381],\n",
       "        [ 759.62054451,  759.48314093]],\n",
       "\n",
       "       [[ 586.19005844,  585.09969607],\n",
       "        [ 632.86250968,  633.09586919],\n",
       "        [ 693.13306576,  693.17541568],\n",
       "        [ 769.02527611,  768.86320601]],\n",
       "\n",
       "       [[ 548.01590219,  547.31919527],\n",
       "        [ 585.03448638,  585.40204765],\n",
       "        [ 632.81495617,  633.02756147],\n",
       "        [ 693.05294035,  693.0957473 ]],\n",
       "\n",
       "       [[ 548.99877863,  548.32300729],\n",
       "        [ 586.2950256 ,  586.65857429],\n",
       "        [ 634.40394254,  634.61198917],\n",
       "        [ 695.05643451,  695.09373634]],\n",
       "\n",
       "       [[ 557.45416298,  556.67266828],\n",
       "        [ 596.8647586 ,  597.19876823],\n",
       "        [ 647.73309597,  647.90316299],\n",
       "        [ 711.86010607,  711.85108394]],\n",
       "\n",
       "       [[ 546.13013111,  545.52199499],\n",
       "        [ 582.74088464,  583.11388258],\n",
       "        [ 629.9220652 ,  630.14296208],\n",
       "        [ 689.40512829,  689.45813311]],\n",
       "\n",
       "       [[ 533.92967376,  533.33363145],\n",
       "        [ 567.36491956,  567.78305199],\n",
       "        [ 610.54150504,  610.81810676],\n",
       "        [ 664.96410302,  665.0855764 ]],\n",
       "\n",
       "       [[ 536.22472341,  535.86152069],\n",
       "        [ 570.4840906 ,  570.88959157],\n",
       "        [ 614.46889446,  614.73427267],\n",
       "        [ 669.9173274 ,  670.02482429]],\n",
       "\n",
       "       [[ 506.00769256,  505.64222995],\n",
       "        [ 532.42216496,  532.9400591 ],\n",
       "        [ 566.54296403,  566.94710921],\n",
       "        [ 609.48984711,  609.7697629 ]],\n",
       "\n",
       "       [[ 537.81922618,  537.49520186],\n",
       "        [ 572.53272112,  572.93162113],\n",
       "        [ 617.05023448,  617.30815578],\n",
       "        [ 673.17276908,  673.27116702]],\n",
       "\n",
       "       [[ 533.17994598,  532.70764505],\n",
       "        [ 566.53954171,  566.95827812],\n",
       "        [ 609.49965936,  609.77930201],\n",
       "        [ 663.6501708 ,  663.77536228]],\n",
       "\n",
       "       [[ 534.23548094,  533.74275879],\n",
       "        [ 567.85050633,  568.26568803],\n",
       "        [ 611.15192279,  611.4268125 ],\n",
       "        [ 665.73398182,  665.85328335]],\n",
       "\n",
       "       [[ 573.9153391 ,  572.93619894],\n",
       "        [ 617.46148747,  617.73808701],\n",
       "        [ 673.7106719 ,  673.80722689],\n",
       "        [ 744.58628509,  744.48865999]],\n",
       "\n",
       "       [[ 564.83149204,  564.06537396],\n",
       "        [ 606.19458205,  606.50098647],\n",
       "        [ 659.49860734,  659.63526686],\n",
       "        [ 726.68660901,  726.6372383 ]],\n",
       "\n",
       "       [[ 544.6915474 ,  544.15249696],\n",
       "        [ 580.99282013,  581.36995034],\n",
       "        [ 627.7172763 ,  627.9445318 ],\n",
       "        [ 686.62495856,  686.68565427]],\n",
       "\n",
       "       [[ 541.55660495,  541.16278756],\n",
       "        [ 577.17878614,  577.56503016],\n",
       "        [ 622.90731079,  623.14837062],\n",
       "        [ 680.55931208,  680.63692111]],\n",
       "\n",
       "       [[ 542.05504338,  541.57799069],\n",
       "        [ 577.72690806,  578.11275028],\n",
       "        [ 623.59940955,  623.83849437],\n",
       "        [ 681.43212379,  681.50730536]],\n",
       "\n",
       "       [[ 549.26543254,  548.65419191],\n",
       "        [ 586.69402523,  587.05545417],\n",
       "        [ 634.90606655,  635.11274473],\n",
       "        [ 695.6896119 ,  695.72513942]],\n",
       "\n",
       "       [[ 554.30158241,  553.70873606],\n",
       "        [ 593.06787212,  593.41032579],\n",
       "        [ 642.94263529,  643.12631972],\n",
       "        [ 705.82162278,  705.82917055]],\n",
       "\n",
       "       [[ 545.62867721,  545.05462633],\n",
       "        [ 582.14123643,  582.51548292],\n",
       "        [ 629.16554064,  629.38865303],\n",
       "        [ 688.45120996,  688.50685813]],\n",
       "\n",
       "       [[ 543.87731004,  543.28030314],\n",
       "        [ 579.90946384,  580.29064031],\n",
       "        [ 626.35239217,  626.58355425],\n",
       "        [ 684.90377004,  684.9692848 ]],\n",
       "\n",
       "       [[ 600.83673394,  599.68514555],\n",
       "        [ 651.31408899,  651.49490315],\n",
       "        [ 716.39370115,  716.37200093],\n",
       "        [ 798.24896012,  798.01191094]],\n",
       "\n",
       "       [[ 662.45913103,  660.62668762],\n",
       "        [ 728.5218111 ,  728.49434565],\n",
       "        [ 813.4886785 ,  813.21318454],\n",
       "        [ 919.42044958,  918.90302307]],\n",
       "\n",
       "       [[ 686.02038029,  683.987523  ],\n",
       "        [ 758.05843412,  757.95352718],\n",
       "        [ 850.45942198,  850.0945639 ],\n",
       "        [ 965.08173638,  964.47415203]],\n",
       "\n",
       "       [[ 664.97145025,  663.38567269],\n",
       "        [ 731.93195129,  731.89180425],\n",
       "        [ 817.7597839 ,  817.4737652 ],\n",
       "        [ 924.71135899,  924.1828509 ]],\n",
       "\n",
       "       [[ 653.88197905,  652.20642999],\n",
       "        [ 717.84220481,  717.8420791 ],\n",
       "        [ 800.0914137 ,  799.84936484],\n",
       "        [ 902.79969275,  902.31733159]],\n",
       "\n",
       "       [[ 641.93036996,  640.59773541],\n",
       "        [ 703.07586772,  703.11210486],\n",
       "        [ 781.54427264,  781.34952307],\n",
       "        [ 879.73147321,  879.29968862]],\n",
       "\n",
       "       [[ 671.52282708,  669.60328173],\n",
       "        [ 739.8788935 ,  739.82158843],\n",
       "        [ 827.71893163,  827.40848903],\n",
       "        [ 937.03277029,  936.47944024]],\n",
       "\n",
       "       [[ 734.67478661,  732.78181799],\n",
       "        [ 819.42604774,  819.16027101],\n",
       "        [ 926.79744359,  926.26443902],\n",
       "        [1058.24279078, 1057.48391924]],\n",
       "\n",
       "       [[ 758.33858586,  755.61553342],\n",
       "        [ 848.30599184,  847.98037982],\n",
       "        [ 962.4631098 ,  961.86000331],\n",
       "        [1101.16306112, 1100.35116469]],\n",
       "\n",
       "       [[ 775.62726981,  772.73896251],\n",
       "        [ 869.77443152,  869.40029306],\n",
       "        [ 988.83868022,  988.18767099],\n",
       "        [1132.62511107, 1131.78144359]],\n",
       "\n",
       "       [[ 771.5594934 ,  768.74197777],\n",
       "        [ 864.75816941,  864.39479865],\n",
       "        [ 982.68606369,  982.04591948],\n",
       "        [1125.30813932, 1124.47122249]],\n",
       "\n",
       "       [[ 763.35791131,  760.4858025 ],\n",
       "        [ 854.44721658,  854.10885326],\n",
       "        [ 970.02127147,  969.40410048],\n",
       "        [1110.20387787, 1109.38206943]],\n",
       "\n",
       "       [[ 754.56127602,  751.72021935],\n",
       "        [ 843.46161165,  843.14917797],\n",
       "        [ 956.49730897,  955.90548687],\n",
       "        [1094.01318483, 1093.20919631]],\n",
       "\n",
       "       [[ 726.28837521,  723.90454571],\n",
       "        [ 808.41933451,  808.18784494],\n",
       "        [ 913.16554632,  912.66065548],\n",
       "        [1041.73006444, 1040.99452967]],\n",
       "\n",
       "       [[ 734.28794459,  731.5642627 ],\n",
       "        [ 818.1431318 ,  817.89152088],\n",
       "        [ 925.21953787,  924.68962234],\n",
       "        [1056.33414041, 1055.5780138 ]],\n",
       "\n",
       "       [[ 721.63136115,  719.12377175],\n",
       "        [ 802.44601892,  802.23131522],\n",
       "        [ 905.75514279,  905.2658766 ],\n",
       "        [1032.72993264, 1032.00782123]],\n",
       "\n",
       "       [[ 731.45409466,  728.97178072],\n",
       "        [ 814.81548632,  814.56903301],\n",
       "        [ 921.09508973,  920.57375819],\n",
       "        [1051.34233713, 1050.59303568]],\n",
       "\n",
       "       [[ 754.32501615,  751.72472526],\n",
       "        [ 843.39598923,  843.08058263],\n",
       "        [ 956.41349798,  955.82179193],\n",
       "        [1093.91266908, 1093.1088199 ]],\n",
       "\n",
       "       [[ 763.76229572,  761.04223485],\n",
       "        [ 855.09870219,  854.75674607],\n",
       "        [ 970.82037163,  970.20169506],\n",
       "        [1111.15844238, 1110.33578912]],\n",
       "\n",
       "       [[ 784.47978707,  781.4381074 ],\n",
       "        [ 880.6818735 ,  880.28456621],\n",
       "        [1002.19377627, 1001.51990136],\n",
       "        [1148.46031344, 1147.60319103]],\n",
       "\n",
       "       [[ 715.31452105,  712.97372744],\n",
       "        [ 794.66136178,  794.46431915],\n",
       "        [ 896.0825128 ,  895.61425834],\n",
       "        [1020.9580074 , 1020.25405062]],\n",
       "\n",
       "       [[ 729.44385159,  726.92532914],\n",
       "        [ 812.25520674,  812.01576206],\n",
       "        [ 917.92305219,  917.40825825],\n",
       "        [1047.49947666, 1046.75562738]],\n",
       "\n",
       "       [[ 746.28990728,  743.7552507 ],\n",
       "        [ 833.38663149,  833.09480776],\n",
       "        [ 944.06542608,  943.49768775],\n",
       "        [1079.07539659, 1078.28930261]]])"
      ]
     },
     "execution_count": 122,
     "metadata": {},
     "output_type": "execute_result"
    }
   ],
   "source": [
    "all_pred"
   ]
  },
  {
   "cell_type": "code",
   "execution_count": 23,
   "metadata": {},
   "outputs": [
    {
     "ename": "NameError",
     "evalue": "name 'trainPredict' is not defined",
     "output_type": "error",
     "traceback": [
      "\u001b[0;31m---------------------------------------------------------------------------\u001b[0m",
      "\u001b[0;31mNameError\u001b[0m                                 Traceback (most recent call last)",
      "\u001b[0;32m<ipython-input-23-b9b9b4e014ce>\u001b[0m in \u001b[0;36m<module>\u001b[0;34m()\u001b[0m\n\u001b[0;32m----> 1\u001b[0;31m \u001b[0mtrainPredict\u001b[0m \u001b[0;34m=\u001b[0m \u001b[0mscaler\u001b[0m\u001b[0;34m.\u001b[0m\u001b[0minverse_transform\u001b[0m\u001b[0;34m(\u001b[0m\u001b[0mtrainPredict\u001b[0m\u001b[0;34m)\u001b[0m\u001b[0;34m\u001b[0m\u001b[0m\n\u001b[0m\u001b[1;32m      2\u001b[0m \u001b[0mtrainY\u001b[0m \u001b[0;34m=\u001b[0m \u001b[0mscaler\u001b[0m\u001b[0;34m.\u001b[0m\u001b[0minverse_transform\u001b[0m\u001b[0;34m(\u001b[0m\u001b[0mtrainY\u001b[0m\u001b[0;34m)\u001b[0m\u001b[0;34m\u001b[0m\u001b[0m\n\u001b[1;32m      3\u001b[0m \u001b[0mtestPredict\u001b[0m \u001b[0;34m=\u001b[0m \u001b[0mscaler\u001b[0m\u001b[0;34m.\u001b[0m\u001b[0minverse_transform\u001b[0m\u001b[0;34m(\u001b[0m\u001b[0mtestPredict\u001b[0m\u001b[0;34m)\u001b[0m\u001b[0;34m\u001b[0m\u001b[0m\n\u001b[1;32m      4\u001b[0m \u001b[0mtestY\u001b[0m \u001b[0;34m=\u001b[0m \u001b[0mscaler\u001b[0m\u001b[0;34m.\u001b[0m\u001b[0minverse_transform\u001b[0m\u001b[0;34m(\u001b[0m\u001b[0mtestY\u001b[0m\u001b[0;34m)\u001b[0m\u001b[0;34m\u001b[0m\u001b[0m\n",
      "\u001b[0;31mNameError\u001b[0m: name 'trainPredict' is not defined"
     ]
    }
   ],
   "source": [
    "trainPredict = scaler.inverse_transform(trainPredict)\n",
    "trainY = scaler.inverse_transform(trainY)\n",
    "testPredict = scaler.inverse_transform(testPredict)\n",
    "testY = scaler.inverse_transform(testY)"
   ]
  },
  {
   "cell_type": "code",
   "execution_count": 235,
   "metadata": {},
   "outputs": [
    {
     "name": "stdout",
     "output_type": "stream",
     "text": [
      "Train Score: 8.64 RMSE\n",
      "Test Score: 17.13 RMSE\n"
     ]
    }
   ],
   "source": [
    "trainScore = math.sqrt(mean_squared_error(trainY, trainPredict))\n",
    "print('Train Score: %.2f RMSE' % (trainScore))\n",
    "testScore = math.sqrt(mean_squared_error(testY, testPredict))\n",
    "print('Test Score: %.2f RMSE' % (testScore))\n"
   ]
  },
  {
   "cell_type": "code",
   "execution_count": 236,
   "metadata": {},
   "outputs": [],
   "source": [
    "trainPredictPlot = np.empty_like(data)\n",
    "trainPredictPlot[:, :] = np.nan\n",
    "trainPredictPlot[look_back:len(trainPredict)+look_back, :] = trainPredict\n",
    "\n",
    "testPredictPlot = np.empty_like(data)\n",
    "testPredictPlot[:, :] = np.nan\n",
    "testPredictPlot[len(trainPredict)+(look_back*2)+1:len(data)-1, :] = testPredict\n"
   ]
  },
  {
   "cell_type": "code",
   "execution_count": 237,
   "metadata": {},
   "outputs": [],
   "source": [
    "# print(data.shape)\n",
    "# print(train.shape)\n",
    "# print(test.shape)\n",
    "# print(trainPredict.shape)\n",
    "# print(testPredict.shape)"
   ]
  },
  {
   "cell_type": "code",
   "execution_count": 130,
   "metadata": {},
   "outputs": [
    {
     "data": {
      "image/png": "[encoded data removed]",
      "text/plain": [
       "<Figure size 432x288 with 1 Axes>"
      ]
     },
     "metadata": {},
     "output_type": "display_data"
    }
   ],
   "source": [
    "col = 0\n",
    "plt.plot(scaler.inverse_transform(data)[:,col])\n",
    "for i in range(all_pred.shape[0]):\n",
    "    X = np.ones(look_forward+1)*(i*10)\n",
    "    Y = all_pred[i][:, col]\n",
    "    plt.plot(X, Y)\n",
    "# plt.plot(trainPredictPlot[:,col])\n",
    "# plt.plot(testPredictPlot[:,col])\n",
    "# plt.title('Units = %d Dropout = %.2f Epoch = %d Split = %d%% Train = %.2f Test = %.2f' % \n",
    "# \t\t(units, drop, epoch, split*100, trainScore, testScore))\n",
    "plt.show()"
   ]
  },
  {
   "cell_type": "code",
   "execution_count": null,
   "metadata": {},
   "outputs": [],
   "source": []
  }
 ],
 "metadata": {
  "kernelspec": {
   "display_name": "Python 3",
   "language": "python",
   "name": "python3"
  },
  "language_info": {
   "codemirror_mode": {
    "name": "ipython",
    "version": 3
   },
   "file_extension": ".py",
   "mimetype": "text/x-python",
   "name": "python",
   "nbconvert_exporter": "python",
   "pygments_lexer": "ipython3",
   "version": "3.5.2"
  }
 },
 "nbformat": 4,
 "nbformat_minor": 2
}
