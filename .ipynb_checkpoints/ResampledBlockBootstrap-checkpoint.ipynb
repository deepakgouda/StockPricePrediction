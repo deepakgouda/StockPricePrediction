{
 "cells": [
  {
   "cell_type": "code",
   "execution_count": 1,
   "metadata": {},
   "outputs": [
    {
     "data": {
      "text/plain": [
       "'\\nCode to generate various confidence bands and find the best one \\nby comparing the sum of the lengths of confidence intervals at \\neach time step, standard deviation and the length of maximum interval.\\n'"
      ]
     },
     "execution_count": 1,
     "metadata": {},
     "output_type": "execute_result"
    }
   ],
   "source": [
    "'''\n",
    "Code to generate various confidence bands and find the best one \n",
    "by comparing the sum of the lengths of confidence intervals at \n",
    "each time step, standard deviation and the length of maximum interval.\n",
    "'''"
   ]
  },
  {
   "cell_type": "code",
   "execution_count": 2,
   "metadata": {},
   "outputs": [],
   "source": [
    "import numpy as np\n",
    "from numpy.random import randint\n",
    "from math import factorial, sqrt\n",
    "import matplotlib.pyplot as plt\n",
    "from pandas import read_csv"
   ]
  },
  {
   "cell_type": "code",
   "execution_count": 3,
   "metadata": {},
   "outputs": [
    {
     "name": "stderr",
     "output_type": "stream",
     "text": [
      "Using TensorFlow backend.\n"
     ]
    }
   ],
   "source": [
    "from keras.models import Sequential, load_model\n",
    "from keras.layers import Dense, Dropout\n",
    "from keras.layers import LSTM\n",
    "from sklearn.preprocessing import MinMaxScaler\n",
    "from sklearn.metrics import mean_squared_error\n",
    "from keras.callbacks import TensorBoard"
   ]
  },
  {
   "cell_type": "code",
   "execution_count": 4,
   "metadata": {},
   "outputs": [],
   "source": [
    "from time import time\n",
    "import itertools"
   ]
  },
  {
   "cell_type": "code",
   "execution_count": 5,
   "metadata": {},
   "outputs": [],
   "source": [
    "# Generate X and Y pairs where dim of X = (1, look_back)\n",
    "def create_dataset(dataset, look_back = 1):\n",
    "    dataX, dataY = [], []\n",
    "    for i in range(len(dataset)-look_back-1):\n",
    "        a = dataset[i:(i+look_back), :]\n",
    "        dataX.append(a)\n",
    "        dataY.append(dataset[i + look_back, :])\n",
    "    return np.array(dataX), np.array(dataY)"
   ]
  },
  {
   "cell_type": "code",
   "execution_count": 6,
   "metadata": {},
   "outputs": [],
   "source": [
    "# Arrange blocks of data according to permutation\n",
    "def arrange_data(data, perm):\n",
    "    arranged_data = []\n",
    "    for i in perm:\n",
    "        arranged_data.append(data[i])\n",
    "    return arranged_data"
   ]
  },
  {
   "cell_type": "code",
   "execution_count": 7,
   "metadata": {},
   "outputs": [],
   "source": [
    "def data_resample(data, blockSize, overlap = 0):\n",
    "    n = len(data) # 100\n",
    "    numBlocks = n//blockSize # 20\n",
    "    data = data[: numBlocks*blockSize]    \n",
    "    resampled_data = []\n",
    "    for i in range(numBlocks):\n",
    "        x = data[i*blockSize: (i+1)*blockSize]\n",
    "        indx = randint(0, blockSize, size = blockSize)\n",
    "        y = [x[j] for j in indx]\n",
    "        resampled_data.append(y)\n",
    "    return resampled_data"
   ]
  },
  {
   "cell_type": "code",
   "execution_count": 8,
   "metadata": {},
   "outputs": [],
   "source": [
    "def block_resample(data, blockSize, overlap = 0):\n",
    "    n = len(data) # 100\n",
    "    numBlocks = (n-overlap)//(blockSize-overlap) # 20\n",
    "#     data = data[: numBlocks*blockSize]\n",
    "    x = []\n",
    "    resampled_data = []\n",
    "#     for i in range(numBlocks):\n",
    "#         if (i+1)*blockSize >= len(data):\n",
    "#             break\n",
    "    i = 0\n",
    "    while i < len(data):\n",
    "        x.append(data[i: (i+blockSize)])\n",
    "        i = i + blockSize - overlap\n",
    "    resampled_data = x\n",
    "#     indx = randint(0, numBlocks, size = numBlocks)\n",
    "#     resampled_data = [x[j] for j in indx]\n",
    "    return resampled_data"
   ]
  },
  {
   "cell_type": "code",
   "execution_count": 9,
   "metadata": {},
   "outputs": [
    {
     "name": "stdout",
     "output_type": "stream",
     "text": [
      "       open     close\n",
      "0  390.4551  393.0777\n",
      "1  389.5892  391.6012\n",
      "2  391.2659  390.7403\n",
      "3  390.4551  391.8214\n",
      "4  390.2549  394.3039\n",
      "(1259, 2)\n"
     ]
    }
   ],
   "source": [
    "fields = ['open', 'close']\n",
    "dataframe = read_csv('GOOGL_data.csv', skipinitialspace = True, squeeze = True, usecols = fields)\n",
    "\n",
    "print(dataframe.head())\n",
    "data = np.array(dataframe)\n",
    "print(data.shape)"
   ]
  },
  {
   "cell_type": "code",
   "execution_count": 12,
   "metadata": {},
   "outputs": [
    {
     "data": {
      "text/plain": [
       "[array([4, 5, 6, 7]),\n",
       " array([4, 5, 6, 7]),\n",
       " array([ 7,  8,  9, 10]),\n",
       " array([ 7,  8,  9, 10]),\n",
       " array([1, 2, 3, 4])]"
      ]
     },
     "execution_count": 12,
     "metadata": {},
     "output_type": "execute_result"
    }
   ],
   "source": [
    "x = np.array(range(16))+1\n",
    "block_resample(x, 4, 1)"
   ]
  },
  {
   "cell_type": "code",
   "execution_count": 80,
   "metadata": {},
   "outputs": [],
   "source": [
    "# resample = bootstrap_resample(data, 5)\n",
    "\n",
    "# resample\n",
    "\n",
    "# resample[1]\n",
    "\n",
    "# arrange = arrange_data(resample, [1, 0])\n",
    "\n",
    "# arrange[0]"
   ]
  },
  {
   "cell_type": "code",
   "execution_count": 81,
   "metadata": {},
   "outputs": [
    {
     "name": "stdout",
     "output_type": "stream",
     "text": [
      "[[0.00683718 0.01210825]\n",
      " [0.0057589  0.01027231]\n",
      " [0.00784685 0.00920184]\n",
      " [0.00683718 0.01054612]\n",
      " [0.00658788 0.01363296]]\n"
     ]
    }
   ],
   "source": [
    "# Scale between (0, 1)\n",
    "scaler = MinMaxScaler(feature_range=(0, 1))\n",
    "data = scaler.fit_transform(data)\n",
    "print(data[:5])"
   ]
  },
  {
   "cell_type": "code",
   "execution_count": 82,
   "metadata": {},
   "outputs": [
    {
     "name": "stdout",
     "output_type": "stream",
     "text": [
      "906\n",
      "353\n"
     ]
    }
   ],
   "source": [
    "split = 0.72\n",
    "trainSize = int(len(data)*split)\n",
    "testSize = len(data)-trainSize\n",
    "print(trainSize)\n",
    "print(testSize)"
   ]
  },
  {
   "cell_type": "code",
   "execution_count": 83,
   "metadata": {},
   "outputs": [
    {
     "name": "stdout",
     "output_type": "stream",
     "text": [
      "[[0.00683718 0.01210825]\n",
      " [0.0057589  0.01027231]\n",
      " [0.00784685 0.00920184]\n",
      " [0.00683718 0.01054612]\n",
      " [0.00658788 0.01363296]]\n"
     ]
    }
   ],
   "source": [
    "train = data[0:trainSize,:]\n",
    "test = data[trainSize:len(data),:]\n",
    "print(train[:5])"
   ]
  },
  {
   "cell_type": "code",
   "execution_count": 84,
   "metadata": {},
   "outputs": [],
   "source": [
    "# l = block size\n",
    "numBlocks = 4\n",
    "blockSize = len(train)//numBlocks\n",
    "# print(blockSize)"
   ]
  },
  {
   "cell_type": "code",
   "execution_count": 85,
   "metadata": {},
   "outputs": [
    {
     "data": {
      "text/plain": [
       "226"
      ]
     },
     "execution_count": 85,
     "metadata": {},
     "output_type": "execute_result"
    }
   ],
   "source": [
    "blockSize"
   ]
  },
  {
   "cell_type": "code",
   "execution_count": 86,
   "metadata": {},
   "outputs": [
    {
     "data": {
      "text/plain": [
       "array([[1, 2],\n",
       "       [2, 3],\n",
       "       [3, 4]])"
      ]
     },
     "execution_count": 86,
     "metadata": {},
     "output_type": "execute_result"
    }
   ],
   "source": [
    "A = np.array([[[1, 2]], [[2, 3]], [[3, 4]]])\n",
    "B = np.reshape(A, (A.shape[0]*A.shape[1], A.shape[2]))\n",
    "B"
   ]
  },
  {
   "cell_type": "code",
   "execution_count": 87,
   "metadata": {},
   "outputs": [],
   "source": [
    "# Generate all permutations of the series 0, 1, 2, ... numBlocks\n",
    "permutations = itertools.permutations(range(numBlocks))\n",
    "testBand = []\n",
    "count = 1"
   ]
  },
  {
   "cell_type": "code",
   "execution_count": 88,
   "metadata": {},
   "outputs": [
    {
     "name": "stdout",
     "output_type": "stream",
     "text": [
      "Count = 1/24\n",
      "Train Score: 50.04 RMSE\n",
      "Test Score: 14.24 RMSE\n",
      "Count = 2/24\n",
      "Train Score: 50.46 RMSE\n",
      "Test Score: 14.24 RMSE\n",
      "Count = 3/24\n",
      "Train Score: 49.44 RMSE\n",
      "Test Score: 14.24 RMSE\n",
      "Count = 4/24\n",
      "Train Score: 49.63 RMSE\n",
      "Test Score: 14.24 RMSE\n",
      "Count = 5/24\n",
      "Train Score: 50.81 RMSE\n",
      "Test Score: 14.24 RMSE\n",
      "Count = 6/24\n",
      "Train Score: 51.64 RMSE\n",
      "Test Score: 14.24 RMSE\n",
      "Count = 7/24\n",
      "Train Score: 52.31 RMSE\n",
      "Test Score: 14.24 RMSE\n",
      "Count = 8/24\n",
      "Train Score: 52.10 RMSE\n",
      "Test Score: 14.24 RMSE\n",
      "Count = 9/24\n",
      "Train Score: 51.38 RMSE\n",
      "Test Score: 14.24 RMSE\n",
      "Count = 10/24\n",
      "Train Score: 50.62 RMSE\n",
      "Test Score: 14.24 RMSE\n",
      "Count = 11/24\n",
      "Train Score: 51.40 RMSE\n",
      "Test Score: 14.24 RMSE\n",
      "Count = 12/24\n",
      "Train Score: 50.82 RMSE\n",
      "Test Score: 14.24 RMSE\n",
      "Count = 13/24\n",
      "Train Score: 50.35 RMSE\n",
      "Test Score: 14.24 RMSE\n",
      "Count = 14/24\n",
      "Train Score: 49.02 RMSE\n",
      "Test Score: 14.24 RMSE\n",
      "Count = 15/24\n",
      "Train Score: 48.04 RMSE\n",
      "Test Score: 14.24 RMSE\n",
      "Count = 16/24\n",
      "Train Score: 49.82 RMSE\n",
      "Test Score: 14.24 RMSE\n",
      "Count = 17/24\n",
      "Train Score: 50.28 RMSE\n",
      "Test Score: 14.24 RMSE\n",
      "Count = 18/24\n",
      "Train Score: 50.14 RMSE\n",
      "Test Score: 14.24 RMSE\n",
      "Count = 19/24\n",
      "Train Score: 50.80 RMSE\n",
      "Test Score: 14.24 RMSE\n",
      "Count = 20/24\n",
      "Train Score: 50.85 RMSE\n",
      "Test Score: 14.24 RMSE\n",
      "Count = 21/24\n",
      "Train Score: 48.34 RMSE\n",
      "Test Score: 14.24 RMSE\n",
      "Count = 22/24\n",
      "Train Score: 49.16 RMSE\n",
      "Test Score: 14.24 RMSE\n",
      "Count = 23/24\n",
      "Train Score: 48.39 RMSE\n",
      "Test Score: 14.24 RMSE\n",
      "Count = 24/24\n",
      "Train Score: 48.15 RMSE\n",
      "Test Score: 14.24 RMSE\n"
     ]
    }
   ],
   "source": [
    "totalCount = factorial(numBlocks)\n",
    "for perm in permutations:\n",
    "    print(\"Count = %d/%d\" % (count, totalCount))\n",
    "    count += 1\n",
    "    trainResample = bootstrap_resample(train, blockSize)\n",
    "    trainSet = np.array(arrange_data(trainResample, perm))\n",
    "#     trainSet = np.reshape(trainSet, trainSet.shape)\n",
    "    trainSet = np.reshape(trainSet, (trainSet.shape[0]*trainSet.shape[1], trainSet.shape[2]))\n",
    "\n",
    "    shuffleData = np.vstack((trainSet, test))\n",
    "\n",
    "    lookBack = 3\n",
    "    trainX, trainY = create_dataset(trainSet, lookBack)\n",
    "    testX, testY = create_dataset(test, lookBack)\n",
    "\n",
    "    # trainX = np.reshape(trainX, (trainX.shape[0], 2, trainX.shape[1]))\n",
    "    # testX = np.reshape(testX, (testX.shape[0], 2, testX.shape[1]))\n",
    "\n",
    "    units = 100\n",
    "    drop = 0.2\n",
    "    epoch = 5\n",
    "\n",
    "    model = load_model(\"./Models/ResampledBlockBootstrap/\"+str(numBlocks)+\"_\"+str(epoch)+\".h5\")\n",
    "    \n",
    "#     model = Sequential()\n",
    "#     model.add(LSTM(units, input_shape=(lookBack, 2)))\n",
    "#     model.add(Dense(2))\n",
    "#     model.compile(loss='mean_squared_error', optimizer='nadam')\n",
    "# #     Tensorboard\n",
    "# #     model.summary()\n",
    "# #     tensorboard = TensorBoard(log_dir=\"logs/{}\".format(time()))\n",
    "# #     model.fit(trainX, trainY, epochs=epoch, batch_size=1, verbose=1, callbacks=[tensorboard])\n",
    "#     model.fit(trainX, trainY, epochs=epoch, batch_size=1, verbose=1)\n",
    "\n",
    "    trainPredict = model.predict(trainX)\n",
    "    testPredict = model.predict(testX)\n",
    "\n",
    "#     Inverse the scaling\n",
    "    trainPredict = scaler.inverse_transform(trainPredict)\n",
    "    trainY = scaler.inverse_transform(trainY)\n",
    "    testPredict = scaler.inverse_transform(testPredict)\n",
    "    testY = scaler.inverse_transform(testY)\n",
    "\n",
    "#     RMSE score\n",
    "    trainScore = sqrt(mean_squared_error(trainY, trainPredict))\n",
    "    print('Train Score: %.2f RMSE' % (trainScore))\n",
    "    testScore = sqrt(mean_squared_error(testY, testPredict))\n",
    "    print('Test Score: %.2f RMSE' % (testScore))\n",
    "\n",
    "#     Plot training data\n",
    "#     trainPredictPlot = np.empty_like(shuffleData)\n",
    "#     trainPredictPlot[:, :] = np.nan\n",
    "#     trainPredictPlot[lookBack:len(trainPredict)+lookBack, :] = trainPredict\n",
    "    \n",
    "#     Plot test data\n",
    "#     testPredictPlot = np.empty_like(shuffleData)\n",
    "#     testPredictPlot[:, :] = np.nan\n",
    "#     testPredictPlot[len(trainPredict)+(lookBack*2)+1:len(data)-1, :] = testPredict\n",
    "    \n",
    "#     Append results to calculate the test band\n",
    "    testBand.append(testPredict)\n",
    "#     plt.plot(scaler.inverse_transform(shuffleData)[:,col])\n",
    "#     plt.plot(trainPredictPlot[:,col], color = 'orange')\n",
    "#     plt.plot(testPredictPlot[:,col], color = 'green')"
   ]
  },
  {
   "cell_type": "code",
   "execution_count": 100,
   "metadata": {},
   "outputs": [],
   "source": [
    "model.save(\"./Models/ResampledBlockBootstrap/\"+str(numBlocks)+\"_\"+str(epoch)+\".h5\")"
   ]
  },
  {
   "cell_type": "code",
   "execution_count": 101,
   "metadata": {},
   "outputs": [
    {
     "data": {
      "text/plain": [
       "Text(0.5,1,'Epoch = 5 Train = 48.15 Test = 14.24')"
      ]
     },
     "execution_count": 101,
     "metadata": {},
     "output_type": "execute_result"
    },
    {
     "data": {
      "image/png": "[encoded data removed]",
      "text/plain": [
       "<Figure size 432x288 with 1 Axes>"
      ]
     },
     "metadata": {},
     "output_type": "display_data"
    }
   ],
   "source": [
    "col = 0\n",
    "testPlot = np.empty_like(trainSet)\n",
    "testPlot[:, :] = 0\n",
    "testPlot = np.vstack((testPlot, test))\n",
    "testplot = scaler.inverse_transform(testPlot)\n",
    "plt.plot(testPlot[:,col], color = 'blue')\n",
    "plt.title('Epoch = %d Train = %.2f Test = %.2f' % (epoch, trainScore, testScore))"
   ]
  },
  {
   "cell_type": "code",
   "execution_count": 102,
   "metadata": {},
   "outputs": [],
   "source": [
    "testBand = np.array(testBand)\n",
    "testBand = np.reshape(testBand, (testBand.shape))"
   ]
  },
  {
   "cell_type": "code",
   "execution_count": 103,
   "metadata": {},
   "outputs": [
    {
     "data": {
      "text/plain": [
       "(24, 349, 2)"
      ]
     },
     "execution_count": 103,
     "metadata": {},
     "output_type": "execute_result"
    }
   ],
   "source": [
    "testBand.shape"
   ]
  },
  {
   "cell_type": "code",
   "execution_count": 104,
   "metadata": {},
   "outputs": [
    {
     "name": "stdout",
     "output_type": "stream",
     "text": [
      "[785.4777  791.77216]\n",
      "[6.1035156e-05 1.2207031e-04]\n"
     ]
    }
   ],
   "source": [
    "print(np.mean(testBand[:,0,:], axis = 0))\n",
    "print(np.std(testBand[:,0,:], axis = 0))"
   ]
  },
  {
   "cell_type": "code",
   "execution_count": 105,
   "metadata": {},
   "outputs": [],
   "source": [
    "z_alpha = 1.96\n",
    "n = factorial(numBlocks)\n",
    "\n",
    "confInterval = []\n",
    "\n",
    "# Calculate the 95% confidence interval for each time step\n",
    "for i in range(testBand.shape[1]):\n",
    "    X = testBand[:, i, :]\n",
    "    xBar = np.mean(X, axis = 0)\n",
    "    s = np.std(X, axis = 0)\n",
    "    l = xBar - 1.96*s/(n**0,.5)\n",
    "    r = xBar + 1.96*s/(n**0,.5)\n",
    "    pair = [l, r]\n",
    "    confInterval.append(pair)"
   ]
  },
  {
   "cell_type": "code",
   "execution_count": 111,
   "metadata": {},
   "outputs": [
    {
     "data": {
      "image/png": "[encoded data removed]",
      "text/plain": [
       "<Figure size 432x288 with 1 Axes>"
      ]
     },
     "metadata": {},
     "output_type": "display_data"
    }
   ],
   "source": [
    "col = 0\n",
    "offset = len(trainPredict)+(lookBack*2)+2\n",
    "lower = []\n",
    "upper = []\n",
    "\n",
    "# Get upper and lower bounds\n",
    "for i in range(len(confInterval)):\n",
    "    lower.append(confInterval[i][0][0])\n",
    "    upper.append(confInterval[i][1][0])\n",
    "\n",
    "# XLower = np.array(range(offset+1, offset+1+testBand.shape[1]))\n",
    "# XUpper = np.array(range(offset+1, offset+1+testBand.shape[1]))\n",
    "# plt.plot(XLower, lower)\n",
    "# plt.plot(XUpper, upper)\n",
    "plt.plot(lower, color = 'green')\n",
    "plt.plot(upper, color = 'orange')\n",
    "plt.plot(scaler.inverse_transform(test)[:, col], color = 'blue')\n",
    "plt.title('NumBlocks=%d Epochs=%d Train=%.2f Test=%.2f' % (numBlocks, epoch, trainScore, testScore))\n",
    "plt.savefig(\"./Plots/ResampledBlockBootstrap/\"+str(numBlocks)+\"_\"+str(epoch)+\".png\")\n",
    "plt.show()"
   ]
  },
  {
   "cell_type": "code",
   "execution_count": 109,
   "metadata": {},
   "outputs": [
    {
     "data": {
      "text/plain": [
       "[785.4778417968773,\n",
       " 788.3676708984422,\n",
       " 789.7247241211007,\n",
       " 791.5151928710984,\n",
       " 796.8515625,\n",
       " 802.280517578125,\n",
       " 802.7431005859398,\n",
       " 800.1484936523484,\n",
       " 797.8482592773507,\n",
       " 797.3001074218773,\n",
       " 796.3068212890648,\n",
       " 794.3637036132859,\n",
       " 793.9995678710984,\n",
       " 794.0762304687523,\n",
       " 794.7150244140648,\n",
       " 794.491455078125,\n",
       " 796.6066284179688,\n",
       " 799.6426342773484,\n",
       " 802.4404858398484,\n",
       " 800.8093164062593,\n",
       " 798.5510815429734,\n",
       " 797.0435717773507,\n",
       " 801.6858447265695,\n",
       " 809.0215429687523,\n",
       " 814.9453686523484,\n",
       " 816.004638671875,\n",
       " 818.6355590820312,\n",
       " 822.0820922851562,\n",
       " 822.3446020507836,\n",
       " 817.5190991210984,\n",
       " 814.7460327148438,\n",
       " 812.0092138671898,\n",
       " 807.2976684570312,\n",
       " 797.7521875000093,\n",
       " 786.3175659179688,\n",
       " 775.3419750976609,\n",
       " 776.4297436523484,\n",
       " 785.9042358398438,\n",
       " 794.6113232421922,\n",
       " 792.41015625,\n",
       " 780.7055004882859,\n",
       " 765.8463061523507,\n",
       " 758.1947583007859,\n",
       " 759.5419921875,\n",
       " 767.0477880859398,\n",
       " 770.7981542968773,\n",
       " 772.5352124023484,\n",
       " 773.6004028320312,\n",
       " 774.6062622070312,\n",
       " 774.2279638671898,\n",
       " 772.7037280273507,\n",
       " 774.5697607421898,\n",
       " 774.8926367187523,\n",
       " 770.4062451171922,\n",
       " 761.4415209961007,\n",
       " 759.0628002929734,\n",
       " 762.1668066406273,\n",
       " 769.8184741211007,\n",
       " 776.8718847656273,\n",
       " 786.1035742187523,\n",
       " 793.2062377929688,\n",
       " 799.7389526367188,\n",
       " 804.2579272461007,\n",
       " 807.4800366210984,\n",
       " 807.2606787109398,\n",
       " 805.1522827148438,\n",
       " 804.467529296875,\n",
       " 804.6495971679688,\n",
       " 803.9135107421898,\n",
       " 801.5409545898438,\n",
       " 800.1276757812593,\n",
       " 799.9761279296945,\n",
       " 798.0294750976609,\n",
       " 793.6842651367188,\n",
       " 792.4514062500093,\n",
       " 795.0861157226609,\n",
       " 799.3555249023484,\n",
       " 804.873466796882,\n",
       " 811.3972778320312,\n",
       " 816.746513671882,\n",
       " 819.2870483398438,\n",
       " 820.118408203125,\n",
       " 821.6113867187523,\n",
       " 821.7443188476609,\n",
       " 821.742919921875,\n",
       " 820.3060888671898,\n",
       " 820.1968334960984,\n",
       " 823.6719311523484,\n",
       " 831.4882202148438,\n",
       " 840.990234375,\n",
       " 847.631279296882,\n",
       " 848.3816503906273,\n",
       " 838.8660864257836,\n",
       " 825.1917016601656,\n",
       " 814.5664648437523,\n",
       " 810.3405664062593,\n",
       " 810.9065502929734,\n",
       " 811.8224462890648,\n",
       " 815.4226660156273,\n",
       " 818.6360473632812,\n",
       " 821.767753906257,\n",
       " 823.987548828125,\n",
       " 826.9448779296945,\n",
       " 830.0932568359422,\n",
       " 831.3330029296922,\n",
       " 831.9714257812593,\n",
       " 833.6231054687523,\n",
       " 837.3401416015695,\n",
       " 840.5884326171945,\n",
       " 842.8483789062593,\n",
       " 842.4775341796922,\n",
       " 841.5248388671898,\n",
       " 839.8933691406273,\n",
       " 842.232421875,\n",
       " 844.4219360351562,\n",
       " 844.9944360351656,\n",
       " 842.4644091796945,\n",
       " 841.3353247070336,\n",
       " 843.0471093750093,\n",
       " 846.165283203125,\n",
       " 850.530517578125,\n",
       " 853.904296875,\n",
       " 856.7999194336007,\n",
       " 858.9826025390648,\n",
       " 861.6100976562593,\n",
       " 864.3755419921945,\n",
       " 864.4844360351562,\n",
       " 860.354248046875,\n",
       " 852.1708935546922,\n",
       " 842.3939184570336,\n",
       " 835.0699389648507,\n",
       " 829.861503906257,\n",
       " 829.7189282226609,\n",
       " 833.0197119140648,\n",
       " 838.904296875,\n",
       " 841.2030639648438,\n",
       " 843.2678125000093,\n",
       " 843.4342553711031,\n",
       " 844.55078125,\n",
       " 842.7063598632812,\n",
       " 840.1001513671945,\n",
       " 836.6773022460984,\n",
       " 834.5189794921898,\n",
       " 833.3798168945359,\n",
       " 833.0267919921898,\n",
       " 835.9397509765695,\n",
       " 840.7762426757836,\n",
       " 846.2352270507836,\n",
       " 850.1654028320336,\n",
       " 852.3265942382859,\n",
       " 858.3012036132859,\n",
       " 867.8148754882859,\n",
       " 878.0608471679734,\n",
       " 883.5339257812593,\n",
       " 897.9365185546922,\n",
       " 912.3765209960984,\n",
       " 926.1404321289156,\n",
       " 931.7910766601562,\n",
       " 939.9965161132859,\n",
       " 946.0861157226609,\n",
       " 949.4708837890648,\n",
       " 951.5885522461031,\n",
       " 952.423027343757,\n",
       " 952.247734375007,\n",
       " 951.4819921875023,\n",
       " 952.3159741210984,\n",
       " 955.8580908203148,\n",
       " 953.6974438476609,\n",
       " 949.5920947265695,\n",
       " 946.6724243164062,\n",
       " 950.5471704101656,\n",
       " 958.4768579101656,\n",
       " 966.2564672851586,\n",
       " 974.701347656257,\n",
       " 982.2754516601562,\n",
       " 988.1343334960984,\n",
       " 989.7178271484445,\n",
       " 988.5328930664109,\n",
       " 988.1110791015672,\n",
       " 991.5864794921945,\n",
       " 995.0337451171945,\n",
       " 997.3087719726609,\n",
       " 998.534843750007,\n",
       " 993.8124267578241,\n",
       " 979.5516918945359,\n",
       " 968.5823291015695,\n",
       " 964.7227172851562,\n",
       " 962.0869677734445,\n",
       " 957.1406811523484,\n",
       " 958.5730566406273,\n",
       " 964.7728857421898,\n",
       " 969.8570532226586,\n",
       " 971.3816406250116,\n",
       " 974.4513525390648,\n",
       " 976.2933837890741,\n",
       " 968.2109985351562,\n",
       " 959.232841796882,\n",
       " 947.7371093750116,\n",
       " 941.007988281257,\n",
       " 930.987968750007,\n",
       " 925.7329638671945,\n",
       " 922.722343750007,\n",
       " 926.1101562500116,\n",
       " 932.9058178710984,\n",
       " 941.588310546882,\n",
       " 951.1331127929734,\n",
       " 959.1661962890648,\n",
       " 966.8363598632859,\n",
       " 970.7481079101562,\n",
       " 974.2515844726586,\n",
       " 979.8303735351656,\n",
       " 986.127373046882,\n",
       " 989.5100610351656,\n",
       " 990.9973632812616,\n",
       " 982.4727148437523,\n",
       " 973.8013232421945,\n",
       " 962.6987866210984,\n",
       " 956.9858959960984,\n",
       " 951.3940991210984,\n",
       " 947.0967333984445,\n",
       " 945.2175878906273,\n",
       " 942.6397021484445,\n",
       " 941.8051025390741,\n",
       " 941.514091796882,\n",
       " 941.3993481445359,\n",
       " 939.2826513671898,\n",
       " 933.0162866211031,\n",
       " 927.1244482421898,\n",
       " 927.5750073242234,\n",
       " 931.5535229492234,\n",
       " 936.528984375007,\n",
       " 935.0218994140741,\n",
       " 930.1747387695359,\n",
       " 923.5283740234445,\n",
       " 923.6703369140741,\n",
       " 928.75390625,\n",
       " 934.1303100585938,\n",
       " 934.0641430664109,\n",
       " 930.473076171882,\n",
       " 926.5601147460984,\n",
       " 928.5606054687523,\n",
       " 936.306328125007,\n",
       " 945.1389672851656,\n",
       " 946.0519311523531,\n",
       " 942.869316406257,\n",
       " 940.880546875007,\n",
       " 941.3881201171898,\n",
       " 941.9260815429734,\n",
       " 941.9448779296945,\n",
       " 942.9512329101562,\n",
       " 942.0038452148438,\n",
       " 938.5789160156273,\n",
       " 933.2031860351562,\n",
       " 930.7265014648438,\n",
       " 932.9890625000116,\n",
       " 938.3837231445359,\n",
       " 940.7893627929734,\n",
       " 938.2471240234445,\n",
       " 934.6440966796945,\n",
       " 938.2068383789156,\n",
       " 946.8530834960984,\n",
       " 957.7722753906273,\n",
       " 964.2920458984445,\n",
       " 967.1107763671898,\n",
       " 966.679375000007,\n",
       " 969.6160229492234,\n",
       " 975.9001416015672,\n",
       " 983.8738281250116,\n",
       " 987.7578735351562,\n",
       " 991.26953125,\n",
       " 995.314628906257,\n",
       " 1000.9531811523484,\n",
       " 1004.7643994140672,\n",
       " 1006.1677197265672,\n",
       " 1007.2988867187523,\n",
       " 1005.1101562500116,\n",
       " 1003.7090454101562,\n",
       " 998.2109375,\n",
       " 992.5317919921945,\n",
       " 987.1487329101656,\n",
       " 987.4189990234445,\n",
       " 1003.2461499023484,\n",
       " 1018.2106884765672,\n",
       " 1029.1911572265672,\n",
       " 1031.8375195312547,\n",
       " 1035.3729150390718,\n",
       " 1039.6988476562547,\n",
       " 1041.6852978515672,\n",
       " 1044.7488964843797,\n",
       " 1047.6292675781297,\n",
       " 1047.964951171889,\n",
       " 1045.2457226562547,\n",
       " 1041.0047558593797,\n",
       " 1038.4200390625047,\n",
       " 1035.6890820312547,\n",
       " 1036.7486474609468,\n",
       " 1037.8942822265672,\n",
       " 1037.320908203139,\n",
       " 1038.0,\n",
       " 1041.5682373046875,\n",
       " 1048.0081689453218,\n",
       " 1054.7614697265672,\n",
       " 1060.2576806640718,\n",
       " 1056.4378613281297,\n",
       " 1046.6817578125047,\n",
       " 1033.7860058593797,\n",
       " 1024.707871093764,\n",
       " 1017.5689672851586,\n",
       " 1017.1345166015672,\n",
       " 1024.6973828125047,\n",
       " 1036.433701171889,\n",
       " 1044.8870751953218,\n",
       " 1047.3620556640672,\n",
       " 1047.683701171889,\n",
       " 1049.587890625,\n",
       " 1056.0030419921968,\n",
       " 1065.8968408203218,\n",
       " 1073.7321728515672,\n",
       " 1076.0142724609468,\n",
       " 1073.2908837890718,\n",
       " 1069.450058593764,\n",
       " 1066.2379101562547,\n",
       " 1063.0450439453125,\n",
       " 1059.555283203139,\n",
       " 1055.3776806640672,\n",
       " 1055.8441064453218,\n",
       " 1064.48828125,\n",
       " 1078.3565576171968,\n",
       " 1092.2256982421968,\n",
       " 1101.5711621093797,\n",
       " 1107.3499658203218,\n",
       " 1107.6397607421968,\n",
       " 1107.2408349609468,\n",
       " 1109.63671875,\n",
       " 1118.2659814453218,\n",
       " 1126.5181787109468,\n",
       " 1131.2774658203125,\n",
       " 1133.0352783203125,\n",
       " 1138.7734375,\n",
       " 1150.490234375,\n",
       " 1161.818359375,\n",
       " 1169.7425439453218,\n",
       " 1174.1309814453125,\n",
       " 1176.9404199218843,\n",
       " 1175.2501171875047,\n",
       " 1173.7540185546968,\n",
       " 1171.7032470703125,\n",
       " 1153.065292968764,\n",
       " 1118.5621289062547]"
      ]
     },
     "execution_count": 109,
     "metadata": {},
     "output_type": "execute_result"
    }
   ],
   "source": [
    "upper"
   ]
  },
  {
   "cell_type": "code",
   "execution_count": 96,
   "metadata": {},
   "outputs": [],
   "source": [
    "# Sum of the lengths of the confidence intervals at each time point.\n",
    "sumIntervals = np.sum(abs(np.array(upper) - np.array(lower)))"
   ]
  },
  {
   "cell_type": "code",
   "execution_count": 97,
   "metadata": {},
   "outputs": [
    {
     "data": {
      "text/plain": [
       "0.17130859708413482"
      ]
     },
     "execution_count": 97,
     "metadata": {},
     "output_type": "execute_result"
    }
   ],
   "source": [
    "sumIntervals"
   ]
  },
  {
   "cell_type": "code",
   "execution_count": 98,
   "metadata": {},
   "outputs": [],
   "source": [
    "# Length of maximum interval\n",
    "maxInterval = np.max(np.array(upper) - np.array(lower))"
   ]
  },
  {
   "cell_type": "code",
   "execution_count": 99,
   "metadata": {},
   "outputs": [
    {
     "data": {
      "text/plain": [
       "0.0014355469029396772"
      ]
     },
     "execution_count": 99,
     "metadata": {},
     "output_type": "execute_result"
    }
   ],
   "source": [
    "maxInterval"
   ]
  },
  {
   "cell_type": "code",
   "execution_count": null,
   "metadata": {},
   "outputs": [],
   "source": []
  }
 ],
 "metadata": {
  "kernelspec": {
   "display_name": "Python 3",
   "language": "python",
   "name": "python3"
  },
  "language_info": {
   "codemirror_mode": {
    "name": "ipython",
    "version": 3
   },
   "file_extension": ".py",
   "mimetype": "text/x-python",
   "name": "python",
   "nbconvert_exporter": "python",
   "pygments_lexer": "ipython3",
   "version": "3.5.2"
  }
 },
 "nbformat": 4,
 "nbformat_minor": 2
}
