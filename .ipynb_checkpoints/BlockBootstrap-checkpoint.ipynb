{
 "cells": [
  {
   "cell_type": "code",
   "execution_count": 19,
   "metadata": {},
   "outputs": [],
   "source": [
    "import numpy as np\n",
    "import math\n",
    "import matplotlib.pyplot as plt\n",
    "from pandas import read_csv\n",
    "from keras.models import Sequential\n",
    "from keras.layers import Dense, Dropout\n",
    "from keras.layers import LSTM\n",
    "from sklearn.preprocessing import MinMaxScaler\n",
    "from sklearn.metrics import mean_squared_error\n",
    "from keras.callbacks import TensorBoard\n",
    "from time import time\n",
    "import itertools\n",
    "from math import factorial"
   ]
  },
  {
   "cell_type": "code",
   "execution_count": 20,
   "metadata": {},
   "outputs": [],
   "source": [
    "def create_dataset(dataset, look_back = 1):\n",
    "    dataX, dataY = [], []\n",
    "    for i in range(len(dataset)-look_back-1):\n",
    "        a = dataset[i:(i+look_back), :]\n",
    "        dataX.append(a)\n",
    "        dataY.append(dataset[i + look_back, :])\n",
    "    return np.array(dataX), np.array(dataY)"
   ]
  },
  {
   "cell_type": "code",
   "execution_count": 21,
   "metadata": {},
   "outputs": [],
   "source": [
    "def generateData(data, perm):\n",
    "    n = data.shape[0]\n",
    "    blockSize = n // len(perm)\n",
    "    dataSet = np.zeros(data[0].shape)\n",
    "    for i in perm:\n",
    "        block = data[i*blockSize:(i+1)*blockSize]\n",
    "#         print(block, end='\\n\\n')\n",
    "        dataSet = np.vstack((dataSet, block))\n",
    "    dataSet = dataSet[1:]\n",
    "    return dataSet"
   ]
  },
  {
   "cell_type": "code",
   "execution_count": 22,
   "metadata": {},
   "outputs": [
    {
     "name": "stdout",
     "output_type": "stream",
     "text": [
      "       open     close\n",
      "0  390.4551  393.0777\n",
      "1  389.5892  391.6012\n",
      "2  391.2659  390.7403\n",
      "3  390.4551  391.8214\n",
      "4  390.2549  394.3039\n",
      "(1259, 2)\n"
     ]
    }
   ],
   "source": [
    "# dataframe = read_csv('sp500.csv')\n",
    "fields = ['open', 'close']\n",
    "dataframe = read_csv('GOOGL_data.csv', skipinitialspace = True, squeeze = True, usecols = fields)\n",
    "\n",
    "print(dataframe.head())\n",
    "data = np.array(dataframe)\n",
    "print(data.shape)"
   ]
  },
  {
   "cell_type": "code",
   "execution_count": 23,
   "metadata": {},
   "outputs": [
    {
     "name": "stdout",
     "output_type": "stream",
     "text": [
      "[[0.00683718 0.01210825]\n",
      " [0.0057589  0.01027231]\n",
      " [0.00784685 0.00920184]\n",
      " [0.00683718 0.01054612]\n",
      " [0.00658788 0.01363296]]\n"
     ]
    }
   ],
   "source": [
    "# dataset = dataset.astype('float32')\n",
    "\n",
    "scaler = MinMaxScaler(feature_range=(0, 1))\n",
    "data = scaler.fit_transform(data)\n",
    "print(data[:5])"
   ]
  },
  {
   "cell_type": "code",
   "execution_count": 24,
   "metadata": {},
   "outputs": [
    {
     "name": "stdout",
     "output_type": "stream",
     "text": [
      "906\n",
      "353\n"
     ]
    }
   ],
   "source": [
    "split = 0.72\n",
    "trainSize = int(len(data)*split)\n",
    "testSize = len(data)-trainSize\n",
    "print(trainSize)\n",
    "print(testSize)"
   ]
  },
  {
   "cell_type": "code",
   "execution_count": 25,
   "metadata": {},
   "outputs": [
    {
     "name": "stdout",
     "output_type": "stream",
     "text": [
      "302\n"
     ]
    }
   ],
   "source": [
    "numInterval = 3\n",
    "blockSize = trainSize//numInterval\n",
    "print(blockSize)\n"
   ]
  },
  {
   "cell_type": "code",
   "execution_count": 26,
   "metadata": {},
   "outputs": [
    {
     "name": "stdout",
     "output_type": "stream",
     "text": [
      "[[0.00683718 0.01210825]\n",
      " [0.0057589  0.01027231]\n",
      " [0.00784685 0.00920184]\n",
      " [0.00683718 0.01054612]\n",
      " [0.00658788 0.01363296]]\n"
     ]
    }
   ],
   "source": [
    "    train = data[0:trainSize,:]\n",
    "    test = data[trainSize:len(data),:]\n",
    "    print(train[:5])"
   ]
  },
  {
   "cell_type": "code",
   "execution_count": 27,
   "metadata": {},
   "outputs": [
    {
     "name": "stdout",
     "output_type": "stream",
     "text": [
      "Epoch 1/10\n",
      "902/902 [==============================] - 17s 19ms/step - loss: 0.0013\n",
      "Epoch 2/10\n",
      "902/902 [==============================] - 8s 8ms/step - loss: 3.7143e-04\n",
      "Epoch 3/10\n",
      "902/902 [==============================] - 8s 8ms/step - loss: 2.9430e-04\n",
      "Epoch 4/10\n",
      "902/902 [==============================] - 8s 8ms/step - loss: 2.6841e-04\n",
      "Epoch 5/10\n",
      "902/902 [==============================] - 8s 8ms/step - loss: 2.1994e-04\n",
      "Epoch 6/10\n",
      "902/902 [==============================] - 8s 8ms/step - loss: 1.8959e-04\n",
      "Epoch 7/10\n",
      "902/902 [==============================] - 8s 8ms/step - loss: 1.6505e-04\n",
      "Epoch 8/10\n",
      "902/902 [==============================] - 8s 8ms/step - loss: 1.4914e-04\n",
      "Epoch 9/10\n",
      "902/902 [==============================] - 8s 8ms/step - loss: 1.4290e-04\n",
      "Epoch 10/10\n",
      "902/902 [==============================] - 8s 9ms/step - loss: 1.4420e-04\n",
      "Train Score: 8.48 RMSE\n",
      "Test Score: 10.75 RMSE\n",
      "Epoch 1/10\n",
      "902/902 [==============================] - 18s 20ms/step - loss: 0.0019\n",
      "Epoch 2/10\n",
      "902/902 [==============================] - 8s 9ms/step - loss: 5.9679e-04\n",
      "Epoch 3/10\n",
      "902/902 [==============================] - 8s 9ms/step - loss: 6.0782e-04\n",
      "Epoch 4/10\n",
      "902/902 [==============================] - 8s 9ms/step - loss: 4.7802e-04\n",
      "Epoch 5/10\n",
      "902/902 [==============================] - 8s 9ms/step - loss: 4.2942e-04\n",
      "Epoch 6/10\n",
      "902/902 [==============================] - 8s 9ms/step - loss: 3.7753e-04\n",
      "Epoch 7/10\n",
      "902/902 [==============================] - 8s 9ms/step - loss: 3.7502e-04\n",
      "Epoch 8/10\n",
      "902/902 [==============================] - 8s 9ms/step - loss: 3.6891e-04\n",
      "Epoch 9/10\n",
      "902/902 [==============================] - 8s 9ms/step - loss: 3.2998e-04\n",
      "Epoch 10/10\n",
      "902/902 [==============================] - 8s 9ms/step - loss: 3.0777e-04\n",
      "Train Score: 12.81 RMSE\n",
      "Test Score: 25.44 RMSE\n",
      "Epoch 1/10\n",
      "902/902 [==============================] - 18s 20ms/step - loss: 0.0013\n",
      "Epoch 2/10\n",
      "902/902 [==============================] - 8s 8ms/step - loss: 4.2068e-04\n",
      "Epoch 3/10\n",
      "902/902 [==============================] - 8s 8ms/step - loss: 3.5725e-04\n",
      "Epoch 4/10\n",
      "902/902 [==============================] - 7s 8ms/step - loss: 2.9416e-04\n",
      "Epoch 5/10\n",
      "902/902 [==============================] - 7s 8ms/step - loss: 2.5399e-04\n",
      "Epoch 6/10\n",
      "902/902 [==============================] - 7s 8ms/step - loss: 2.0736e-04\n",
      "Epoch 7/10\n",
      "902/902 [==============================] - 7s 8ms/step - loss: 2.1361e-04\n",
      "Epoch 8/10\n",
      "902/902 [==============================] - 7s 8ms/step - loss: 1.9080e-04\n",
      "Epoch 9/10\n",
      "902/902 [==============================] - 7s 8ms/step - loss: 1.9504e-04\n",
      "Epoch 10/10\n",
      "902/902 [==============================] - 7s 8ms/step - loss: 1.9390e-04\n",
      "Train Score: 9.72 RMSE\n",
      "Test Score: 12.99 RMSE\n",
      "Epoch 1/10\n",
      "902/902 [==============================] - 17s 18ms/step - loss: 0.0023\n",
      "Epoch 2/10\n",
      "902/902 [==============================] - 7s 8ms/step - loss: 0.0010\n",
      "Epoch 3/10\n",
      "902/902 [==============================] - 7s 8ms/step - loss: 8.5183e-04\n",
      "Epoch 4/10\n",
      "902/902 [==============================] - 7s 8ms/step - loss: 7.5662e-04\n",
      "Epoch 5/10\n",
      "902/902 [==============================] - 7s 8ms/step - loss: 6.1430e-04\n",
      "Epoch 6/10\n",
      "902/902 [==============================] - 7s 8ms/step - loss: 7.1880e-04\n",
      "Epoch 7/10\n",
      "902/902 [==============================] - 7s 8ms/step - loss: 5.5887e-04\n",
      "Epoch 8/10\n",
      "902/902 [==============================] - 7s 8ms/step - loss: 6.5658e-04\n",
      "Epoch 9/10\n",
      "902/902 [==============================] - 7s 8ms/step - loss: 5.8419e-04\n",
      "Epoch 10/10\n",
      "902/902 [==============================] - 7s 8ms/step - loss: 4.8651e-04\n",
      "Train Score: 15.74 RMSE\n",
      "Test Score: 13.55 RMSE\n",
      "Epoch 1/10\n",
      "902/902 [==============================] - 17s 19ms/step - loss: 0.0015\n",
      "Epoch 2/10\n",
      "902/902 [==============================] - 7s 8ms/step - loss: 8.6745e-04\n",
      "Epoch 3/10\n",
      "902/902 [==============================] - 7s 8ms/step - loss: 7.2950e-04\n",
      "Epoch 4/10\n",
      "902/902 [==============================] - 7s 8ms/step - loss: 6.4654e-04\n",
      "Epoch 5/10\n",
      "902/902 [==============================] - 7s 8ms/step - loss: 7.1808e-04\n",
      "Epoch 6/10\n",
      "902/902 [==============================] - 7s 8ms/step - loss: 6.3183e-04\n",
      "Epoch 7/10\n",
      "902/902 [==============================] - 7s 8ms/step - loss: 6.2168e-04\n",
      "Epoch 8/10\n",
      "902/902 [==============================] - 7s 8ms/step - loss: 5.5508e-04\n",
      "Epoch 9/10\n",
      "902/902 [==============================] - 7s 8ms/step - loss: 5.2506e-04\n",
      "Epoch 10/10\n",
      "902/902 [==============================] - 7s 8ms/step - loss: 5.5808e-04\n",
      "Train Score: 15.70 RMSE\n",
      "Test Score: 9.84 RMSE\n",
      "Epoch 1/10\n",
      "902/902 [==============================] - 17s 19ms/step - loss: 0.0019\n",
      "Epoch 2/10\n",
      "902/902 [==============================] - 7s 8ms/step - loss: 6.8355e-04\n",
      "Epoch 3/10\n",
      "902/902 [==============================] - 7s 8ms/step - loss: 5.7092e-04\n",
      "Epoch 4/10\n",
      "902/902 [==============================] - 7s 8ms/step - loss: 5.3550e-04\n",
      "Epoch 5/10\n",
      "902/902 [==============================] - 7s 8ms/step - loss: 4.1963e-04\n",
      "Epoch 6/10\n",
      "902/902 [==============================] - 7s 8ms/step - loss: 3.8069e-04\n",
      "Epoch 7/10\n",
      "902/902 [==============================] - 7s 8ms/step - loss: 4.0000e-04\n",
      "Epoch 8/10\n",
      "902/902 [==============================] - 7s 8ms/step - loss: 4.0626e-04\n",
      "Epoch 9/10\n",
      "902/902 [==============================] - 7s 8ms/step - loss: 3.8498e-04\n",
      "Epoch 10/10\n",
      "902/902 [==============================] - 7s 8ms/step - loss: 3.3991e-04\n",
      "Train Score: 14.53 RMSE\n",
      "Test Score: 10.92 RMSE\n"
     ]
    },
    {
     "data": {
      "text/plain": [
       "Text(0.5,1,'Epoch = 10 Train = 14.53 Test = 10.92')"
      ]
     },
     "execution_count": 27,
     "metadata": {},
     "output_type": "execute_result"
    },
    {
     "data": {
      "image/png": "[encoded data removed]",
      "text/plain": [
       "<Figure size 432x288 with 1 Axes>"
      ]
     },
     "metadata": {},
     "output_type": "display_data"
    }
   ],
   "source": [
    "permutations = itertools.permutations(range(numInterval))\n",
    "testBand = []\n",
    "for perm in permutations:\n",
    "    trainSet = generateData(train, perm)\n",
    "    trainSet = np.reshape(trainSet, trainSet.shape)\n",
    "    shuffleData = np.vstack((trainSet, test))\n",
    "\n",
    "    lookBack = 3\n",
    "    trainX, trainY = create_dataset(trainSet, lookBack)\n",
    "    testX, testY = create_dataset(test, lookBack)\n",
    "\n",
    "    # trainX = np.reshape(trainX, (trainX.shape[0], 2, trainX.shape[1]))\n",
    "    # testX = np.reshape(testX, (testX.shape[0], 2, testX.shape[1]))\n",
    "\n",
    "    units = 100\n",
    "    drop = 0.2\n",
    "    epoch = 10\n",
    "\n",
    "    model = Sequential()\n",
    "    model.add(LSTM(units, input_shape=(lookBack, 2)))\n",
    "    model.add(Dense(2))\n",
    "    model.compile(loss='mean_squared_error', optimizer='nadam')\n",
    "#     model.summary()\n",
    "#     tensorboard = TensorBoard(log_dir=\"logs/{}\".format(time()))\n",
    "#     model.fit(trainX, trainY, epochs=epoch, batch_size=1, verbose=1, callbacks=[tensorboard])\n",
    "    model.fit(trainX, trainY, epochs=epoch, batch_size=1, verbose=1)\n",
    "\n",
    "    trainPredict = model.predict(trainX)\n",
    "    testPredict = model.predict(testX)\n",
    "\n",
    "    trainPredict = scaler.inverse_transform(trainPredict)\n",
    "    trainY = scaler.inverse_transform(trainY)\n",
    "    testPredict = scaler.inverse_transform(testPredict)\n",
    "    testY = scaler.inverse_transform(testY)\n",
    "\n",
    "    trainScore = math.sqrt(mean_squared_error(trainY, trainPredict))\n",
    "    print('Train Score: %.2f RMSE' % (trainScore))\n",
    "    testScore = math.sqrt(mean_squared_error(testY, testPredict))\n",
    "    print('Test Score: %.2f RMSE' % (testScore))\n",
    "\n",
    "    trainPredictPlot = np.empty_like(shuffleData)\n",
    "    trainPredictPlot[:, :] = np.nan\n",
    "    trainPredictPlot[lookBack:len(trainPredict)+lookBack, :] = trainPredict\n",
    "\n",
    "    testPredictPlot = np.empty_like(shuffleData)\n",
    "    testPredictPlot[:, :] = np.nan\n",
    "    testPredictPlot[len(trainPredict)+(lookBack*2)+1:len(data)-1, :] = testPredict\n",
    "    testBand.append(testPredict)\n",
    "#     testPredictPlot[len(trainPredict)+(lookBack*2)+1:len(data)-1, :] = testPredict\n",
    "\n",
    "    col = 0\n",
    "    testPlot = np.empty_like(trainSet)\n",
    "    testPlot[:, :] = 0\n",
    "    testPlot = np.vstack((testPlot, test))\n",
    "#     plt.plot(scaler.inverse_transform(shuffleData)[:,col])\n",
    "#     plt.plot(trainPredictPlot[:,col], color = 'orange')\n",
    "#     plt.plot(testPredictPlot[:,col], color = 'green')\n",
    "plt.plot(scaler.inverse_transform(testPlot)[:,col], color = 'blue')\n",
    "plt.title('Epoch = %d Train = %.2f Test = %.2f' % (epoch, trainScore, testScore))"
   ]
  },
  {
   "cell_type": "code",
   "execution_count": 20,
   "metadata": {},
   "outputs": [],
   "source": [
    "testBand = np.array(testBand)"
   ]
  },
  {
   "cell_type": "code",
   "execution_count": 21,
   "metadata": {},
   "outputs": [],
   "source": [
    "# temp.shape"
   ]
  },
  {
   "cell_type": "code",
   "execution_count": 22,
   "metadata": {},
   "outputs": [],
   "source": [
    "testBand = np.reshape(testBand, (testBand.shape))\n",
    "# print(temp)"
   ]
  },
  {
   "cell_type": "code",
   "execution_count": 23,
   "metadata": {},
   "outputs": [],
   "source": [
    "# temp[:,0,:]"
   ]
  },
  {
   "cell_type": "code",
   "execution_count": 24,
   "metadata": {},
   "outputs": [
    {
     "name": "stdout",
     "output_type": "stream",
     "text": [
      "[396.00574 395.12387]\n",
      "[1.7265694 2.095474 ]\n"
     ]
    }
   ],
   "source": [
    "print(np.mean(testBand[:,0,:], axis = 0))\n",
    "print(np.std(testBand[:,0,:], axis = 0))"
   ]
  },
  {
   "cell_type": "code",
   "execution_count": 15,
   "metadata": {},
   "outputs": [],
   "source": [
    "z_alpha = 1.96\n",
    "n = factorial(numInterval)\n",
    "\n",
    "confInterval = []\n",
    "\n",
    "for i in range(testBand.shape[1]):\n",
    "    X = testBand[:, i, :]\n",
    "    xBar = np.mean(X, axis = 0)\n",
    "    s = np.std(X, axis = 0)\n",
    "    l = xBar - 1.96*s/(n**0,.5)\n",
    "    r = xBar + 1.96*s/(n**0,.5)\n",
    "    pair = [l, r]\n",
    "    confInterval.append(pair)"
   ]
  },
  {
   "cell_type": "code",
   "execution_count": 16,
   "metadata": {},
   "outputs": [],
   "source": [
    "# confInterval"
   ]
  },
  {
   "cell_type": "code",
   "execution_count": 18,
   "metadata": {},
   "outputs": [
    {
     "name": "stdout",
     "output_type": "stream",
     "text": [
      "[50 51 52 53 54 55 56 57 58 59 60]\n"
     ]
    },
    {
     "data": {
      "image/png": "[encoded data removed]",
      "text/plain": [
       "<Figure size 432x288 with 1 Axes>"
      ]
     },
     "metadata": {},
     "output_type": "display_data"
    }
   ],
   "source": [
    "col = 0\n",
    "offset = len(trainPredict)+(lookBack*2)+2\n",
    "lower = []\n",
    "upper = []\n",
    "for i in range(len(confInterval)):\n",
    "#     X = [i, i]\n",
    "#     Y = [confInterval[i][0][0], confInterval[i][1][0]]\n",
    "    lower.append(confInterval[i][0][0])\n",
    "    upper.append(confInterval[i][1][0])\n",
    "# XLower = np.array(range(offset+1, data.shape[0], blockSize//n))\n",
    "# XUpper = np.array(range(offset+1, data.shape[0], blockSize//n))\n",
    "XLower = np.array(range(offset+1, offset+1+testBand.shape[1]))\n",
    "XUpper = np.array(range(offset+1, offset+1+testBand.shape[1]))\n",
    "print(XLower)\n",
    "# print(np.array(upper)+offset)\n",
    "# plt.plot(lower, XLower)\n",
    "# plt.plot(upper, XUpper)\n",
    "plt.plot(XLower, lower)\n",
    "plt.plot(XUpper, upper)\n",
    "plt.show()"
   ]
  },
  {
   "cell_type": "code",
   "execution_count": 51,
   "metadata": {},
   "outputs": [],
   "source": [
    "# np.array(range(offset+1, data.shape[0], blockSize//n))"
   ]
  },
  {
   "cell_type": "code",
   "execution_count": null,
   "metadata": {},
   "outputs": [],
   "source": []
  }
 ],
 "metadata": {
  "kernelspec": {
   "display_name": "Python 3",
   "language": "python",
   "name": "python3"
  },
  "language_info": {
   "codemirror_mode": {
    "name": "ipython",
    "version": 3
   },
   "file_extension": ".py",
   "mimetype": "text/x-python",
   "name": "python",
   "nbconvert_exporter": "python",
   "pygments_lexer": "ipython3",
   "version": "3.5.2"
  }
 },
 "nbformat": 4,
 "nbformat_minor": 2
}
