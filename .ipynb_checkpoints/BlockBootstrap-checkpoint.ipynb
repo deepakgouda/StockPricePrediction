{
 "cells": [
  {
   "cell_type": "code",
   "execution_count": 1,
   "metadata": {},
   "outputs": [
    {
     "name": "stderr",
     "output_type": "stream",
     "text": [
      "Using TensorFlow backend.\n"
     ]
    }
   ],
   "source": [
    "import numpy as np\n",
    "import math\n",
    "import matplotlib.pyplot as plt\n",
    "from pandas import read_csv\n",
    "from keras.models import Sequential\n",
    "from keras.layers import Dense, Dropout\n",
    "from keras.layers import LSTM\n",
    "from sklearn.preprocessing import MinMaxScaler\n",
    "from sklearn.metrics import mean_squared_error\n",
    "from keras.callbacks import TensorBoard\n",
    "from time import time\n",
    "import itertools\n",
    "from math import factorial"
   ]
  },
  {
   "cell_type": "code",
   "execution_count": 2,
   "metadata": {},
   "outputs": [],
   "source": [
    "def create_dataset(dataset, look_back = 1):\n",
    "    dataX, dataY = [], []\n",
    "    for i in range(len(dataset)-look_back-1):\n",
    "        a = dataset[i:(i+look_back), :]\n",
    "        dataX.append(a)\n",
    "        dataY.append(dataset[i + look_back, :])\n",
    "    return np.array(dataX), np.array(dataY)"
   ]
  },
  {
   "cell_type": "code",
   "execution_count": 3,
   "metadata": {},
   "outputs": [],
   "source": [
    "def generateData(data, perm):\n",
    "    n = data.shape[0]\n",
    "    blockSize = n // len(perm)\n",
    "    dataSet = np.zeros(data[0].shape)\n",
    "    for i in perm:\n",
    "        block = data[i*blockSize:(i+1)*blockSize]\n",
    "#         print(block, end='\\n\\n')\n",
    "        dataSet = np.vstack((dataSet, block))\n",
    "    dataSet = dataSet[1:]\n",
    "    return dataSet"
   ]
  },
  {
   "cell_type": "code",
   "execution_count": 4,
   "metadata": {},
   "outputs": [
    {
     "name": "stdout",
     "output_type": "stream",
     "text": [
      "       open     close\n",
      "0  390.4551  393.0777\n",
      "1  389.5892  391.6012\n",
      "2  391.2659  390.7403\n",
      "3  390.4551  391.8214\n",
      "4  390.2549  394.3039\n",
      "(60, 2)\n"
     ]
    }
   ],
   "source": [
    "# dataframe = read_csv('sp500.csv')\n",
    "fields = ['open', 'close']\n",
    "dataframe = read_csv('GOOGL_data.csv', skipinitialspace = True, squeeze = True, usecols = fields)\n",
    "\n",
    "print(dataframe.head())\n",
    "data = np.array(dataframe)[:60]\n",
    "print(data.shape)"
   ]
  },
  {
   "cell_type": "code",
   "execution_count": 5,
   "metadata": {},
   "outputs": [
    {
     "name": "stdout",
     "output_type": "stream",
     "text": [
      "[[0.13868576 0.20343753]\n",
      " [0.1168138  0.17259087]\n",
      " [0.15916594 0.15460517]\n",
      " [0.13868576 0.17719123]\n",
      " [0.13362887 0.22905498]]\n"
     ]
    }
   ],
   "source": [
    "# dataset = dataset.astype('float32')\n",
    "\n",
    "scaler = MinMaxScaler(feature_range=(0, 1))\n",
    "data = scaler.fit_transform(data)\n",
    "print(data[:5])"
   ]
  },
  {
   "cell_type": "code",
   "execution_count": 6,
   "metadata": {},
   "outputs": [
    {
     "name": "stdout",
     "output_type": "stream",
     "text": [
      "45\n",
      "15\n"
     ]
    }
   ],
   "source": [
    "split = 0.75\n",
    "trainSize = int(len(data)*split)\n",
    "testSize = len(data)-trainSize\n",
    "print(trainSize)\n",
    "print(testSize)"
   ]
  },
  {
   "cell_type": "code",
   "execution_count": 7,
   "metadata": {},
   "outputs": [
    {
     "name": "stdout",
     "output_type": "stream",
     "text": [
      "15\n"
     ]
    }
   ],
   "source": [
    "numInterval = 3\n",
    "blockSize = trainSize//numInterval\n",
    "print(blockSize)\n"
   ]
  },
  {
   "cell_type": "code",
   "execution_count": 8,
   "metadata": {},
   "outputs": [
    {
     "name": "stdout",
     "output_type": "stream",
     "text": [
      "[[0.13868576 0.20343753]\n",
      " [0.1168138  0.17259087]\n",
      " [0.15916594 0.15460517]\n",
      " [0.13868576 0.17719123]\n",
      " [0.13362887 0.22905498]]\n"
     ]
    }
   ],
   "source": [
    "    train = data[0:trainSize,:]\n",
    "    test = data[trainSize:len(data),:]\n",
    "    print(train[:5])"
   ]
  },
  {
   "cell_type": "code",
   "execution_count": 10,
   "metadata": {},
   "outputs": [
    {
     "name": "stdout",
     "output_type": "stream",
     "text": [
      "Epoch 1/1\n",
      "41/41 [==============================] - 1s 19ms/step - loss: 0.0836\n",
      "Train Score: 6.12 RMSE\n",
      "Test Score: 8.72 RMSE\n",
      "Epoch 1/1\n",
      "41/41 [==============================] - 1s 22ms/step - loss: 0.0399\n",
      "Train Score: 6.05 RMSE\n",
      "Test Score: 5.74 RMSE\n",
      "Epoch 1/1\n",
      "41/41 [==============================] - 1s 22ms/step - loss: 0.0334\n",
      "Train Score: 5.61 RMSE\n",
      "Test Score: 6.26 RMSE\n",
      "Epoch 1/1\n",
      "41/41 [==============================] - 1s 24ms/step - loss: 0.0338\n",
      "Train Score: 4.40 RMSE\n",
      "Test Score: 7.42 RMSE\n",
      "Epoch 1/1\n",
      "41/41 [==============================] - 1s 26ms/step - loss: 0.0383\n",
      "Train Score: 6.85 RMSE\n",
      "Test Score: 5.00 RMSE\n",
      "Epoch 1/1\n",
      "41/41 [==============================] - 1s 27ms/step - loss: 0.0655\n",
      "Train Score: 7.95 RMSE\n",
      "Test Score: 10.50 RMSE\n"
     ]
    },
    {
     "data": {
      "image/png": "[encoded data removed]",
      "text/plain": [
       "<Figure size 432x288 with 1 Axes>"
      ]
     },
     "metadata": {},
     "output_type": "display_data"
    }
   ],
   "source": [
    "# print(train, end=\"\\n\\n\")\n",
    "permutations = itertools.permutations(range(numInterval))\n",
    "testBand = []\n",
    "for perm in permutations:\n",
    "    trainSet = generateData(train, perm)\n",
    "    trainSet = np.reshape(trainSet, trainSet.shape)\n",
    "    shuffleData = np.vstack((trainSet, test))\n",
    "\n",
    "    lookBack = 3\n",
    "    trainX, trainY = create_dataset(trainSet, lookBack)\n",
    "    testX, testY = create_dataset(test, lookBack)\n",
    "\n",
    "    # trainX = np.reshape(trainX, (trainX.shape[0], 2, trainX.shape[1]))\n",
    "    # testX = np.reshape(testX, (testX.shape[0], 2, testX.shape[1]))\n",
    "\n",
    "    units = 100\n",
    "    drop = 0.2\n",
    "    epoch = 1\n",
    "\n",
    "    model = Sequential()\n",
    "    model.add(LSTM(units, input_shape=(lookBack, 2)))\n",
    "    # model.add(Dropout(drop))\n",
    "    model.add(Dense(2))\n",
    "    model.compile(loss='mean_squared_error', optimizer='nadam')\n",
    "#     model.summary()\n",
    "#     tensorboard = TensorBoard(log_dir=\"logs/{}\".format(time()))\n",
    "#     model.fit(trainX, trainY, epochs=epoch, batch_size=1, verbose=1, callbacks=[tensorboard])\n",
    "    model.fit(trainX, trainY, epochs=epoch, batch_size=1, verbose=1)\n",
    "\n",
    "    trainPredict = model.predict(trainX)\n",
    "    testPredict = model.predict(testX)\n",
    "\n",
    "    trainPredict = scaler.inverse_transform(trainPredict)\n",
    "    trainY = scaler.inverse_transform(trainY)\n",
    "    testPredict = scaler.inverse_transform(testPredict)\n",
    "    testY = scaler.inverse_transform(testY)\n",
    "\n",
    "    trainScore = math.sqrt(mean_squared_error(trainY, trainPredict))\n",
    "    print('Train Score: %.2f RMSE' % (trainScore))\n",
    "    testScore = math.sqrt(mean_squared_error(testY, testPredict))\n",
    "    print('Test Score: %.2f RMSE' % (testScore))\n",
    "\n",
    "    trainPredictPlot = np.empty_like(shuffleData)\n",
    "    trainPredictPlot[:, :] = np.nan\n",
    "    trainPredictPlot[lookBack:len(trainPredict)+lookBack, :] = trainPredict\n",
    "\n",
    "    testPredictPlot = np.empty_like(shuffleData)\n",
    "    testPredictPlot[:, :] = np.nan\n",
    "    testPredictPlot[len(trainPredict)+(lookBack*2)+1:len(data)-1, :] = testPredict\n",
    "    testBand.append(testPredict)\n",
    "#     testPredictPlot[len(trainPredict)+(lookBack*2)+1:len(data)-1, :] = testPredict\n",
    "\n",
    "    col = 0\n",
    "    testPlot = np.empty_like(trainSet)\n",
    "    testPlot[:, :] = 0\n",
    "    testPlot = np.vstack((testPlot, test))\n",
    "#     plt.plot(scaler.inverse_transform(shuffleData)[:,col])\n",
    "#     plt.plot(trainPredictPlot[:,col], color = 'orange')\n",
    "    plt.plot(testPredictPlot[:,col], color = 'green')\n",
    "    plt.plot(scaler.inverse_transform(testPlot)[:,col], color = 'blue', linewidth = 0.3)\n",
    "#     plt.title('Units = %d Dropout = %.2f Epoch = %d Split = %d%% Train = %.2f Test = %.2f' % \n",
    "#             (units, drop, epoch, split*100, trainScore, testScore))\n",
    "# plt.show()"
   ]
  },
  {
   "cell_type": "code",
   "execution_count": 21,
   "metadata": {},
   "outputs": [],
   "source": [
    "temp = np.array(testBand)"
   ]
  },
  {
   "cell_type": "code",
   "execution_count": 27,
   "metadata": {},
   "outputs": [
    {
     "data": {
      "text/plain": [
       "(6, 11, 2)"
      ]
     },
     "execution_count": 27,
     "metadata": {},
     "output_type": "execute_result"
    }
   ],
   "source": [
    "temp.shape"
   ]
  },
  {
   "cell_type": "code",
   "execution_count": 22,
   "metadata": {},
   "outputs": [
    {
     "name": "stdout",
     "output_type": "stream",
     "text": [
      "[[[396.51242 394.03384]\n",
      "  [395.1623  393.1542 ]\n",
      "  [395.30927 394.1223 ]\n",
      "  [397.7304  396.86194]\n",
      "  [400.9825  399.8948 ]\n",
      "  [402.30304 401.21512]\n",
      "  [403.24713 401.66068]\n",
      "  [402.90182 401.53665]\n",
      "  [402.659   401.96448]\n",
      "  [404.56305 403.85468]\n",
      "  [406.37582 405.53476]]\n",
      "\n",
      " [[398.00433 397.00937]\n",
      "  [397.11258 396.20117]\n",
      "  [398.22598 397.56055]\n",
      "  [401.58044 401.06   ]\n",
      "  [405.00266 404.35394]\n",
      "  [406.50467 405.85333]\n",
      "  [406.95752 406.1554 ]\n",
      "  [406.87155 406.1086 ]\n",
      "  [407.42352 406.84726]\n",
      "  [409.6444  409.0679 ]\n",
      "  [411.54895 410.8768 ]]\n",
      "\n",
      " [[396.73163 396.70898]\n",
      "  [395.68802 396.2518 ]\n",
      "  [396.929   396.69788]\n",
      "  [400.6121  400.22348]\n",
      "  [403.8677  403.26093]\n",
      "  [405.44937 404.51315]\n",
      "  [405.8327  405.05887]\n",
      "  [405.6564  405.16666]\n",
      "  [406.33466 405.42755]\n",
      "  [408.75336 407.6096 ]\n",
      "  [410.57806 409.5276 ]]\n",
      "\n",
      " [[395.2543  395.31732]\n",
      "  [394.1849  394.2782 ]\n",
      "  [395.16553 395.26852]\n",
      "  [398.27637 398.3687 ]\n",
      "  [401.63046 401.8725 ]\n",
      "  [403.12793 403.37857]\n",
      "  [403.6692  403.92996]\n",
      "  [403.4745  403.7985 ]\n",
      "  [403.90057 404.21426]\n",
      "  [406.0828  406.38345]\n",
      "  [407.94794 408.34692]]\n",
      "\n",
      " [[398.15195 398.23352]\n",
      "  [396.50586 397.20166]\n",
      "  [397.58334 397.92514]\n",
      "  [401.2479  401.99265]\n",
      "  [405.8723  406.5045 ]\n",
      "  [407.85782 408.29874]\n",
      "  [408.7633  409.19266]\n",
      "  [408.42694 409.16974]\n",
      "  [408.7111  409.3778 ]\n",
      "  [411.47644 412.1499 ]\n",
      "  [414.0209  414.82025]]\n",
      "\n",
      " [[393.29922 392.986  ]\n",
      "  [392.7732  392.4529 ]\n",
      "  [393.4008  393.32053]\n",
      "  [395.71332 395.76834]\n",
      "  [397.93115 398.36792]\n",
      "  [398.8882  399.4608 ]\n",
      "  [399.20657 399.76508]\n",
      "  [399.1784  399.7656 ]\n",
      "  [399.51862 400.2186 ]\n",
      "  [401.00125 401.809  ]\n",
      "  [402.2721  403.25067]]]\n"
     ]
    }
   ],
   "source": [
    "temp = np.reshape(temp, (temp.shape))\n",
    "print(temp)"
   ]
  },
  {
   "cell_type": "code",
   "execution_count": 25,
   "metadata": {},
   "outputs": [
    {
     "data": {
      "text/plain": [
       "array([[396.51242, 394.03384],\n",
       "       [398.00433, 397.00937],\n",
       "       [396.73163, 396.70898],\n",
       "       [395.2543 , 395.31732],\n",
       "       [398.15195, 398.23352],\n",
       "       [393.29922, 392.986  ]], dtype=float32)"
      ]
     },
     "execution_count": 25,
     "metadata": {},
     "output_type": "execute_result"
    }
   ],
   "source": [
    "temp[:,0,:]"
   ]
  },
  {
   "cell_type": "code",
   "execution_count": 26,
   "metadata": {},
   "outputs": [
    {
     "name": "stdout",
     "output_type": "stream",
     "text": [
      "[396.32565 395.71484]\n",
      "[1.666337  1.7999194]\n"
     ]
    }
   ],
   "source": [
    "print(np.mean(temp[:,0,:], axis = 0))\n",
    "print(np.std(temp[:,0,:], axis = 0))"
   ]
  },
  {
   "cell_type": "code",
   "execution_count": 29,
   "metadata": {},
   "outputs": [],
   "source": [
    "z_alpha = 1.96\n",
    "n = factorial(numInterval)\n",
    "\n",
    "confInterval = []\n",
    "\n",
    "for i in range(temp.shape[1]):\n",
    "    temp1 = temp[:, i, :]\n",
    "    xBar = np.mean(temp1, axis = 0)\n",
    "    s = np.std(temp1, axis = 0)\n",
    "    l = xBar - 1.96*s/(n**0,.5)\n",
    "    r = xBar + 1.96*s/(n**0,.5)\n",
    "    pair = [l, r]\n",
    "    confInterval.append(pair)"
   ]
  },
  {
   "cell_type": "code",
   "execution_count": 30,
   "metadata": {},
   "outputs": [
    {
     "data": {
      "text/plain": [
       "[[array([393.05963254, 388.65915966]), array([399.59167361, 402.77052784])],\n",
       " [array([392.40718818, 388.08906031]), array([398.06839776, 401.75761938])],\n",
       " [array([392.88255763, 389.08960581]), array([399.32209325, 402.54204702])],\n",
       " [array([395.03382492, 390.26628494]), array([403.35307693, 407.8254509 ])],\n",
       " [array([397.27485514, 391.7345953 ]), array([407.82078695, 413.01705265])],\n",
       " [array([398.19520426, 392.39720249]), array([409.84849691, 415.1760397 ])],\n",
       " [array([398.6144309 , 392.35812664]), array([410.611094  , 416.22933674])],\n",
       " [array([398.52375793, 392.26318932]), array([410.31285095, 416.25200844])],\n",
       " [array([398.67404032, 392.82598495]), array([410.84182882, 416.5239296 ])],\n",
       " [array([400.09141874, 393.59846497]), array([413.74897432, 420.02635193])],\n",
       " [array([401.31900215, 394.17148972]), array([416.26235771, 423.28090286])]]"
      ]
     },
     "execution_count": 30,
     "metadata": {},
     "output_type": "execute_result"
    }
   ],
   "source": [
    "confInterval"
   ]
  },
  {
   "cell_type": "code",
   "execution_count": 32,
   "metadata": {},
   "outputs": [
    {
     "name": "stdout",
     "output_type": "stream",
     "text": [
      "[50 51 52 53 54 55 56 57 58 59 60]\n"
     ]
    },
    {
     "data": {
      "image/png": "[encoded data removed]",
      "text/plain": [
       "<Figure size 432x288 with 1 Axes>"
      ]
     },
     "metadata": {},
     "output_type": "display_data"
    }
   ],
   "source": [
    "col = 0\n",
    "offset = len(trainPredict)+(lookBack*2)+2\n",
    "lower = []\n",
    "upper = []\n",
    "for i in range(len(confInterval)):\n",
    "#     X = [i, i]\n",
    "#     Y = [confInterval[i][0][0], confInterval[i][1][0]]\n",
    "    lower.append(confInterval[i][0][0])\n",
    "    upper.append(confInterval[i][1][0])\n",
    "# XLower = np.array(range(offset+1, data.shape[0], blockSize//n))\n",
    "# XUpper = np.array(range(offset+1, data.shape[0], blockSize//n))\n",
    "XLower = np.array(range(offset+1, offset+1+temp.shape[1]))\n",
    "XUpper = np.array(range(offset+1, offset+1+temp.shape[1]))\n",
    "print(XLower)\n",
    "# print(np.array(upper)+offset)\n",
    "# plt.plot(lower, XLower)\n",
    "# plt.plot(upper, XUpper)\n",
    "plt.plot(XLower, lower)\n",
    "plt.plot(XUpper, upper)\n",
    "plt.show()"
   ]
  },
  {
   "cell_type": "code",
   "execution_count": 41,
   "metadata": {},
   "outputs": [
    {
     "data": {
      "text/plain": [
       "array([ 947,  999, 1051, 1103, 1155, 1207])"
      ]
     },
     "execution_count": 41,
     "metadata": {},
     "output_type": "execute_result"
    }
   ],
   "source": [
    "# np.array(range(offset+1, data.shape[0], blockSize//n))"
   ]
  },
  {
   "cell_type": "code",
   "execution_count": null,
   "metadata": {},
   "outputs": [],
   "source": []
  }
 ],
 "metadata": {
  "kernelspec": {
   "display_name": "Python 3",
   "language": "python",
   "name": "python3"
  },
  "language_info": {
   "codemirror_mode": {
    "name": "ipython",
    "version": 3
   },
   "file_extension": ".py",
   "mimetype": "text/x-python",
   "name": "python",
   "nbconvert_exporter": "python",
   "pygments_lexer": "ipython3",
   "version": "3.5.2"
  }
 },
 "nbformat": 4,
 "nbformat_minor": 2
}
